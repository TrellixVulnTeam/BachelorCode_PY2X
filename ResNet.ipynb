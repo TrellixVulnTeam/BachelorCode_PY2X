{
 "cells": [
  {
   "cell_type": "markdown",
   "source": [
    "# ResNet kvantizácia\n",
    "\n",
    "Podľa: https://nervanasystems.github.io/distiller/prepare_model_quant.html\n",
    "\n",
    "1. Replace direct tensor operations with modules\n",
    "\n",
    "* Replace re-used modules with dedicated instances\n",
    "\n",
    "* Replace torch.nn.functional calls with equivalent modules\n",
    "\n",
    "* Special cases - replace modules that aren't quantize-able with quantize-able variants\n"
   ],
   "metadata": {
    "collapsed": false,
    "pycharm": {
     "name": "#%% md\n"
    }
   }
  },
  {
   "cell_type": "code",
   "execution_count": 4,
   "metadata": {
    "collapsed": true,
    "pycharm": {
     "is_executing": false,
     "name": "#%%\n"
    }
   },
   "outputs": [],
   "source": [
    "import torch\n",
    "import torch.nn as nn"
   ]
  },
  {
   "cell_type": "code",
   "execution_count": 5,
   "outputs": [
    {
     "name": "stderr",
     "text": [
      "Using cache found in /home/bohumil/.cache/torch/hub/pytorch_vision_v0.5.0\n"
     ],
     "output_type": "stream"
    },
    {
     "data": {
      "text/plain": "ResNet(\n  (conv1): Conv2d(3, 64, kernel_size=(7, 7), stride=(2, 2), padding=(3, 3), bias=False)\n  (bn1): BatchNorm2d(64, eps=1e-05, momentum=0.1, affine=True, track_running_stats=True)\n  (relu): ReLU(inplace=True)\n  (maxpool): MaxPool2d(kernel_size=3, stride=2, padding=1, dilation=1, ceil_mode=False)\n  (layer1): Sequential(\n    (0): BasicBlock(\n      (conv1): Conv2d(64, 64, kernel_size=(3, 3), stride=(1, 1), padding=(1, 1), bias=False)\n      (bn1): BatchNorm2d(64, eps=1e-05, momentum=0.1, affine=True, track_running_stats=True)\n      (relu): ReLU(inplace=True)\n      (conv2): Conv2d(64, 64, kernel_size=(3, 3), stride=(1, 1), padding=(1, 1), bias=False)\n      (bn2): BatchNorm2d(64, eps=1e-05, momentum=0.1, affine=True, track_running_stats=True)\n    )\n    (1): BasicBlock(\n      (conv1): Conv2d(64, 64, kernel_size=(3, 3), stride=(1, 1), padding=(1, 1), bias=False)\n      (bn1): BatchNorm2d(64, eps=1e-05, momentum=0.1, affine=True, track_running_stats=True)\n      (relu): ReLU(inplace=True)\n      (conv2): Conv2d(64, 64, kernel_size=(3, 3), stride=(1, 1), padding=(1, 1), bias=False)\n      (bn2): BatchNorm2d(64, eps=1e-05, momentum=0.1, affine=True, track_running_stats=True)\n    )\n  )\n  (layer2): Sequential(\n    (0): BasicBlock(\n      (conv1): Conv2d(64, 128, kernel_size=(3, 3), stride=(2, 2), padding=(1, 1), bias=False)\n      (bn1): BatchNorm2d(128, eps=1e-05, momentum=0.1, affine=True, track_running_stats=True)\n      (relu): ReLU(inplace=True)\n      (conv2): Conv2d(128, 128, kernel_size=(3, 3), stride=(1, 1), padding=(1, 1), bias=False)\n      (bn2): BatchNorm2d(128, eps=1e-05, momentum=0.1, affine=True, track_running_stats=True)\n      (downsample): Sequential(\n        (0): Conv2d(64, 128, kernel_size=(1, 1), stride=(2, 2), bias=False)\n        (1): BatchNorm2d(128, eps=1e-05, momentum=0.1, affine=True, track_running_stats=True)\n      )\n    )\n    (1): BasicBlock(\n      (conv1): Conv2d(128, 128, kernel_size=(3, 3), stride=(1, 1), padding=(1, 1), bias=False)\n      (bn1): BatchNorm2d(128, eps=1e-05, momentum=0.1, affine=True, track_running_stats=True)\n      (relu): ReLU(inplace=True)\n      (conv2): Conv2d(128, 128, kernel_size=(3, 3), stride=(1, 1), padding=(1, 1), bias=False)\n      (bn2): BatchNorm2d(128, eps=1e-05, momentum=0.1, affine=True, track_running_stats=True)\n    )\n  )\n  (layer3): Sequential(\n    (0): BasicBlock(\n      (conv1): Conv2d(128, 256, kernel_size=(3, 3), stride=(2, 2), padding=(1, 1), bias=False)\n      (bn1): BatchNorm2d(256, eps=1e-05, momentum=0.1, affine=True, track_running_stats=True)\n      (relu): ReLU(inplace=True)\n      (conv2): Conv2d(256, 256, kernel_size=(3, 3), stride=(1, 1), padding=(1, 1), bias=False)\n      (bn2): BatchNorm2d(256, eps=1e-05, momentum=0.1, affine=True, track_running_stats=True)\n      (downsample): Sequential(\n        (0): Conv2d(128, 256, kernel_size=(1, 1), stride=(2, 2), bias=False)\n        (1): BatchNorm2d(256, eps=1e-05, momentum=0.1, affine=True, track_running_stats=True)\n      )\n    )\n    (1): BasicBlock(\n      (conv1): Conv2d(256, 256, kernel_size=(3, 3), stride=(1, 1), padding=(1, 1), bias=False)\n      (bn1): BatchNorm2d(256, eps=1e-05, momentum=0.1, affine=True, track_running_stats=True)\n      (relu): ReLU(inplace=True)\n      (conv2): Conv2d(256, 256, kernel_size=(3, 3), stride=(1, 1), padding=(1, 1), bias=False)\n      (bn2): BatchNorm2d(256, eps=1e-05, momentum=0.1, affine=True, track_running_stats=True)\n    )\n  )\n  (layer4): Sequential(\n    (0): BasicBlock(\n      (conv1): Conv2d(256, 512, kernel_size=(3, 3), stride=(2, 2), padding=(1, 1), bias=False)\n      (bn1): BatchNorm2d(512, eps=1e-05, momentum=0.1, affine=True, track_running_stats=True)\n      (relu): ReLU(inplace=True)\n      (conv2): Conv2d(512, 512, kernel_size=(3, 3), stride=(1, 1), padding=(1, 1), bias=False)\n      (bn2): BatchNorm2d(512, eps=1e-05, momentum=0.1, affine=True, track_running_stats=True)\n      (downsample): Sequential(\n        (0): Conv2d(256, 512, kernel_size=(1, 1), stride=(2, 2), bias=False)\n        (1): BatchNorm2d(512, eps=1e-05, momentum=0.1, affine=True, track_running_stats=True)\n      )\n    )\n    (1): BasicBlock(\n      (conv1): Conv2d(512, 512, kernel_size=(3, 3), stride=(1, 1), padding=(1, 1), bias=False)\n      (bn1): BatchNorm2d(512, eps=1e-05, momentum=0.1, affine=True, track_running_stats=True)\n      (relu): ReLU(inplace=True)\n      (conv2): Conv2d(512, 512, kernel_size=(3, 3), stride=(1, 1), padding=(1, 1), bias=False)\n      (bn2): BatchNorm2d(512, eps=1e-05, momentum=0.1, affine=True, track_running_stats=True)\n    )\n  )\n  (avgpool): AdaptiveAvgPool2d(output_size=(1, 1))\n  (fc): Linear(in_features=512, out_features=1000, bias=True)\n)"
     },
     "metadata": {},
     "output_type": "execute_result",
     "execution_count": 5
    }
   ],
   "source": [
    "model = torch.hub.load('pytorch/vision:v0.5.0', 'resnet18', pretrained=True)\n",
    "model"
   ],
   "metadata": {
    "collapsed": false,
    "pycharm": {
     "name": "#%%\n",
     "is_executing": false
    }
   }
  },
  {
   "cell_type": "markdown",
   "source": [
    "Príprava pre dataset"
   ],
   "metadata": {
    "collapsed": false,
    "pycharm": {
     "name": "#%% md\n"
    }
   }
  },
  {
   "cell_type": "code",
   "execution_count": 6,
   "outputs": [
    {
     "traceback": [
      "\u001b[0;31m---------------------------------------------------------------------------\u001b[0m",
      "\u001b[0;31mRuntimeError\u001b[0m                              Traceback (most recent call last)",
      "\u001b[0;32m<ipython-input-6-3b94bd5a895c>\u001b[0m in \u001b[0;36m<module>\u001b[0;34m\u001b[0m\n\u001b[0;32m----> 1\u001b[0;31m \u001b[0;32mimport\u001b[0m \u001b[0mdistiller\u001b[0m\u001b[0;34m\u001b[0m\u001b[0;34m\u001b[0m\u001b[0m\n\u001b[0m\u001b[1;32m      2\u001b[0m \u001b[0;31m#import distiller.apputils.data_loaders as loader\u001b[0m\u001b[0;34m\u001b[0m\u001b[0;34m\u001b[0m\u001b[0;34m\u001b[0m\u001b[0m\n\u001b[1;32m      3\u001b[0m \u001b[0;34m\u001b[0m\u001b[0m\n\u001b[1;32m      4\u001b[0m \u001b[0;31m#imagenet_path = \"/home/bohumil/FIIT/BP/BP/Zdroje_kod/imagenet\"\u001b[0m\u001b[0;34m\u001b[0m\u001b[0;34m\u001b[0m\u001b[0;34m\u001b[0m\u001b[0m\n\u001b[1;32m      5\u001b[0m \u001b[0;31m#test_dataset = loader.imagenet_get_datasets(imagenet_path,False,True);\u001b[0m\u001b[0;34m\u001b[0m\u001b[0;34m\u001b[0m\u001b[0;34m\u001b[0m\u001b[0m\n",
      "\u001b[0;32m~/FIIT/BP/BP/Zdroje_kod/distiller/distiller/__init__.py\u001b[0m in \u001b[0;36m<module>\u001b[0;34m\u001b[0m\n\u001b[1;32m     18\u001b[0m \u001b[0;32mfrom\u001b[0m \u001b[0;34m.\u001b[0m\u001b[0mutils\u001b[0m \u001b[0;32mimport\u001b[0m \u001b[0;34m*\u001b[0m\u001b[0;34m\u001b[0m\u001b[0;34m\u001b[0m\u001b[0m\n\u001b[1;32m     19\u001b[0m \u001b[0;32mfrom\u001b[0m \u001b[0;34m.\u001b[0m\u001b[0mthresholding\u001b[0m \u001b[0;32mimport\u001b[0m \u001b[0mGroupThresholdMixin\u001b[0m\u001b[0;34m,\u001b[0m \u001b[0mthreshold_mask\u001b[0m\u001b[0;34m,\u001b[0m \u001b[0mgroup_threshold_mask\u001b[0m\u001b[0;34m\u001b[0m\u001b[0;34m\u001b[0m\u001b[0m\n\u001b[0;32m---> 20\u001b[0;31m \u001b[0;32mfrom\u001b[0m \u001b[0;34m.\u001b[0m\u001b[0mconfig\u001b[0m \u001b[0;32mimport\u001b[0m \u001b[0mfile_config\u001b[0m\u001b[0;34m,\u001b[0m \u001b[0mdict_config\u001b[0m\u001b[0;34m,\u001b[0m \u001b[0mconfig_component_from_file_by_class\u001b[0m\u001b[0;34m\u001b[0m\u001b[0;34m\u001b[0m\u001b[0m\n\u001b[0m\u001b[1;32m     21\u001b[0m \u001b[0;32mfrom\u001b[0m \u001b[0;34m.\u001b[0m\u001b[0mmodel_summaries\u001b[0m \u001b[0;32mimport\u001b[0m \u001b[0;34m*\u001b[0m\u001b[0;34m\u001b[0m\u001b[0;34m\u001b[0m\u001b[0m\n\u001b[1;32m     22\u001b[0m \u001b[0;32mfrom\u001b[0m \u001b[0;34m.\u001b[0m\u001b[0mscheduler\u001b[0m \u001b[0;32mimport\u001b[0m \u001b[0;34m*\u001b[0m\u001b[0;34m\u001b[0m\u001b[0;34m\u001b[0m\u001b[0m\n",
      "\u001b[0;32m~/FIIT/BP/BP/Zdroje_kod/distiller/distiller/config.py\u001b[0m in \u001b[0;36m<module>\u001b[0;34m\u001b[0m\n\u001b[1;32m     40\u001b[0m \u001b[0;32mimport\u001b[0m \u001b[0mdistiller\u001b[0m\u001b[0;34m\u001b[0m\u001b[0;34m\u001b[0m\u001b[0m\n\u001b[1;32m     41\u001b[0m \u001b[0;32mfrom\u001b[0m \u001b[0mdistiller\u001b[0m\u001b[0;34m.\u001b[0m\u001b[0mthinning\u001b[0m \u001b[0;32mimport\u001b[0m \u001b[0;34m*\u001b[0m\u001b[0;34m\u001b[0m\u001b[0;34m\u001b[0m\u001b[0m\n\u001b[0;32m---> 42\u001b[0;31m \u001b[0;32mfrom\u001b[0m \u001b[0mdistiller\u001b[0m\u001b[0;34m.\u001b[0m\u001b[0mpruning\u001b[0m \u001b[0;32mimport\u001b[0m \u001b[0;34m*\u001b[0m\u001b[0;34m\u001b[0m\u001b[0;34m\u001b[0m\u001b[0m\n\u001b[0m\u001b[1;32m     43\u001b[0m \u001b[0;32mfrom\u001b[0m \u001b[0mdistiller\u001b[0m\u001b[0;34m.\u001b[0m\u001b[0mregularization\u001b[0m \u001b[0;32mimport\u001b[0m \u001b[0;34m*\u001b[0m\u001b[0;34m\u001b[0m\u001b[0;34m\u001b[0m\u001b[0m\n\u001b[1;32m     44\u001b[0m \u001b[0;32mfrom\u001b[0m \u001b[0mdistiller\u001b[0m\u001b[0;34m.\u001b[0m\u001b[0mlearning_rate\u001b[0m \u001b[0;32mimport\u001b[0m \u001b[0;34m*\u001b[0m\u001b[0;34m\u001b[0m\u001b[0;34m\u001b[0m\u001b[0m\n",
      "\u001b[0;32m~/FIIT/BP/BP/Zdroje_kod/distiller/distiller/pruning/__init__.py\u001b[0m in \u001b[0;36m<module>\u001b[0;34m\u001b[0m\n\u001b[1;32m     42\u001b[0m                                       \u001b[0mFMReconstructionChannelPruner\u001b[0m\u001b[0;34m\u001b[0m\u001b[0;34m\u001b[0m\u001b[0m\n\u001b[1;32m     43\u001b[0m \u001b[0;32mfrom\u001b[0m \u001b[0;34m.\u001b[0m\u001b[0mbaidu_rnn_pruner\u001b[0m \u001b[0;32mimport\u001b[0m \u001b[0mBaiduRNNPruner\u001b[0m\u001b[0;34m\u001b[0m\u001b[0;34m\u001b[0m\u001b[0m\n\u001b[0;32m---> 44\u001b[0;31m \u001b[0;32mfrom\u001b[0m \u001b[0;34m.\u001b[0m\u001b[0mgreedy_filter_pruning\u001b[0m \u001b[0;32mimport\u001b[0m \u001b[0mgreedy_pruner\u001b[0m\u001b[0;34m\u001b[0m\u001b[0;34m\u001b[0m\u001b[0m\n\u001b[0m\u001b[1;32m     45\u001b[0m \u001b[0;34m\u001b[0m\u001b[0m\n\u001b[1;32m     46\u001b[0m \u001b[0;32mdel\u001b[0m \u001b[0mmagnitude_pruner\u001b[0m\u001b[0;34m\u001b[0m\u001b[0;34m\u001b[0m\u001b[0m\n",
      "\u001b[0;32m~/FIIT/BP/BP/Zdroje_kod/distiller/distiller/pruning/greedy_filter_pruning.py\u001b[0m in \u001b[0;36m<module>\u001b[0;34m\u001b[0m\n\u001b[1;32m     46\u001b[0m \u001b[0;32mimport\u001b[0m \u001b[0mos\u001b[0m\u001b[0;34m\u001b[0m\u001b[0;34m\u001b[0m\u001b[0m\n\u001b[1;32m     47\u001b[0m \u001b[0;32mimport\u001b[0m \u001b[0mdistiller\u001b[0m\u001b[0;34m\u001b[0m\u001b[0;34m\u001b[0m\u001b[0m\n\u001b[0;32m---> 48\u001b[0;31m \u001b[0;32mfrom\u001b[0m \u001b[0mdistiller\u001b[0m\u001b[0;34m.\u001b[0m\u001b[0mapputils\u001b[0m \u001b[0;32mimport\u001b[0m \u001b[0msave_checkpoint\u001b[0m\u001b[0;34m\u001b[0m\u001b[0;34m\u001b[0m\u001b[0m\n\u001b[0m\u001b[1;32m     49\u001b[0m \u001b[0;32mfrom\u001b[0m \u001b[0mdistiller\u001b[0m\u001b[0;34m.\u001b[0m\u001b[0mdata_loggers\u001b[0m \u001b[0;32mimport\u001b[0m \u001b[0mPythonLogger\u001b[0m\u001b[0;34m\u001b[0m\u001b[0;34m\u001b[0m\u001b[0m\n\u001b[1;32m     50\u001b[0m \u001b[0;32mfrom\u001b[0m \u001b[0mdistiller\u001b[0m\u001b[0;34m.\u001b[0m\u001b[0msummary_graph\u001b[0m \u001b[0;32mimport\u001b[0m \u001b[0mSummaryGraph\u001b[0m\u001b[0;34m\u001b[0m\u001b[0;34m\u001b[0m\u001b[0m\n",
      "\u001b[0;32m~/FIIT/BP/BP/Zdroje_kod/distiller/distiller/apputils/__init__.py\u001b[0m in \u001b[0;36m<module>\u001b[0;34m\u001b[0m\n\u001b[1;32m     19\u001b[0m \u001b[0;34m\u001b[0m\u001b[0m\n\u001b[1;32m     20\u001b[0m \"\"\"\n\u001b[0;32m---> 21\u001b[0;31m \u001b[0;32mfrom\u001b[0m \u001b[0;34m.\u001b[0m\u001b[0mdata_loaders\u001b[0m \u001b[0;32mimport\u001b[0m \u001b[0;34m*\u001b[0m\u001b[0;34m\u001b[0m\u001b[0;34m\u001b[0m\u001b[0m\n\u001b[0m\u001b[1;32m     22\u001b[0m \u001b[0;32mfrom\u001b[0m \u001b[0;34m.\u001b[0m\u001b[0mcheckpoint\u001b[0m \u001b[0;32mimport\u001b[0m \u001b[0;34m*\u001b[0m\u001b[0;34m\u001b[0m\u001b[0;34m\u001b[0m\u001b[0m\n\u001b[1;32m     23\u001b[0m \u001b[0;32mfrom\u001b[0m \u001b[0;34m.\u001b[0m\u001b[0mexecution_env\u001b[0m \u001b[0;32mimport\u001b[0m \u001b[0;34m*\u001b[0m\u001b[0;34m\u001b[0m\u001b[0;34m\u001b[0m\u001b[0m\n",
      "\u001b[0;32m~/FIIT/BP/BP/Zdroje_kod/distiller/distiller/apputils/data_loaders.py\u001b[0m in \u001b[0;36m<module>\u001b[0;34m\u001b[0m\n\u001b[1;32m     22\u001b[0m \u001b[0;32mimport\u001b[0m \u001b[0mos\u001b[0m\u001b[0;34m\u001b[0m\u001b[0;34m\u001b[0m\u001b[0m\n\u001b[1;32m     23\u001b[0m \u001b[0;32mimport\u001b[0m \u001b[0mtorch\u001b[0m\u001b[0;34m\u001b[0m\u001b[0;34m\u001b[0m\u001b[0m\n\u001b[0;32m---> 24\u001b[0;31m \u001b[0;32mimport\u001b[0m \u001b[0mtorchvision\u001b[0m\u001b[0;34m.\u001b[0m\u001b[0mtransforms\u001b[0m \u001b[0;32mas\u001b[0m \u001b[0mtransforms\u001b[0m\u001b[0;34m\u001b[0m\u001b[0;34m\u001b[0m\u001b[0m\n\u001b[0m\u001b[1;32m     25\u001b[0m \u001b[0;32mimport\u001b[0m \u001b[0mtorchvision\u001b[0m\u001b[0;34m.\u001b[0m\u001b[0mdatasets\u001b[0m \u001b[0;32mas\u001b[0m \u001b[0mdatasets\u001b[0m\u001b[0;34m\u001b[0m\u001b[0;34m\u001b[0m\u001b[0m\n\u001b[1;32m     26\u001b[0m \u001b[0;32mfrom\u001b[0m \u001b[0mtorch\u001b[0m\u001b[0;34m.\u001b[0m\u001b[0mutils\u001b[0m\u001b[0;34m.\u001b[0m\u001b[0mdata\u001b[0m\u001b[0;34m.\u001b[0m\u001b[0msampler\u001b[0m \u001b[0;32mimport\u001b[0m \u001b[0mSampler\u001b[0m\u001b[0;34m\u001b[0m\u001b[0;34m\u001b[0m\u001b[0m\n",
      "\u001b[0;32m~/.cache/torch/hub/pytorch_vision_v0.5.0/torchvision/__init__.py\u001b[0m in \u001b[0;36m<module>\u001b[0;34m\u001b[0m\n\u001b[1;32m      1\u001b[0m \u001b[0;32mimport\u001b[0m \u001b[0mwarnings\u001b[0m\u001b[0;34m\u001b[0m\u001b[0;34m\u001b[0m\u001b[0m\n\u001b[1;32m      2\u001b[0m \u001b[0;34m\u001b[0m\u001b[0m\n\u001b[0;32m----> 3\u001b[0;31m \u001b[0;32mfrom\u001b[0m \u001b[0mtorchvision\u001b[0m \u001b[0;32mimport\u001b[0m \u001b[0mmodels\u001b[0m\u001b[0;34m\u001b[0m\u001b[0;34m\u001b[0m\u001b[0m\n\u001b[0m\u001b[1;32m      4\u001b[0m \u001b[0;32mfrom\u001b[0m \u001b[0mtorchvision\u001b[0m \u001b[0;32mimport\u001b[0m \u001b[0mdatasets\u001b[0m\u001b[0;34m\u001b[0m\u001b[0;34m\u001b[0m\u001b[0m\n\u001b[1;32m      5\u001b[0m \u001b[0;32mfrom\u001b[0m \u001b[0mtorchvision\u001b[0m \u001b[0;32mimport\u001b[0m \u001b[0mops\u001b[0m\u001b[0;34m\u001b[0m\u001b[0;34m\u001b[0m\u001b[0m\n",
      "\u001b[0;32m~/.cache/torch/hub/pytorch_vision_v0.5.0/torchvision/models/__init__.py\u001b[0m in \u001b[0;36m<module>\u001b[0;34m\u001b[0m\n\u001b[1;32m     10\u001b[0m \u001b[0;32mfrom\u001b[0m \u001b[0;34m.\u001b[0m\u001b[0mshufflenetv2\u001b[0m \u001b[0;32mimport\u001b[0m \u001b[0;34m*\u001b[0m\u001b[0;34m\u001b[0m\u001b[0;34m\u001b[0m\u001b[0m\n\u001b[1;32m     11\u001b[0m \u001b[0;32mfrom\u001b[0m \u001b[0;34m.\u001b[0m \u001b[0;32mimport\u001b[0m \u001b[0msegmentation\u001b[0m\u001b[0;34m\u001b[0m\u001b[0;34m\u001b[0m\u001b[0m\n\u001b[0;32m---> 12\u001b[0;31m \u001b[0;32mfrom\u001b[0m \u001b[0;34m.\u001b[0m \u001b[0;32mimport\u001b[0m \u001b[0mdetection\u001b[0m\u001b[0;34m\u001b[0m\u001b[0;34m\u001b[0m\u001b[0m\n\u001b[0m\u001b[1;32m     13\u001b[0m \u001b[0;32mfrom\u001b[0m \u001b[0;34m.\u001b[0m \u001b[0;32mimport\u001b[0m \u001b[0mvideo\u001b[0m\u001b[0;34m\u001b[0m\u001b[0;34m\u001b[0m\u001b[0m\n\u001b[1;32m     14\u001b[0m \u001b[0;32mfrom\u001b[0m \u001b[0;34m.\u001b[0m \u001b[0;32mimport\u001b[0m \u001b[0mquantization\u001b[0m\u001b[0;34m\u001b[0m\u001b[0;34m\u001b[0m\u001b[0m\n",
      "\u001b[0;32m~/.cache/torch/hub/pytorch_vision_v0.5.0/torchvision/models/detection/__init__.py\u001b[0m in \u001b[0;36m<module>\u001b[0;34m\u001b[0m\n\u001b[0;32m----> 1\u001b[0;31m \u001b[0;32mfrom\u001b[0m \u001b[0;34m.\u001b[0m\u001b[0mfaster_rcnn\u001b[0m \u001b[0;32mimport\u001b[0m \u001b[0;34m*\u001b[0m\u001b[0;34m\u001b[0m\u001b[0;34m\u001b[0m\u001b[0m\n\u001b[0m\u001b[1;32m      2\u001b[0m \u001b[0;32mfrom\u001b[0m \u001b[0;34m.\u001b[0m\u001b[0mmask_rcnn\u001b[0m \u001b[0;32mimport\u001b[0m \u001b[0;34m*\u001b[0m\u001b[0;34m\u001b[0m\u001b[0;34m\u001b[0m\u001b[0m\n\u001b[1;32m      3\u001b[0m \u001b[0;32mfrom\u001b[0m \u001b[0;34m.\u001b[0m\u001b[0mkeypoint_rcnn\u001b[0m \u001b[0;32mimport\u001b[0m \u001b[0;34m*\u001b[0m\u001b[0;34m\u001b[0m\u001b[0;34m\u001b[0m\u001b[0m\n",
      "\u001b[0;32m~/.cache/torch/hub/pytorch_vision_v0.5.0/torchvision/models/detection/faster_rcnn.py\u001b[0m in \u001b[0;36m<module>\u001b[0;34m\u001b[0m\n\u001b[1;32m     11\u001b[0m \u001b[0;34m\u001b[0m\u001b[0m\n\u001b[1;32m     12\u001b[0m \u001b[0;32mfrom\u001b[0m \u001b[0;34m.\u001b[0m\u001b[0mgeneralized_rcnn\u001b[0m \u001b[0;32mimport\u001b[0m \u001b[0mGeneralizedRCNN\u001b[0m\u001b[0;34m\u001b[0m\u001b[0;34m\u001b[0m\u001b[0m\n\u001b[0;32m---> 13\u001b[0;31m \u001b[0;32mfrom\u001b[0m \u001b[0;34m.\u001b[0m\u001b[0mrpn\u001b[0m \u001b[0;32mimport\u001b[0m \u001b[0mAnchorGenerator\u001b[0m\u001b[0;34m,\u001b[0m \u001b[0mRPNHead\u001b[0m\u001b[0;34m,\u001b[0m \u001b[0mRegionProposalNetwork\u001b[0m\u001b[0;34m\u001b[0m\u001b[0;34m\u001b[0m\u001b[0m\n\u001b[0m\u001b[1;32m     14\u001b[0m \u001b[0;32mfrom\u001b[0m \u001b[0;34m.\u001b[0m\u001b[0mroi_heads\u001b[0m \u001b[0;32mimport\u001b[0m \u001b[0mRoIHeads\u001b[0m\u001b[0;34m\u001b[0m\u001b[0;34m\u001b[0m\u001b[0m\n\u001b[1;32m     15\u001b[0m \u001b[0;32mfrom\u001b[0m \u001b[0;34m.\u001b[0m\u001b[0mtransform\u001b[0m \u001b[0;32mimport\u001b[0m \u001b[0mGeneralizedRCNNTransform\u001b[0m\u001b[0;34m\u001b[0m\u001b[0;34m\u001b[0m\u001b[0m\n",
      "\u001b[0;32m~/.cache/torch/hub/pytorch_vision_v0.5.0/torchvision/models/detection/rpn.py\u001b[0m in \u001b[0;36m<module>\u001b[0;34m\u001b[0m\n\u001b[1;32m      9\u001b[0m \u001b[0;32mfrom\u001b[0m \u001b[0mtorchvision\u001b[0m\u001b[0;34m.\u001b[0m\u001b[0mops\u001b[0m \u001b[0;32mimport\u001b[0m \u001b[0mboxes\u001b[0m \u001b[0;32mas\u001b[0m \u001b[0mbox_ops\u001b[0m\u001b[0;34m\u001b[0m\u001b[0;34m\u001b[0m\u001b[0m\n\u001b[1;32m     10\u001b[0m \u001b[0;34m\u001b[0m\u001b[0m\n\u001b[0;32m---> 11\u001b[0;31m \u001b[0;32mfrom\u001b[0m \u001b[0;34m.\u001b[0m \u001b[0;32mimport\u001b[0m \u001b[0m_utils\u001b[0m \u001b[0;32mas\u001b[0m \u001b[0mdet_utils\u001b[0m\u001b[0;34m\u001b[0m\u001b[0;34m\u001b[0m\u001b[0m\n\u001b[0m\u001b[1;32m     12\u001b[0m \u001b[0;32mfrom\u001b[0m \u001b[0;34m.\u001b[0m\u001b[0mimage_list\u001b[0m \u001b[0;32mimport\u001b[0m \u001b[0mImageList\u001b[0m\u001b[0;34m\u001b[0m\u001b[0;34m\u001b[0m\u001b[0m\n\u001b[1;32m     13\u001b[0m \u001b[0;34m\u001b[0m\u001b[0m\n",
      "\u001b[0;32m~/.cache/torch/hub/pytorch_vision_v0.5.0/torchvision/models/detection/_utils.py\u001b[0m in \u001b[0;36m<module>\u001b[0;34m\u001b[0m\n\u001b[1;32m     17\u001b[0m \u001b[0;34m\u001b[0m\u001b[0m\n\u001b[1;32m     18\u001b[0m \u001b[0;34m@\u001b[0m\u001b[0mtorch\u001b[0m\u001b[0;34m.\u001b[0m\u001b[0mjit\u001b[0m\u001b[0;34m.\u001b[0m\u001b[0mscript\u001b[0m\u001b[0;34m\u001b[0m\u001b[0;34m\u001b[0m\u001b[0m\n\u001b[0;32m---> 19\u001b[0;31m \u001b[0;32mclass\u001b[0m \u001b[0mBalancedPositiveNegativeSampler\u001b[0m\u001b[0;34m(\u001b[0m\u001b[0mobject\u001b[0m\u001b[0;34m)\u001b[0m\u001b[0;34m:\u001b[0m\u001b[0;34m\u001b[0m\u001b[0;34m\u001b[0m\u001b[0m\n\u001b[0m\u001b[1;32m     20\u001b[0m     \"\"\"\n\u001b[1;32m     21\u001b[0m     \u001b[0mThis\u001b[0m \u001b[0;32mclass\u001b[0m \u001b[0msamples\u001b[0m \u001b[0mbatches\u001b[0m\u001b[0;34m,\u001b[0m \u001b[0mensuring\u001b[0m \u001b[0mthat\u001b[0m \u001b[0mthey\u001b[0m \u001b[0mcontain\u001b[0m \u001b[0ma\u001b[0m \u001b[0mfixed\u001b[0m \u001b[0mproportion\u001b[0m \u001b[0mof\u001b[0m \u001b[0mpositives\u001b[0m\u001b[0;34m\u001b[0m\u001b[0;34m\u001b[0m\u001b[0m\n",
      "\u001b[0;32m~/FIIT/BP/BP/Zdroje_kod/dist_env/lib/python3.7/site-packages/torch/jit/__init__.py\u001b[0m in \u001b[0;36mscript\u001b[0;34m(obj, optimize, _frames_up, _rcb)\u001b[0m\n\u001b[1;32m   1217\u001b[0m         \u001b[0;32mif\u001b[0m \u001b[0m_rcb\u001b[0m \u001b[0;32mis\u001b[0m \u001b[0;32mNone\u001b[0m\u001b[0;34m:\u001b[0m\u001b[0;34m\u001b[0m\u001b[0;34m\u001b[0m\u001b[0m\n\u001b[1;32m   1218\u001b[0m             \u001b[0m_rcb\u001b[0m \u001b[0;34m=\u001b[0m \u001b[0m_jit_internal\u001b[0m\u001b[0;34m.\u001b[0m\u001b[0mcreateResolutionCallback\u001b[0m\u001b[0;34m(\u001b[0m\u001b[0m_frames_up\u001b[0m \u001b[0;34m+\u001b[0m \u001b[0;36m1\u001b[0m\u001b[0;34m)\u001b[0m\u001b[0;34m\u001b[0m\u001b[0;34m\u001b[0m\u001b[0m\n\u001b[0;32m-> 1219\u001b[0;31m         \u001b[0m_compile_and_register_class\u001b[0m\u001b[0;34m(\u001b[0m\u001b[0mobj\u001b[0m\u001b[0;34m,\u001b[0m \u001b[0m_rcb\u001b[0m\u001b[0;34m,\u001b[0m \u001b[0mqualified_name\u001b[0m\u001b[0;34m)\u001b[0m\u001b[0;34m\u001b[0m\u001b[0;34m\u001b[0m\u001b[0m\n\u001b[0m\u001b[1;32m   1220\u001b[0m         \u001b[0;32mreturn\u001b[0m \u001b[0mobj\u001b[0m\u001b[0;34m\u001b[0m\u001b[0;34m\u001b[0m\u001b[0m\n\u001b[1;32m   1221\u001b[0m     \u001b[0;32melse\u001b[0m\u001b[0;34m:\u001b[0m\u001b[0;34m\u001b[0m\u001b[0;34m\u001b[0m\u001b[0m\n",
      "\u001b[0;32m~/FIIT/BP/BP/Zdroje_kod/dist_env/lib/python3.7/site-packages/torch/jit/__init__.py\u001b[0m in \u001b[0;36m_compile_and_register_class\u001b[0;34m(obj, rcb, qualified_name)\u001b[0m\n\u001b[1;32m   1074\u001b[0m \u001b[0;32mdef\u001b[0m \u001b[0m_compile_and_register_class\u001b[0m\u001b[0;34m(\u001b[0m\u001b[0mobj\u001b[0m\u001b[0;34m,\u001b[0m \u001b[0mrcb\u001b[0m\u001b[0;34m,\u001b[0m \u001b[0mqualified_name\u001b[0m\u001b[0;34m)\u001b[0m\u001b[0;34m:\u001b[0m\u001b[0;34m\u001b[0m\u001b[0;34m\u001b[0m\u001b[0m\n\u001b[1;32m   1075\u001b[0m     \u001b[0mast\u001b[0m \u001b[0;34m=\u001b[0m \u001b[0mget_jit_class_def\u001b[0m\u001b[0;34m(\u001b[0m\u001b[0mobj\u001b[0m\u001b[0;34m,\u001b[0m \u001b[0mobj\u001b[0m\u001b[0;34m.\u001b[0m\u001b[0m__name__\u001b[0m\u001b[0;34m)\u001b[0m\u001b[0;34m\u001b[0m\u001b[0;34m\u001b[0m\u001b[0m\n\u001b[0;32m-> 1076\u001b[0;31m     \u001b[0m_jit_script_class_compile\u001b[0m\u001b[0;34m(\u001b[0m\u001b[0mqualified_name\u001b[0m\u001b[0;34m,\u001b[0m \u001b[0mast\u001b[0m\u001b[0;34m,\u001b[0m \u001b[0mrcb\u001b[0m\u001b[0;34m)\u001b[0m\u001b[0;34m\u001b[0m\u001b[0;34m\u001b[0m\u001b[0m\n\u001b[0m\u001b[1;32m   1077\u001b[0m     \u001b[0m_add_script_class\u001b[0m\u001b[0;34m(\u001b[0m\u001b[0mobj\u001b[0m\u001b[0;34m,\u001b[0m \u001b[0mqualified_name\u001b[0m\u001b[0;34m)\u001b[0m\u001b[0;34m\u001b[0m\u001b[0;34m\u001b[0m\u001b[0m\n\u001b[1;32m   1078\u001b[0m \u001b[0;34m\u001b[0m\u001b[0m\n",
      "\u001b[0;31mRuntimeError\u001b[0m: class '__torch__.torchvision.models.detection._utils.BalancedPositiveNegativeSampler' already defined. (register_type at /pytorch/torch/csrc/jit/script/compilation_unit.h:166)\nframe #0: c10::Error::Error(c10::SourceLocation, std::string const&) + 0x33 (0x7fac1dbda813 in /home/bohumil/FIIT/BP/BP/Zdroje_kod/dist_env/lib/python3.7/site-packages/torch/lib/libc10.so)\nframe #1: <unknown function> + 0x5a47a9 (0x7fac65e527a9 in /home/bohumil/FIIT/BP/BP/Zdroje_kod/dist_env/lib/python3.7/site-packages/torch/lib/libtorch_python.so)\nframe #2: <unknown function> + 0x58c0be (0x7fac65e3a0be in /home/bohumil/FIIT/BP/BP/Zdroje_kod/dist_env/lib/python3.7/site-packages/torch/lib/libtorch_python.so)\nframe #3: <unknown function> + 0x58d393 (0x7fac65e3b393 in /home/bohumil/FIIT/BP/BP/Zdroje_kod/dist_env/lib/python3.7/site-packages/torch/lib/libtorch_python.so)\nframe #4: <unknown function> + 0x210ba4 (0x7fac65abeba4 in /home/bohumil/FIIT/BP/BP/Zdroje_kod/dist_env/lib/python3.7/site-packages/torch/lib/libtorch_python.so)\nframe #5: _PyMethodDef_RawFastCallKeywords + 0x13b (0x5c80fb in /home/bohumil/FIIT/BP/BP/Zdroje_kod/dist_env/bin/python)\nframe #6: /home/bohumil/FIIT/BP/BP/Zdroje_kod/dist_env/bin/python() [0x536750]\nframe #7: _PyEval_EvalFrameDefault + 0x552 (0x5393a2 in /home/bohumil/FIIT/BP/BP/Zdroje_kod/dist_env/bin/python)\nframe #8: _PyFunction_FastCallKeywords + 0x18b (0x5c905b in /home/bohumil/FIIT/BP/BP/Zdroje_kod/dist_env/bin/python)\nframe #9: /home/bohumil/FIIT/BP/BP/Zdroje_kod/dist_env/bin/python() [0x536640]\nframe #10: _PyEval_EvalFrameDefault + 0x552 (0x5393a2 in /home/bohumil/FIIT/BP/BP/Zdroje_kod/dist_env/bin/python)\nframe #11: _PyEval_EvalCodeWithName + 0x247 (0x5373a7 in /home/bohumil/FIIT/BP/BP/Zdroje_kod/dist_env/bin/python)\nframe #12: _PyFunction_FastCallKeywords + 0x488 (0x5c9358 in /home/bohumil/FIIT/BP/BP/Zdroje_kod/dist_env/bin/python)\nframe #13: /home/bohumil/FIIT/BP/BP/Zdroje_kod/dist_env/bin/python() [0x536640]\nframe #14: _PyEval_EvalFrameDefault + 0x552 (0x5393a2 in /home/bohumil/FIIT/BP/BP/Zdroje_kod/dist_env/bin/python)\nframe #15: _PyEval_EvalCodeWithName + 0x247 (0x5373a7 in /home/bohumil/FIIT/BP/BP/Zdroje_kod/dist_env/bin/python)\nframe #16: PyEval_EvalCode + 0x23 (0x64d163 in /home/bohumil/FIIT/BP/BP/Zdroje_kod/dist_env/bin/python)\nframe #17: /home/bohumil/FIIT/BP/BP/Zdroje_kod/dist_env/bin/python() [0x64e8d1]\nframe #18: PyCFunction_Call + 0x491 (0x5c8d61 in /home/bohumil/FIIT/BP/BP/Zdroje_kod/dist_env/bin/python)\nframe #19: _PyEval_EvalFrameDefault + 0x5792 (0x53e5e2 in /home/bohumil/FIIT/BP/BP/Zdroje_kod/dist_env/bin/python)\nframe #20: _PyEval_EvalCodeWithName + 0x247 (0x5373a7 in /home/bohumil/FIIT/BP/BP/Zdroje_kod/dist_env/bin/python)\nframe #21: _PyFunction_FastCallKeywords + 0x488 (0x5c9358 in /home/bohumil/FIIT/BP/BP/Zdroje_kod/dist_env/bin/python)\nframe #22: /home/bohumil/FIIT/BP/BP/Zdroje_kod/dist_env/bin/python() [0x536640]\nframe #23: _PyEval_EvalFrameDefault + 0x4511 (0x53d361 in /home/bohumil/FIIT/BP/BP/Zdroje_kod/dist_env/bin/python)\nframe #24: _PyFunction_FastCallKeywords + 0x18b (0x5c905b in /home/bohumil/FIIT/BP/BP/Zdroje_kod/dist_env/bin/python)\nframe #25: /home/bohumil/FIIT/BP/BP/Zdroje_kod/dist_env/bin/python() [0x536640]\nframe #26: _PyEval_EvalFrameDefault + 0x683 (0x5394d3 in /home/bohumil/FIIT/BP/BP/Zdroje_kod/dist_env/bin/python)\nframe #27: _PyFunction_FastCallKeywords + 0x18b (0x5c905b in /home/bohumil/FIIT/BP/BP/Zdroje_kod/dist_env/bin/python)\nframe #28: /home/bohumil/FIIT/BP/BP/Zdroje_kod/dist_env/bin/python() [0x536640]\nframe #29: _PyEval_EvalFrameDefault + 0x552 (0x5393a2 in /home/bohumil/FIIT/BP/BP/Zdroje_kod/dist_env/bin/python)\nframe #30: _PyFunction_FastCallKeywords + 0x18b (0x5c905b in /home/bohumil/FIIT/BP/BP/Zdroje_kod/dist_env/bin/python)\nframe #31: /home/bohumil/FIIT/BP/BP/Zdroje_kod/dist_env/bin/python() [0x536640]\nframe #32: _PyEval_EvalFrameDefault + 0x552 (0x5393a2 in /home/bohumil/FIIT/BP/BP/Zdroje_kod/dist_env/bin/python)\nframe #33: _PyFunction_FastCallDict + 0x18a (0x5ca36a in /home/bohumil/FIIT/BP/BP/Zdroje_kod/dist_env/bin/python)\nframe #34: /home/bohumil/FIIT/BP/BP/Zdroje_kod/dist_env/bin/python() [0x5cba24]\nframe #35: _PyObject_CallMethodIdObjArgs + 0x15a (0x5cbfaa in /home/bohumil/FIIT/BP/BP/Zdroje_kod/dist_env/bin/python)\nframe #36: PyImport_ImportModuleLevelObject + 0x483 (0x520963 in /home/bohumil/FIIT/BP/BP/Zdroje_kod/dist_env/bin/python)\nframe #37: /home/bohumil/FIIT/BP/BP/Zdroje_kod/dist_env/bin/python() [0x542e44]\nframe #38: PyCFunction_Call + 0x383 (0x5c8c53 in /home/bohumil/FIIT/BP/BP/Zdroje_kod/dist_env/bin/python)\nframe #39: _PyEval_EvalFrameDefault + 0x5792 (0x53e5e2 in /home/bohumil/FIIT/BP/BP/Zdroje_kod/dist_env/bin/python)\nframe #40: _PyEval_EvalCodeWithName + 0x247 (0x5373a7 in /home/bohumil/FIIT/BP/BP/Zdroje_kod/dist_env/bin/python)\nframe #41: _PyFunction_FastCallKeywords + 0x488 (0x5c9358 in /home/bohumil/FIIT/BP/BP/Zdroje_kod/dist_env/bin/python)\nframe #42: /home/bohumil/FIIT/BP/BP/Zdroje_kod/dist_env/bin/python() [0x536640]\nframe #43: _PyEval_EvalFrameDefault + 0x552 (0x5393a2 in /home/bohumil/FIIT/BP/BP/Zdroje_kod/dist_env/bin/python)\nframe #44: _PyEval_EvalCodeWithName + 0xb87 (0x537ce7 in /home/bohumil/FIIT/BP/BP/Zdroje_kod/dist_env/bin/python)\nframe #45: _PyFunction_FastCallDict + 0x34e (0x5ca52e in /home/bohumil/FIIT/BP/BP/Zdroje_kod/dist_env/bin/python)\nframe #46: /home/bohumil/FIIT/BP/BP/Zdroje_kod/dist_env/bin/python() [0x5cba24]\nframe #47: _PyObject_CallMethodIdObjArgs + 0x15a (0x5cbfaa in /home/bohumil/FIIT/BP/BP/Zdroje_kod/dist_env/bin/python)\nframe #48: PyImport_ImportModuleLevelObject + 0x299 (0x520779 in /home/bohumil/FIIT/BP/BP/Zdroje_kod/dist_env/bin/python)\nframe #49: _PyEval_EvalFrameDefault + 0x2149 (0x53af99 in /home/bohumil/FIIT/BP/BP/Zdroje_kod/dist_env/bin/python)\nframe #50: _PyEval_EvalCodeWithName + 0x247 (0x5373a7 in /home/bohumil/FIIT/BP/BP/Zdroje_kod/dist_env/bin/python)\nframe #51: PyEval_EvalCode + 0x23 (0x64d163 in /home/bohumil/FIIT/BP/BP/Zdroje_kod/dist_env/bin/python)\nframe #52: /home/bohumil/FIIT/BP/BP/Zdroje_kod/dist_env/bin/python() [0x64e8d1]\nframe #53: PyCFunction_Call + 0x491 (0x5c8d61 in /home/bohumil/FIIT/BP/BP/Zdroje_kod/dist_env/bin/python)\nframe #54: _PyEval_EvalFrameDefault + 0x5792 (0x53e5e2 in /home/bohumil/FIIT/BP/BP/Zdroje_kod/dist_env/bin/python)\nframe #55: _PyEval_EvalCodeWithName + 0x247 (0x5373a7 in /home/bohumil/FIIT/BP/BP/Zdroje_kod/dist_env/bin/python)\nframe #56: _PyFunction_FastCallKeywords + 0x488 (0x5c9358 in /home/bohumil/FIIT/BP/BP/Zdroje_kod/dist_env/bin/python)\nframe #57: /home/bohumil/FIIT/BP/BP/Zdroje_kod/dist_env/bin/python() [0x536640]\nframe #58: _PyEval_EvalFrameDefault + 0x4511 (0x53d361 in /home/bohumil/FIIT/BP/BP/Zdroje_kod/dist_env/bin/python)\nframe #59: _PyFunction_FastCallKeywords + 0x18b (0x5c905b in /home/bohumil/FIIT/BP/BP/Zdroje_kod/dist_env/bin/python)\nframe #60: /home/bohumil/FIIT/BP/BP/Zdroje_kod/dist_env/bin/python() [0x536640]\nframe #61: _PyEval_EvalFrameDefault + 0x683 (0x5394d3 in /home/bohumil/FIIT/BP/BP/Zdroje_kod/dist_env/bin/python)\nframe #62: _PyFunction_FastCallKeywords + 0x18b (0x5c905b in /home/bohumil/FIIT/BP/BP/Zdroje_kod/dist_env/bin/python)\nframe #63: /home/bohumil/FIIT/BP/BP/Zdroje_kod/dist_env/bin/python() [0x536640]\n"
     ],
     "ename": "RuntimeError",
     "evalue": "class '__torch__.torchvision.models.detection._utils.BalancedPositiveNegativeSampler' already defined. (register_type at /pytorch/torch/csrc/jit/script/compilation_unit.h:166)\nframe #0: c10::Error::Error(c10::SourceLocation, std::string const&) + 0x33 (0x7fac1dbda813 in /home/bohumil/FIIT/BP/BP/Zdroje_kod/dist_env/lib/python3.7/site-packages/torch/lib/libc10.so)\nframe #1: <unknown function> + 0x5a47a9 (0x7fac65e527a9 in /home/bohumil/FIIT/BP/BP/Zdroje_kod/dist_env/lib/python3.7/site-packages/torch/lib/libtorch_python.so)\nframe #2: <unknown function> + 0x58c0be (0x7fac65e3a0be in /home/bohumil/FIIT/BP/BP/Zdroje_kod/dist_env/lib/python3.7/site-packages/torch/lib/libtorch_python.so)\nframe #3: <unknown function> + 0x58d393 (0x7fac65e3b393 in /home/bohumil/FIIT/BP/BP/Zdroje_kod/dist_env/lib/python3.7/site-packages/torch/lib/libtorch_python.so)\nframe #4: <unknown function> + 0x210ba4 (0x7fac65abeba4 in /home/bohumil/FIIT/BP/BP/Zdroje_kod/dist_env/lib/python3.7/site-packages/torch/lib/libtorch_python.so)\nframe #5: _PyMethodDef_RawFastCallKeywords + 0x13b (0x5c80fb in /home/bohumil/FIIT/BP/BP/Zdroje_kod/dist_env/bin/python)\nframe #6: /home/bohumil/FIIT/BP/BP/Zdroje_kod/dist_env/bin/python() [0x536750]\nframe #7: _PyEval_EvalFrameDefault + 0x552 (0x5393a2 in /home/bohumil/FIIT/BP/BP/Zdroje_kod/dist_env/bin/python)\nframe #8: _PyFunction_FastCallKeywords + 0x18b (0x5c905b in /home/bohumil/FIIT/BP/BP/Zdroje_kod/dist_env/bin/python)\nframe #9: /home/bohumil/FIIT/BP/BP/Zdroje_kod/dist_env/bin/python() [0x536640]\nframe #10: _PyEval_EvalFrameDefault + 0x552 (0x5393a2 in /home/bohumil/FIIT/BP/BP/Zdroje_kod/dist_env/bin/python)\nframe #11: _PyEval_EvalCodeWithName + 0x247 (0x5373a7 in /home/bohumil/FIIT/BP/BP/Zdroje_kod/dist_env/bin/python)\nframe #12: _PyFunction_FastCallKeywords + 0x488 (0x5c9358 in /home/bohumil/FIIT/BP/BP/Zdroje_kod/dist_env/bin/python)\nframe #13: /home/bohumil/FIIT/BP/BP/Zdroje_kod/dist_env/bin/python() [0x536640]\nframe #14: _PyEval_EvalFrameDefault + 0x552 (0x5393a2 in /home/bohumil/FIIT/BP/BP/Zdroje_kod/dist_env/bin/python)\nframe #15: _PyEval_EvalCodeWithName + 0x247 (0x5373a7 in /home/bohumil/FIIT/BP/BP/Zdroje_kod/dist_env/bin/python)\nframe #16: PyEval_EvalCode + 0x23 (0x64d163 in /home/bohumil/FIIT/BP/BP/Zdroje_kod/dist_env/bin/python)\nframe #17: /home/bohumil/FIIT/BP/BP/Zdroje_kod/dist_env/bin/python() [0x64e8d1]\nframe #18: PyCFunction_Call + 0x491 (0x5c8d61 in /home/bohumil/FIIT/BP/BP/Zdroje_kod/dist_env/bin/python)\nframe #19: _PyEval_EvalFrameDefault + 0x5792 (0x53e5e2 in /home/bohumil/FIIT/BP/BP/Zdroje_kod/dist_env/bin/python)\nframe #20: _PyEval_EvalCodeWithName + 0x247 (0x5373a7 in /home/bohumil/FIIT/BP/BP/Zdroje_kod/dist_env/bin/python)\nframe #21: _PyFunction_FastCallKeywords + 0x488 (0x5c9358 in /home/bohumil/FIIT/BP/BP/Zdroje_kod/dist_env/bin/python)\nframe #22: /home/bohumil/FIIT/BP/BP/Zdroje_kod/dist_env/bin/python() [0x536640]\nframe #23: _PyEval_EvalFrameDefault + 0x4511 (0x53d361 in /home/bohumil/FIIT/BP/BP/Zdroje_kod/dist_env/bin/python)\nframe #24: _PyFunction_FastCallKeywords + 0x18b (0x5c905b in /home/bohumil/FIIT/BP/BP/Zdroje_kod/dist_env/bin/python)\nframe #25: /home/bohumil/FIIT/BP/BP/Zdroje_kod/dist_env/bin/python() [0x536640]\nframe #26: _PyEval_EvalFrameDefault + 0x683 (0x5394d3 in /home/bohumil/FIIT/BP/BP/Zdroje_kod/dist_env/bin/python)\nframe #27: _PyFunction_FastCallKeywords + 0x18b (0x5c905b in /home/bohumil/FIIT/BP/BP/Zdroje_kod/dist_env/bin/python)\nframe #28: /home/bohumil/FIIT/BP/BP/Zdroje_kod/dist_env/bin/python() [0x536640]\nframe #29: _PyEval_EvalFrameDefault + 0x552 (0x5393a2 in /home/bohumil/FIIT/BP/BP/Zdroje_kod/dist_env/bin/python)\nframe #30: _PyFunction_FastCallKeywords + 0x18b (0x5c905b in /home/bohumil/FIIT/BP/BP/Zdroje_kod/dist_env/bin/python)\nframe #31: /home/bohumil/FIIT/BP/BP/Zdroje_kod/dist_env/bin/python() [0x536640]\nframe #32: _PyEval_EvalFrameDefault + 0x552 (0x5393a2 in /home/bohumil/FIIT/BP/BP/Zdroje_kod/dist_env/bin/python)\nframe #33: _PyFunction_FastCallDict + 0x18a (0x5ca36a in /home/bohumil/FIIT/BP/BP/Zdroje_kod/dist_env/bin/python)\nframe #34: /home/bohumil/FIIT/BP/BP/Zdroje_kod/dist_env/bin/python() [0x5cba24]\nframe #35: _PyObject_CallMethodIdObjArgs + 0x15a (0x5cbfaa in /home/bohumil/FIIT/BP/BP/Zdroje_kod/dist_env/bin/python)\nframe #36: PyImport_ImportModuleLevelObject + 0x483 (0x520963 in /home/bohumil/FIIT/BP/BP/Zdroje_kod/dist_env/bin/python)\nframe #37: /home/bohumil/FIIT/BP/BP/Zdroje_kod/dist_env/bin/python() [0x542e44]\nframe #38: PyCFunction_Call + 0x383 (0x5c8c53 in /home/bohumil/FIIT/BP/BP/Zdroje_kod/dist_env/bin/python)\nframe #39: _PyEval_EvalFrameDefault + 0x5792 (0x53e5e2 in /home/bohumil/FIIT/BP/BP/Zdroje_kod/dist_env/bin/python)\nframe #40: _PyEval_EvalCodeWithName + 0x247 (0x5373a7 in /home/bohumil/FIIT/BP/BP/Zdroje_kod/dist_env/bin/python)\nframe #41: _PyFunction_FastCallKeywords + 0x488 (0x5c9358 in /home/bohumil/FIIT/BP/BP/Zdroje_kod/dist_env/bin/python)\nframe #42: /home/bohumil/FIIT/BP/BP/Zdroje_kod/dist_env/bin/python() [0x536640]\nframe #43: _PyEval_EvalFrameDefault + 0x552 (0x5393a2 in /home/bohumil/FIIT/BP/BP/Zdroje_kod/dist_env/bin/python)\nframe #44: _PyEval_EvalCodeWithName + 0xb87 (0x537ce7 in /home/bohumil/FIIT/BP/BP/Zdroje_kod/dist_env/bin/python)\nframe #45: _PyFunction_FastCallDict + 0x34e (0x5ca52e in /home/bohumil/FIIT/BP/BP/Zdroje_kod/dist_env/bin/python)\nframe #46: /home/bohumil/FIIT/BP/BP/Zdroje_kod/dist_env/bin/python() [0x5cba24]\nframe #47: _PyObject_CallMethodIdObjArgs + 0x15a (0x5cbfaa in /home/bohumil/FIIT/BP/BP/Zdroje_kod/dist_env/bin/python)\nframe #48: PyImport_ImportModuleLevelObject + 0x299 (0x520779 in /home/bohumil/FIIT/BP/BP/Zdroje_kod/dist_env/bin/python)\nframe #49: _PyEval_EvalFrameDefault + 0x2149 (0x53af99 in /home/bohumil/FIIT/BP/BP/Zdroje_kod/dist_env/bin/python)\nframe #50: _PyEval_EvalCodeWithName + 0x247 (0x5373a7 in /home/bohumil/FIIT/BP/BP/Zdroje_kod/dist_env/bin/python)\nframe #51: PyEval_EvalCode + 0x23 (0x64d163 in /home/bohumil/FIIT/BP/BP/Zdroje_kod/dist_env/bin/python)\nframe #52: /home/bohumil/FIIT/BP/BP/Zdroje_kod/dist_env/bin/python() [0x64e8d1]\nframe #53: PyCFunction_Call + 0x491 (0x5c8d61 in /home/bohumil/FIIT/BP/BP/Zdroje_kod/dist_env/bin/python)\nframe #54: _PyEval_EvalFrameDefault + 0x5792 (0x53e5e2 in /home/bohumil/FIIT/BP/BP/Zdroje_kod/dist_env/bin/python)\nframe #55: _PyEval_EvalCodeWithName + 0x247 (0x5373a7 in /home/bohumil/FIIT/BP/BP/Zdroje_kod/dist_env/bin/python)\nframe #56: _PyFunction_FastCallKeywords + 0x488 (0x5c9358 in /home/bohumil/FIIT/BP/BP/Zdroje_kod/dist_env/bin/python)\nframe #57: /home/bohumil/FIIT/BP/BP/Zdroje_kod/dist_env/bin/python() [0x536640]\nframe #58: _PyEval_EvalFrameDefault + 0x4511 (0x53d361 in /home/bohumil/FIIT/BP/BP/Zdroje_kod/dist_env/bin/python)\nframe #59: _PyFunction_FastCallKeywords + 0x18b (0x5c905b in /home/bohumil/FIIT/BP/BP/Zdroje_kod/dist_env/bin/python)\nframe #60: /home/bohumil/FIIT/BP/BP/Zdroje_kod/dist_env/bin/python() [0x536640]\nframe #61: _PyEval_EvalFrameDefault + 0x683 (0x5394d3 in /home/bohumil/FIIT/BP/BP/Zdroje_kod/dist_env/bin/python)\nframe #62: _PyFunction_FastCallKeywords + 0x18b (0x5c905b in /home/bohumil/FIIT/BP/BP/Zdroje_kod/dist_env/bin/python)\nframe #63: /home/bohumil/FIIT/BP/BP/Zdroje_kod/dist_env/bin/python() [0x536640]\n",
     "output_type": "error"
    }
   ],
   "source": [
    "import distiller\n",
    "#import distiller.apputils.data_loaders as loader\n",
    "\n",
    "#imagenet_path = \"/home/bohumil/FIIT/BP/BP/Zdroje_kod/imagenet\"\n",
    "#test_dataset = loader.imagenet_get_datasets(imagenet_path,False,True);\n",
    "\n",
    "#dataset = loader.load_data('imagenet',imagenet_path,256,2);"
   ],
   "metadata": {
    "collapsed": false,
    "pycharm": {
     "name": "#%%\n",
     "is_executing": false
    }
   }
  },
  {
   "cell_type": "code",
   "execution_count": 16,
   "outputs": [],
   "source": [
    "import torchvision,torch\n",
    "#torchvision.datasets.imagenet.parse_devkit('/home/bohumil/FIIT/BP/BP/Zdroje_kod/imagenet.tar')\n",
    "#imagenet_data = torchvision.datasets.ImageNet('/home/bohumil/FIIT/BP/BP/Zdroje_kod/imagenet')\n",
    "#data_loader = torch.utils.data.DataLoader(imagenet_da  ta,4,True,args.nThreads)\n",
    "train_dataset, test_dataset = loader.imagenet_get_datasets(imagenet_path)"
   ],
   "metadata": {
    "collapsed": false,
    "pycharm": {
     "name": "#%%\n",
     "is_executing": false
    }
   }
  },
  {
   "cell_type": "code",
   "execution_count": 12,
   "outputs": [
    {
     "data": {
      "text/plain": "ResNet(\n  (conv1): Conv2d(3, 64, kernel_size=(7, 7), stride=(2, 2), padding=(3, 3), bias=False)\n  (bn1): BatchNorm2d(64, eps=1e-05, momentum=0.1, affine=True, track_running_stats=True)\n  (relu): ReLU(inplace=True)\n  (maxpool): MaxPool2d(kernel_size=3, stride=2, padding=1, dilation=1, ceil_mode=False)\n  (layer1): Sequential(\n    (0): BasicBlock(\n      (conv1): Conv2d(64, 64, kernel_size=(3, 3), stride=(1, 1), padding=(1, 1), bias=False)\n      (bn1): BatchNorm2d(64, eps=1e-05, momentum=0.1, affine=True, track_running_stats=True)\n      (relu): ReLU(inplace=True)\n      (conv2): Conv2d(64, 64, kernel_size=(3, 3), stride=(1, 1), padding=(1, 1), bias=False)\n      (bn2): BatchNorm2d(64, eps=1e-05, momentum=0.1, affine=True, track_running_stats=True)\n    )\n    (1): BasicBlock(\n      (conv1): Conv2d(64, 64, kernel_size=(3, 3), stride=(1, 1), padding=(1, 1), bias=False)\n      (bn1): BatchNorm2d(64, eps=1e-05, momentum=0.1, affine=True, track_running_stats=True)\n      (relu): ReLU(inplace=True)\n      (conv2): Conv2d(64, 64, kernel_size=(3, 3), stride=(1, 1), padding=(1, 1), bias=False)\n      (bn2): BatchNorm2d(64, eps=1e-05, momentum=0.1, affine=True, track_running_stats=True)\n    )\n  )\n  (layer2): Sequential(\n    (0): BasicBlock(\n      (conv1): Conv2d(64, 128, kernel_size=(3, 3), stride=(2, 2), padding=(1, 1), bias=False)\n      (bn1): BatchNorm2d(128, eps=1e-05, momentum=0.1, affine=True, track_running_stats=True)\n      (relu): ReLU(inplace=True)\n      (conv2): Conv2d(128, 128, kernel_size=(3, 3), stride=(1, 1), padding=(1, 1), bias=False)\n      (bn2): BatchNorm2d(128, eps=1e-05, momentum=0.1, affine=True, track_running_stats=True)\n      (downsample): Sequential(\n        (0): Conv2d(64, 128, kernel_size=(1, 1), stride=(2, 2), bias=False)\n        (1): BatchNorm2d(128, eps=1e-05, momentum=0.1, affine=True, track_running_stats=True)\n      )\n    )\n    (1): BasicBlock(\n      (conv1): Conv2d(128, 128, kernel_size=(3, 3), stride=(1, 1), padding=(1, 1), bias=False)\n      (bn1): BatchNorm2d(128, eps=1e-05, momentum=0.1, affine=True, track_running_stats=True)\n      (relu): ReLU(inplace=True)\n      (conv2): Conv2d(128, 128, kernel_size=(3, 3), stride=(1, 1), padding=(1, 1), bias=False)\n      (bn2): BatchNorm2d(128, eps=1e-05, momentum=0.1, affine=True, track_running_stats=True)\n    )\n  )\n  (layer3): Sequential(\n    (0): BasicBlock(\n      (conv1): Conv2d(128, 256, kernel_size=(3, 3), stride=(2, 2), padding=(1, 1), bias=False)\n      (bn1): BatchNorm2d(256, eps=1e-05, momentum=0.1, affine=True, track_running_stats=True)\n      (relu): ReLU(inplace=True)\n      (conv2): Conv2d(256, 256, kernel_size=(3, 3), stride=(1, 1), padding=(1, 1), bias=False)\n      (bn2): BatchNorm2d(256, eps=1e-05, momentum=0.1, affine=True, track_running_stats=True)\n      (downsample): Sequential(\n        (0): Conv2d(128, 256, kernel_size=(1, 1), stride=(2, 2), bias=False)\n        (1): BatchNorm2d(256, eps=1e-05, momentum=0.1, affine=True, track_running_stats=True)\n      )\n    )\n    (1): BasicBlock(\n      (conv1): Conv2d(256, 256, kernel_size=(3, 3), stride=(1, 1), padding=(1, 1), bias=False)\n      (bn1): BatchNorm2d(256, eps=1e-05, momentum=0.1, affine=True, track_running_stats=True)\n      (relu): ReLU(inplace=True)\n      (conv2): Conv2d(256, 256, kernel_size=(3, 3), stride=(1, 1), padding=(1, 1), bias=False)\n      (bn2): BatchNorm2d(256, eps=1e-05, momentum=0.1, affine=True, track_running_stats=True)\n    )\n  )\n  (layer4): Sequential(\n    (0): BasicBlock(\n      (conv1): Conv2d(256, 512, kernel_size=(3, 3), stride=(2, 2), padding=(1, 1), bias=False)\n      (bn1): BatchNorm2d(512, eps=1e-05, momentum=0.1, affine=True, track_running_stats=True)\n      (relu): ReLU(inplace=True)\n      (conv2): Conv2d(512, 512, kernel_size=(3, 3), stride=(1, 1), padding=(1, 1), bias=False)\n      (bn2): BatchNorm2d(512, eps=1e-05, momentum=0.1, affine=True, track_running_stats=True)\n      (downsample): Sequential(\n        (0): Conv2d(256, 512, kernel_size=(1, 1), stride=(2, 2), bias=False)\n        (1): BatchNorm2d(512, eps=1e-05, momentum=0.1, affine=True, track_running_stats=True)\n      )\n    )\n    (1): BasicBlock(\n      (conv1): Conv2d(512, 512, kernel_size=(3, 3), stride=(1, 1), padding=(1, 1), bias=False)\n      (bn1): BatchNorm2d(512, eps=1e-05, momentum=0.1, affine=True, track_running_stats=True)\n      (relu): ReLU(inplace=True)\n      (conv2): Conv2d(512, 512, kernel_size=(3, 3), stride=(1, 1), padding=(1, 1), bias=False)\n      (bn2): BatchNorm2d(512, eps=1e-05, momentum=0.1, affine=True, track_running_stats=True)\n    )\n  )\n  (avgpool): AdaptiveAvgPool2d(output_size=(1, 1))\n  (fc): Linear(in_features=512, out_features=1000, bias=True)\n)"
     },
     "metadata": {},
     "output_type": "execute_result",
     "execution_count": 12
    }
   ],
   "source": [
    "model.eval()"
   ],
   "metadata": {
    "collapsed": false,
    "pycharm": {
     "name": "#%%\n",
     "is_executing": false
    }
   }
  },
  {
   "cell_type": "code",
   "execution_count": 17,
   "outputs": [
    {
     "traceback": [
      "\u001b[0;36m  File \u001b[0;32m\"<ipython-input-17-90e79f8001a9>\"\u001b[0;36m, line \u001b[0;32m2\u001b[0m\n\u001b[0;31m    for\u001b[0m\n\u001b[0m       ^\u001b[0m\n\u001b[0;31mSyntaxError\u001b[0m\u001b[0;31m:\u001b[0m invalid syntax\n"
     ],
     "ename": "SyntaxError",
     "evalue": "invalid syntax (<ipython-input-17-90e79f8001a9>, line 2)",
     "output_type": "error"
    }
   ],
   "source": [
    "def eval(model, dataset):\n",
    "    for img in dataset.imgs:\n",
    "        pred = model(img)\n",
    "        if pred == "
   ],
   "metadata": {
    "collapsed": false,
    "pycharm": {
     "name": "#%%\n",
     "is_executing": false
    }
   }
  },
  {
   "cell_type": "code",
   "execution_count": null,
   "outputs": [],
   "source": [
    "if torch.cuda.is_available():\n",
    "    model(dataset+\"/val/iamges/\")\n",
    "        "
   ],
   "metadata": {
    "collapsed": false,
    "pycharm": {
     "name": "#%%\n"
    }
   }
  },
  {
   "cell_type": "markdown",
   "source": [
    "# Quantization\n",
    "## 1. Replace direct tensor operations with modules"
   ],
   "metadata": {
    "collapsed": false,
    "pycharm": {
     "name": "#%% md\n"
    }
   }
  },
  {
   "cell_type": "code",
   "execution_count": null,
   "outputs": [],
   "source": [
    "import torch.nn as nn\n",
    "import torch.nn.functional as F\n",
    "\n",
    "class BasicModule(nn.Module):\n",
    "    def __init__(self, in_ch, out_ch, kernel_size):\n",
    "        super(BasicModule, self).__init__()\n",
    "        self.conv1 = nn.Conv2d(in_ch, out_ch, kernel_size)\n",
    "        self.bn1 = nn.BatchNorm2d(out_ch)\n",
    "        self.relu = nn.ReLU()\n",
    "        self.conv2 = nn.Conv2d(out_ch, out_ch, kernel_size)\n",
    "        self.bn2 = nn.BatchNorm2d(out_ch)\n",
    "\n",
    "    def forward(self, x):\n",
    "        identity = x\n",
    "\n",
    "        out = self.conv1(x)\n",
    "        out = self.bn1(out)\n",
    "        out = self.relu(out)\n",
    "        out = self.conv2(out)\n",
    "        out = self.bn2(out)\n",
    "\n",
    "        # (1) Overloaded tensor addition operation\n",
    "        # Alternatively, could be called via a tensor function: skip_1.add_(identity)\n",
    "        out += identity\n",
    "        # (2) Relu module re-used\n",
    "        out = self.relu(out)\n",
    "\n",
    "        # (3) Using operation from 'torch' namespace\n",
    "        out = torch.cat([identity, out], dim=1)\n",
    "        # (4) Using function from torch.nn.functional\n",
    "        out = F.sigmoid(out)\n",
    "\n",
    "        return out "
   ],
   "metadata": {
    "collapsed": false,
    "pycharm": {
     "name": "#%%\n"
    }
   }
  },
  {
   "cell_type": "markdown",
   "source": [
    "## 2. Replace re-used modules with dedicated instances"
   ],
   "metadata": {
    "collapsed": false,
    "pycharm": {
     "name": "#%% md\n"
    }
   }
  },
  {
   "cell_type": "code",
   "execution_count": null,
   "outputs": [],
   "source": [],
   "metadata": {
    "collapsed": false,
    "pycharm": {
     "name": "#%%\n"
    }
   }
  }
 ],
 "metadata": {
  "kernelspec": {
   "display_name": "Python 3",
   "language": "python",
   "name": "python3"
  },
  "language_info": {
   "codemirror_mode": {
    "name": "ipython",
    "version": 2
   },
   "file_extension": ".py",
   "mimetype": "text/x-python",
   "name": "python",
   "nbconvert_exporter": "python",
   "pygments_lexer": "ipython2",
   "version": "2.7.6"
  },
  "pycharm": {
   "stem_cell": {
    "cell_type": "raw",
    "source": [],
    "metadata": {
     "collapsed": false
    }
   }
  }
 },
 "nbformat": 4,
 "nbformat_minor": 0
}