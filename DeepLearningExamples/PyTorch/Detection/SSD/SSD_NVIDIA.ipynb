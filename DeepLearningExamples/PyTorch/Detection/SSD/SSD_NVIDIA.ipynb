{
 "cells": [
  {
   "cell_type": "markdown",
   "metadata": {
    "collapsed": true,
    "pycharm": {
     "name": "#%% md\n"
    }
   },
   "source": [
    "# Attempt to run NVIDIA SSD impl...\n",
    "\n",
    "## Obsah\n",
    "\n",
    "*   [Predspracovanie](#predspracovanie)\n",
    "<a href='#predspracovanie'> </a>\n",
    "*   [Statistiky na staticku kvant.](#stats)\n",
    "<a href='#stats'> </a>\n",
    "*   [Base precision](#base)\n",
    "<a href='#base'> </a>\n",
    "*   [8 bit kvantizacia](#8bit)\n",
    "<a href='#8bit'> </a>\n",
    "*   [4 bit kvantizacia](#4bit)\n",
    "<a href='#4bit'> </a>"
   ]
  },
  {
   "cell_type": "markdown",
   "source": [
    "<a id='predspracovanie'> </a>\n",
    "# Predspracovanie"
   ],
   "metadata": {
    "collapsed": false,
    "pycharm": {
     "name": "#%% md\n"
    }
   }
  },
  {
   "cell_type": "code",
   "execution_count": 1,
   "outputs": [
    {
     "name": "stderr",
     "text": [
      "Using cache found in /home/bohumil/.cache/torch/hub/NVIDIA_DeepLearningExamples_torchhub\n"
     ],
     "output_type": "stream"
    }
   ],
   "source": [
    "import torch \n",
    "precision = 'fp32'\n",
    "ssd_model = torch.hub.load('NVIDIA/DeepLearningExamples:torchhub', 'nvidia_ssd', model_math=precision)"
   ],
   "metadata": {
    "collapsed": false,
    "pycharm": {
     "name": "#%%\n",
     "is_executing": false
    }
   }
  },
  {
   "cell_type": "markdown",
   "source": [
    "<a id='base'> </a>\n",
    "\n",
    "## Custom base prec. - distiller resnet"
   ],
   "metadata": {
    "collapsed": false,
    "pycharm": {
     "name": "#%% md\n"
    }
   }
  },
  {
   "cell_type": "code",
   "execution_count": 9,
   "outputs": [
    {
     "name": "stdout",
     "text": [
      "Using seed = 4095\r\n",
      "loading annotations into memory...\r\n",
      "Done (t=0.63s)\r\n",
      "creating index...\r\n",
      "index created!\r\n",
      "loading model checkpoint ./nvidia_ssdpyt_fp32_20190225.pt\r\n",
      "Logging configured successfully\r\n",
      "Parsing batch: 247/248\r\n",
      "Predicting Ended, total time: 485.93 s\r\n",
      "Loading and preparing results...\r\n",
      "Converting ndarray to lists...\r\n",
      "(162609, 7)\r\n",
      "0/162609\r\n",
      "DONE (t=1.23s)\r\n",
      "creating index...\r\n",
      "index created!\r\n",
      "Running per image evaluation...\r\n",
      "Evaluate annotation type *bbox*\r\n",
      "DONE (t=26.47s).\r\n",
      "Accumulating evaluation results...\r\n",
      "DONE (t=3.23s).\r\n",
      " Average Precision  (AP) @[ IoU=0.50:0.95 | area=   all | maxDets=100 ] = 0.131\r\n",
      " Average Precision  (AP) @[ IoU=0.50      | area=   all | maxDets=100 ] = 0.218\r\n",
      " Average Precision  (AP) @[ IoU=0.75      | area=   all | maxDets=100 ] = 0.133\r\n",
      " Average Precision  (AP) @[ IoU=0.50:0.95 | area= small | maxDets=100 ] = 0.046\r\n",
      " Average Precision  (AP) @[ IoU=0.50:0.95 | area=medium | maxDets=100 ] = 0.140\r\n",
      " Average Precision  (AP) @[ IoU=0.50:0.95 | area= large | maxDets=100 ] = 0.212\r\n",
      " Average Recall     (AR) @[ IoU=0.50:0.95 | area=   all | maxDets=  1 ] = 0.119\r\n",
      " Average Recall     (AR) @[ IoU=0.50:0.95 | area=   all | maxDets= 10 ] = 0.175\r\n",
      " Average Recall     (AR) @[ IoU=0.50:0.95 | area=   all | maxDets=100 ] = 0.184\r\n",
      " Average Recall     (AR) @[ IoU=0.50:0.95 | area= small | maxDets=100 ] = 0.065\r\n",
      " Average Recall     (AR) @[ IoU=0.50:0.95 | area=medium | maxDets=100 ] = 0.198\r\n",
      " Average Recall     (AR) @[ IoU=0.50:0.95 | area= large | maxDets=100 ] = 0.283\r\n",
      "Current AP: 0.13067\r\n",
      "Model precision 0.13067179252040528 mAP\r\n"
     ],
     "output_type": "stream"
    }
   ],
   "source": [
    "! python ./main.py --backbone resnet50 --mode evaluation --checkpoint ./nvidia_ssdpyt_fp32_20190225.pt --data /home/bohumil/FIIT/BP/BP/Zdroje_kod/coco --eval-batch-size 10 --num-workers 1 --split 0.5"
   ],
   "metadata": {
    "collapsed": false,
    "pycharm": {
     "name": "#%%\n",
     "is_executing": false
    }
   }
  },
  {
   "cell_type": "markdown",
   "source": [
    "## Base prec - original resnet"
   ],
   "metadata": {
    "collapsed": false,
    "pycharm": {
     "name": "#%% md\n"
    }
   }
  },
  {
   "cell_type": "code",
   "execution_count": 2,
   "outputs": [
    {
     "name": "stdout",
     "text": [
      "Using seed = 4298\r\n",
      "loading annotations into memory...\r\n",
      "Done (t=0.57s)\r\n",
      "creating index...\r\n",
      "index created!\r\n",
      "/home/bohumil/FIIT/BP/BP/Zdroje_kod/dist_env/lib/python3.7/site-packages/torch/nn/_reduction.py:43: UserWarning: size_average and reduce args will be deprecated, please use reduction='none' instead.\r\n",
      "  warnings.warn(warning.format(ret))\r\n",
      "loading model checkpoint ./nvidia_ssdpyt_fp32_20190225.pt\r\n",
      "Parsing batch: 247/248\r\n",
      "Predicting Ended, total time: 546.14 s\r\n",
      "Loading and preparing results...\r\n",
      "Converting ndarray to lists...\r\n",
      "(162584, 7)\r\n",
      "0/162584\r\n",
      "DONE (t=1.47s)\r\n",
      "creating index...\r\n",
      "index created!\r\n",
      "Running per image evaluation...\r\n",
      "Evaluate annotation type *bbox*\r\n",
      "DONE (t=31.65s).\r\n",
      "Accumulating evaluation results...\r\n",
      "DONE (t=4.52s).\r\n",
      " Average Precision  (AP) @[ IoU=0.50:0.95 | area=   all | maxDets=100 ] = 0.127\r\n",
      " Average Precision  (AP) @[ IoU=0.50      | area=   all | maxDets=100 ] = 0.213\r\n",
      " Average Precision  (AP) @[ IoU=0.75      | area=   all | maxDets=100 ] = 0.130\r\n",
      " Average Precision  (AP) @[ IoU=0.50:0.95 | area= small | maxDets=100 ] = 0.039\r\n",
      " Average Precision  (AP) @[ IoU=0.50:0.95 | area=medium | maxDets=100 ] = 0.139\r\n",
      " Average Precision  (AP) @[ IoU=0.50:0.95 | area= large | maxDets=100 ] = 0.216\r\n",
      " Average Recall     (AR) @[ IoU=0.50:0.95 | area=   all | maxDets=  1 ] = 0.117\r\n",
      " Average Recall     (AR) @[ IoU=0.50:0.95 | area=   all | maxDets= 10 ] = 0.171\r\n",
      " Average Recall     (AR) @[ IoU=0.50:0.95 | area=   all | maxDets=100 ] = 0.180\r\n",
      " Average Recall     (AR) @[ IoU=0.50:0.95 | area= small | maxDets=100 ] = 0.059\r\n",
      " Average Recall     (AR) @[ IoU=0.50:0.95 | area=medium | maxDets=100 ] = 0.194\r\n",
      " Average Recall     (AR) @[ IoU=0.50:0.95 | area= large | maxDets=100 ] = 0.289\r\n",
      "Current AP: 0.12708\r\n",
      "Model precision 0.12708331381314636 mAP\r\n"
     ],
     "output_type": "stream"
    }
   ],
   "source": [
    "! python ./main.py --backbone resnet50 --mode evaluation --checkpoint ./nvidia_ssdpyt_fp32_20190225.pt --data /home/bohumil/FIIT/BP/BP/Zdroje_kod/coco --eval-batch-size 10 --num-workers 1 --split 0.5"
   ],
   "metadata": {
    "collapsed": false,
    "pycharm": {
     "name": "#%%\n",
     "is_executing": false
    }
   }
  },
  {
   "cell_type": "code",
   "source": [
    "output:\n",
    "\n",
    "```\n",
    "Using seed = 4298\n",
    "loading annotations into memory...\n",
    "Done (t=0.57s)\n",
    "creating index...\n",
    "index created!\n",
    "/home/bohumil/FIIT/BP/BP/Zdroje_kod/dist_env/lib/python3.7/site-packages/torch/nn/_reduction.py:43: UserWarning: size_average and reduce args will be deprecated, please use reduction='none' instead.\n",
    "  warnings.warn(warning.format(ret))\n",
    "loading model checkpoint ./nvidia_ssdpyt_fp32_20190225.pt\n",
    "Parsing batch: 247/248\n",
    "Predicting Ended, total time: 546.14 s\n",
    "Loading and preparing results...\n",
    "Converting ndarray to lists...\n",
    "(162584, 7)\n",
    "0/162584\n",
    "DONE (t=1.47s)\n",
    "creating index...\n",
    "index created!\n",
    "Running per image evaluation...\n",
    "Evaluate annotation type *bbox*\n",
    "DONE (t=31.65s).\n",
    "Accumulating evaluation results...\n",
    "DONE (t=4.52s).\n",
    " Average Precision  (AP) @[ IoU=0.50:0.95 | area=   all | maxDets=100 ] = 0.127\n",
    " Average Precision  (AP) @[ IoU=0.50      | area=   all | maxDets=100 ] = 0.213\n",
    " Average Precision  (AP) @[ IoU=0.75      | area=   all | maxDets=100 ] = 0.130\n",
    " Average Precision  (AP) @[ IoU=0.50:0.95 | area= small | maxDets=100 ] = 0.039\n",
    " Average Precision  (AP) @[ IoU=0.50:0.95 | area=medium | maxDets=100 ] = 0.139\n",
    " Average Precision  (AP) @[ IoU=0.50:0.95 | area= large | maxDets=100 ] = 0.216\n",
    " Average Recall     (AR) @[ IoU=0.50:0.95 | area=   all | maxDets=  1 ] = 0.117\n",
    " Average Recall     (AR) @[ IoU=0.50:0.95 | area=   all | maxDets= 10 ] = 0.171\n",
    " Average Recall     (AR) @[ IoU=0.50:0.95 | area=   all | maxDets=100 ] = 0.180\n",
    " Average Recall     (AR) @[ IoU=0.50:0.95 | area= small | maxDets=100 ] = 0.059\n",
    " Average Recall     (AR) @[ IoU=0.50:0.95 | area=medium | maxDets=100 ] = 0.194\n",
    " Average Recall     (AR) @[ IoU=0.50:0.95 | area= large | maxDets=100 ] = 0.289\n",
    "Current AP: 0.12708\n",
    "Model precision 0.12708331381314636 mAP\n",
    "```"
   ],
   "metadata": {
    "collapsed": false,
    "pycharm": {
     "name": "#%% md \n",
     "is_executing": false
    }
   },
   "execution_count": 3,
   "outputs": [
    {
     "traceback": [
      "\u001B[0;36m  File \u001B[0;32m\"<ipython-input-3-f6a59df8ae09>\"\u001B[0;36m, line \u001B[0;32m1\u001B[0m\n\u001B[0;31m    output:\u001B[0m\n\u001B[0m           ^\u001B[0m\n\u001B[0;31mSyntaxError\u001B[0m\u001B[0;31m:\u001B[0m invalid syntax\n"
     ],
     "ename": "SyntaxError",
     "evalue": "invalid syntax (<ipython-input-3-f6a59df8ae09>, line 1)",
     "output_type": "error"
    }
   ]
  },
  {
   "cell_type": "markdown",
   "source": [
    "<a id='stats'> </a>\n",
    "\n",
    "## get stats for model with distiller resnet50"
   ],
   "metadata": {
    "collapsed": false,
    "pycharm": {
     "name": "#%% md\n"
    }
   }
  },
  {
   "cell_type": "code",
   "execution_count": 10,
   "outputs": [
    {
     "name": "stdout",
     "text": [
      "Using seed = 5682\r\n",
      "loading annotations into memory...\r\n",
      "Done (t=0.50s)\r\n",
      "creating index...\r\n",
      "index created!\r\n",
      "loading model checkpoint ./nvidia_ssdpyt_fp32_20190225.pt\r\n",
      "Logging configured successfully\r\n",
      "Logging configured successfully\r\n",
      "Generating quantization calibration stats based on 0.1 users\r\n",
      "Parsing batch: 49/50\r\n",
      "Predicting Ended, total time: 926.50 s\r\n",
      "Loading and preparing results...\r\n",
      "Converting ndarray to lists...\r\n",
      "(31898, 7)\r\n",
      "0/31898\r\n",
      "DONE (t=0.09s)\r\n",
      "creating index...\r\n",
      "index created!\r\n",
      "Running per image evaluation...\r\n",
      "Evaluate annotation type *bbox*\r\n",
      "DONE (t=10.33s).\r\n",
      "Accumulating evaluation results...\r\n",
      "DONE (t=1.53s).\r\n",
      " Average Precision  (AP) @[ IoU=0.50:0.95 | area=   all | maxDets=100 ] = 0.029\r\n",
      " Average Precision  (AP) @[ IoU=0.50      | area=   all | maxDets=100 ] = 0.045\r\n",
      " Average Precision  (AP) @[ IoU=0.75      | area=   all | maxDets=100 ] = 0.031\r\n",
      " Average Precision  (AP) @[ IoU=0.50:0.95 | area= small | maxDets=100 ] = 0.007\r\n",
      " Average Precision  (AP) @[ IoU=0.50:0.95 | area=medium | maxDets=100 ] = 0.032\r\n",
      " Average Precision  (AP) @[ IoU=0.50:0.95 | area= large | maxDets=100 ] = 0.042\r\n",
      " Average Recall     (AR) @[ IoU=0.50:0.95 | area=   all | maxDets=  1 ] = 0.023\r\n",
      " Average Recall     (AR) @[ IoU=0.50:0.95 | area=   all | maxDets= 10 ] = 0.033\r\n",
      " Average Recall     (AR) @[ IoU=0.50:0.95 | area=   all | maxDets=100 ] = 0.034\r\n",
      " Average Recall     (AR) @[ IoU=0.50:0.95 | area= small | maxDets=100 ] = 0.010\r\n",
      " Average Recall     (AR) @[ IoU=0.50:0.95 | area=medium | maxDets=100 ] = 0.039\r\n",
      " Average Recall     (AR) @[ IoU=0.50:0.95 | area= large | maxDets=100 ] = 0.049\r\n",
      "Current AP: 0.02865\r\n"
     ],
     "output_type": "stream"
    }
   ],
   "source": [
    "! python ./main.py --backbone resnet50 --mode stats --checkpoint ./nvidia_ssdpyt_fp32_20190225.pt --data /home/bohumil/FIIT/BP/BP/Zdroje_kod/coco --eval-batch-size 10 --num-workers 1 --split 0.1"
   ],
   "metadata": {
    "collapsed": false,
    "pycharm": {
     "name": "#%%\n",
     "is_executing": false
    }
   }
  },
  {
   "cell_type": "markdown",
   "source": [
    "<a id='8bit'> </a>\n",
    "\n",
    "# Quantization\n",
    "\n",
    "## 8 bit quant"
   ],
   "metadata": {
    "collapsed": false,
    "pycharm": {
     "name": "#%% md\n"
    }
   }
  },
  {
   "cell_type": "code",
   "source": [
    "! python ./main.py --backbone resnet50 --mode evaluation --quantize --config ./ssd_coco_post_train.yaml  --checkpoint ./nvidia_ssdpyt_fp32_20190225.pt --data /home/bohumil/FIIT/BP/BP/Zdroje_kod/coco --eval-batch-size 5 --num-workers 1 --split 0.5 --no-cuda"
   ],
   "metadata": {
    "collapsed": false,
    "pycharm": {
     "name": "#%%\n"
    }
   },
   "execution_count": null,
   "outputs": []
  },
  {
   "cell_type": "markdown",
   "source": [
    "```\n",
    "Using seed = 3474\n",
    "loading annotations into memory...\n",
    "Done (t=0.51s)\n",
    "creating index...\n",
    "index created!\n",
    "loading model checkpoint ./nvidia_ssdpyt_fp32_20190225.pt\n",
    "Logging configured successfully\n",
    "Reading configuration from: ./ssd_coco_post_train.yaml\n",
    "Found component of class PostTrainLinearQuantizer: Name: post_train_quantizer ; Section: quantizers\n",
    "Loading activation stats from: /home/bohumil/FIIT/BP/BP/Zdroje_kod/quantization_jupyters/DeepLearningExamples/PyTorch/Detection/SSD/act_quantization_stats.yaml\n",
    "Preparing model for quantization using PostTrainLinearQuantizer\n",
    "Applying batch-norm folding ahead of post-training quantization\n",
    "Propagating output statistics from BN modules to folded modules\n",
    "Optimizing output statistics for modules followed by ReLU/Tanh/Sigmoid\n",
    "Updated stats saved to ./quant_stats_after_prepare_model.yaml\n",
    "Per-layer quantization parameters saved to ./layer_quant_params.yaml\n",
    "Parsing batch: 495/496\n",
    "Predicting Ended, total time: 2779.94 s\n",
    "Loading and preparing results...\n",
    "Converting ndarray to lists...\n",
    "(174579, 7)\n",
    "0/174579\n",
    "DONE (t=1.24s)\n",
    "creating index...\n",
    "index created!\n",
    "Running per image evaluation...\n",
    "Evaluate annotation type *bbox*\n",
    "DONE (t=25.23s).\n",
    "Accumulating evaluation results...\n",
    "DONE (t=3.18s).\n",
    " Average Precision  (AP) @[ IoU=0.50:0.95 | area=   all | maxDets=100 ] = 0.123\n",
    " Average Precision  (AP) @[ IoU=0.50      | area=   all | maxDets=100 ] = 0.205\n",
    " Average Precision  (AP) @[ IoU=0.75      | area=   all | maxDets=100 ] = 0.127\n",
    " Average Precision  (AP) @[ IoU=0.50:0.95 | area= small | maxDets=100 ] = 0.033\n",
    " Average Precision  (AP) @[ IoU=0.50:0.95 | area=medium | maxDets=100 ] = 0.133\n",
    " Average Precision  (AP) @[ IoU=0.50:0.95 | area= large | maxDets=100 ] = 0.202\n",
    " Average Recall     (AR) @[ IoU=0.50:0.95 | area=   all | maxDets=  1 ] = 0.116\n",
    " Average Recall     (AR) @[ IoU=0.50:0.95 | area=   all | maxDets= 10 ] = 0.169\n",
    " Average Recall     (AR) @[ IoU=0.50:0.95 | area=   all | maxDets=100 ] = 0.179\n",
    " Average Recall     (AR) @[ IoU=0.50:0.95 | area= small | maxDets=100 ] = 0.057\n",
    " Average Recall     (AR) @[ IoU=0.50:0.95 | area=medium | maxDets=100 ] = 0.197\n",
    " Average Recall     (AR) @[ IoU=0.50:0.95 | area= large | maxDets=100 ] = 0.271\n",
    "Current AP: 0.12273\n",
    "Model precision 0.12273303465396057 mAP\n",
    "```\n"
   ],
   "metadata": {
    "collapsed": false,
    "pycharm": {
     "name": "#%% md\n"
    }
   }
  },
  {
   "cell_type": "markdown",
   "source": [
    "<a id='4bit'> </a>\n",
    "\n",
    "## 4 bit quant\n",
    "*   len 0.1 z datasetu"
   ],
   "metadata": {
    "collapsed": false,
    "pycharm": {
     "name": "#%% md\n"
    }
   }
  },
  {
   "cell_type": "code",
   "execution_count": 2,
   "outputs": [
    {
     "name": "stdout",
     "text": [
      "Using seed = 6671\r\n",
      "loading annotations into memory...\r\n",
      "Done (t=0.67s)\r\n",
      "creating index...\r\n",
      "index created!\r\n",
      "loading model checkpoint ./nvidia_ssdpyt_fp32_20190225.pt\r\n",
      "Logging configured successfully\r\n",
      "Reading configuration from: ./ssd_coco_post_train_4bit.yaml\r\n",
      "Found component of class PostTrainLinearQuantizer: Name: post_train_quantizer ; Section: quantizers\r\n",
      "Loading activation stats from: /home/bohumil/FIIT/BP/BP/Zdroje_kod/quantization_jupyters/DeepLearningExamples/PyTorch/Detection/SSD/act_quantization_stats.yaml\r\n",
      "Preparing model for quantization using PostTrainLinearQuantizer\r\n",
      "Applying batch-norm folding ahead of post-training quantization\r\n",
      "Propagating output statistics from BN modules to folded modules\r\n",
      "Optimizing output statistics for modules followed by ReLU/Tanh/Sigmoid\r\n",
      "Updated stats saved to ./quant_stats_after_prepare_model.yaml\r\n",
      "Per-layer quantization parameters saved to ./layer_quant_params.yaml\r\n",
      "Parsing batch: 98/99\r\n",
      "Predicting Ended, total time: 555.69 s\r\n",
      "Loading and preparing results...\r\n",
      "Converting ndarray to lists...\r\n",
      "(97581, 7)\r\n",
      "0/97581\r\n",
      "DONE (t=0.79s)\r\n",
      "creating index...\r\n",
      "index created!\r\n",
      "Running per image evaluation...\r\n",
      "Evaluate annotation type *bbox*\r\n",
      "DONE (t=13.04s).\r\n",
      "Accumulating evaluation results...\r\n",
      "DONE (t=2.23s).\r\n",
      " Average Precision  (AP) @[ IoU=0.50:0.95 | area=   all | maxDets=100 ] = 0.011\r\n",
      " Average Precision  (AP) @[ IoU=0.50      | area=   all | maxDets=100 ] = 0.020\r\n",
      " Average Precision  (AP) @[ IoU=0.75      | area=   all | maxDets=100 ] = 0.011\r\n",
      " Average Precision  (AP) @[ IoU=0.50:0.95 | area= small | maxDets=100 ] = 0.003\r\n",
      " Average Precision  (AP) @[ IoU=0.50:0.95 | area=medium | maxDets=100 ] = 0.011\r\n",
      " Average Precision  (AP) @[ IoU=0.50:0.95 | area= large | maxDets=100 ] = 0.019\r\n",
      " Average Recall     (AR) @[ IoU=0.50:0.95 | area=   all | maxDets=  1 ] = 0.010\r\n",
      " Average Recall     (AR) @[ IoU=0.50:0.95 | area=   all | maxDets= 10 ] = 0.016\r\n",
      " Average Recall     (AR) @[ IoU=0.50:0.95 | area=   all | maxDets=100 ] = 0.017\r\n",
      " Average Recall     (AR) @[ IoU=0.50:0.95 | area= small | maxDets=100 ] = 0.005\r\n",
      " Average Recall     (AR) @[ IoU=0.50:0.95 | area=medium | maxDets=100 ] = 0.020\r\n",
      " Average Recall     (AR) @[ IoU=0.50:0.95 | area= large | maxDets=100 ] = 0.027\r\n",
      "Current AP: 0.01091\r\n",
      "Model precision 0.01090666816351124 mAP\r\n"
     ],
     "output_type": "stream"
    }
   ],
   "source": [
    "! python ./main.py --backbone resnet50 --mode evaluation --quantize --config ./ssd_coco_post_train_4bit.yaml  --checkpoint ./nvidia_ssdpyt_fp32_20190225.pt --data /home/bohumil/FIIT/BP/BP/Zdroje_kod/coco --eval-batch-size 5 --num-workers 1 --split 0.1 --no-cuda"
   ],
   "metadata": {
    "collapsed": false,
    "pycharm": {
     "name": "#%%\n",
     "is_executing": false
    }
   }
  },
  {
   "cell_type": "markdown",
   "source": [
    "## 4 bit vacsi dataset\n",
    "*   skúsme 0.5 z datasetu\n",
    "*   base prec máme na 0.5\n",
    "*   taktiez nastavime rovnaky seed - 4298"
   ],
   "metadata": {
    "collapsed": false,
    "pycharm": {
     "name": "#%% md\n"
    }
   }
  },
  {
   "cell_type": "code",
   "execution_count": 2,
   "outputs": [
    {
     "name": "stdout",
     "text": [
      "Using seed = 4298\r\n",
      "loading annotations into memory...\r\n",
      "Done (t=0.71s)\r\n",
      "creating index...\r\n",
      "index created!\r\n",
      "loading model checkpoint ./nvidia_ssdpyt_fp32_20190225.pt\r\n",
      "Logging configured successfully\r\n",
      "Reading configuration from: ./ssd_coco_post_train_4bit.yaml\r\n",
      "Found component of class PostTrainLinearQuantizer: Name: post_train_quantizer ; Section: quantizers\r\n",
      "Loading activation stats from: /home/bohumil/FIIT/BP/BP/Zdroje_kod/quantization_jupyters/DeepLearningExamples/PyTorch/Detection/SSD/act_quantization_stats.yaml\r\n",
      "Preparing model for quantization using PostTrainLinearQuantizer\r\n",
      "Applying batch-norm folding ahead of post-training quantization\r\n",
      "Propagating output statistics from BN modules to folded modules\r\n",
      "Optimizing output statistics for modules followed by ReLU/Tanh/Sigmoid\r\n",
      "Updated stats saved to ./quant_stats_after_prepare_model.yaml\r\n",
      "Per-layer quantization parameters saved to ./layer_quant_params.yaml\r\n",
      "Parsing batch: 495/496\r\n",
      "Predicting Ended, total time: 2804.28 s\r\n",
      "Loading and preparing results...\r\n",
      "Converting ndarray to lists...\r\n",
      "(488226, 7)\r\n",
      "0/488226\r\n",
      "DONE (t=2.84s)\r\n",
      "creating index...\r\n",
      "index created!\r\n",
      "Running per image evaluation...\r\n",
      "Evaluate annotation type *bbox*\r\n",
      "DONE (t=38.88s).\r\n",
      "Accumulating evaluation results...\r\n",
      "DONE (t=6.82s).\r\n",
      " Average Precision  (AP) @[ IoU=0.50:0.95 | area=   all | maxDets=100 ] = 0.039\r\n",
      " Average Precision  (AP) @[ IoU=0.50      | area=   all | maxDets=100 ] = 0.077\r\n",
      " Average Precision  (AP) @[ IoU=0.75      | area=   all | maxDets=100 ] = 0.036\r\n",
      " Average Precision  (AP) @[ IoU=0.50:0.95 | area= small | maxDets=100 ] = 0.010\r\n",
      " Average Precision  (AP) @[ IoU=0.50:0.95 | area=medium | maxDets=100 ] = 0.041\r\n",
      " Average Precision  (AP) @[ IoU=0.50:0.95 | area= large | maxDets=100 ] = 0.078\r\n",
      " Average Recall     (AR) @[ IoU=0.50:0.95 | area=   all | maxDets=  1 ] = 0.049\r\n",
      " Average Recall     (AR) @[ IoU=0.50:0.95 | area=   all | maxDets= 10 ] = 0.074\r\n",
      " Average Recall     (AR) @[ IoU=0.50:0.95 | area=   all | maxDets=100 ] = 0.081\r\n",
      " Average Recall     (AR) @[ IoU=0.50:0.95 | area= small | maxDets=100 ] = 0.025\r\n",
      " Average Recall     (AR) @[ IoU=0.50:0.95 | area=medium | maxDets=100 ] = 0.092\r\n",
      " Average Recall     (AR) @[ IoU=0.50:0.95 | area= large | maxDets=100 ] = 0.129\r\n",
      "Current AP: 0.03861\r\n",
      "Model precision 0.038613544191259466 mAP\r\n"
     ],
     "output_type": "stream"
    }
   ],
   "source": [
    "! python ./main.py --backbone resnet50 --mode evaluation --quantize --config ./ssd_coco_post_train_4bit.yaml  --checkpoint ./nvidia_ssdpyt_fp32_20190225.pt --data /home/bohumil/FIIT/BP/BP/Zdroje_kod/coco --eval-batch-size 5 --num-workers 1 --split 0.5 --no-cuda --seed 4298"
   ],
   "metadata": {
    "collapsed": false,
    "pycharm": {
     "name": "#%%\n",
     "is_executing": false
    }
   }
  },
  {
   "cell_type": "markdown",
   "source": [
    "## 4 bit summary\n",
    "\n",
    "čiže máme AP = 4%\n",
    "\n",
    "pre porovnanie, pri full prec. AP = 13%\n",
    "\n",
    "Teda máme pokles presnosti o cca 66%\n",
    " "
   ],
   "metadata": {
    "collapsed": false,
    "pycharm": {
     "name": "#%% md\n"
    }
   }
  },
  {
   "cell_type": "markdown",
   "source": [
    "# not used"
   ],
   "metadata": {
    "collapsed": false,
    "pycharm": {
     "name": "#%% md\n"
    }
   }
  },
  {
   "cell_type": "code",
   "execution_count": null,
   "outputs": [],
   "source": [],
   "metadata": {
    "collapsed": false,
    "pycharm": {
     "name": "#%%\n"
    }
   }
  },
  {
   "cell_type": "code",
   "execution_count": null,
   "outputs": [],
   "source": [
    "import distiller\n",
    "\n",
    "from src.model import SSD300, ResNet, Loss\n",
    "from src.train import load_checkpoint\n",
    "\n",
    "ssd300 = SSD300(backbone=ResNet('resnet50', None))\n",
    "ssd300.cuda()\n",
    "\n",
    "load_checkpoint(ssd300, './nvidia_ssdpyt_fp32_20190225.pt')\n",
    "\n",
    "# checkpoint = torch.load('./nvidia_ssdpyt_fp32_20190225.pt',map_location=lambda storage,\n",
    "#                         loc: storage.cuda(torch.cuda.current_device()))"
   ],
   "metadata": {
    "collapsed": false,
    "pycharm": {
     "name": "#%%\n"
    }
   }
  },
  {
   "cell_type": "code",
   "execution_count": null,
   "outputs": [],
   "source": [
    "ssd300.input_shape"
   ],
   "metadata": {
    "collapsed": false,
    "pycharm": {
     "name": "#%%\n"
    }
   }
  },
  {
   "cell_type": "code",
   "execution_count": null,
   "outputs": [],
   "source": [
    "cpu_ssd = distiller.make_non_parallel_copy(ssd300)\n",
    "\n",
    "\n"
   ],
   "metadata": {
    "collapsed": false,
    "pycharm": {
     "name": "#%%\n"
    }
   }
  }
 ],
 "metadata": {
  "kernelspec": {
   "display_name": "Python 3",
   "language": "python",
   "name": "python3"
  },
  "language_info": {
   "codemirror_mode": {
    "name": "ipython",
    "version": 2
   },
   "file_extension": ".py",
   "mimetype": "text/x-python",
   "name": "python",
   "nbconvert_exporter": "python",
   "pygments_lexer": "ipython2",
   "version": "2.7.6"
  }
 },
 "nbformat": 4,
 "nbformat_minor": 0
}