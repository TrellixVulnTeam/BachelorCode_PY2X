{
 "cells": [
  {
   "cell_type": "markdown",
   "metadata": {
    "collapsed": true,
    "pycharm": {
     "name": "#%% md\n"
    }
   },
   "source": [
    "# Attempt to run NVIDIA SSD impl...\n",
    "\n",
    "## Obsah\n",
    "\n",
    "*   [Predspracovanie](#predspracovanie)\n",
    "<a href='#predspracovanie'> </a>\n",
    "*   [Statistiky na staticku kvant.](#stats)\n",
    "<a href='#stats'> </a>\n",
    "*   [Base precision](#base)\n",
    "<a href='#base'> </a>\n",
    "*   [8 bit kvantizacia](#8bit)\n",
    "<a href='#8bit'> </a>\n",
    "*   [7 bit kvantizacia](#7bit)\n",
    "<a href='#8bit'> </a>\n",
    "*   [6 bit kvantizacia](#6bit)\n",
    "<a href='#8bit'> </a>\n",
    "*   [5 bit kvantizacia](#5bit)\n",
    "<a href='#8bit'> </a>\n",
    "*   [4 bit kvantizacia](#4bit)\n",
    "<a href='#4bit'> </a>"
   ]
  },
  {
   "cell_type": "markdown",
   "source": [
    "<a id='predspracovanie'> </a>\n",
    "# Predspracovanie"
   ],
   "metadata": {
    "collapsed": false,
    "pycharm": {
     "name": "#%% md\n"
    }
   }
  },
  {
   "cell_type": "code",
   "execution_count": 1,
   "outputs": [
    {
     "name": "stderr",
     "text": [
      "Using cache found in /home/bohumil/.cache/torch/hub/NVIDIA_DeepLearningExamples_torchhub\n"
     ],
     "output_type": "stream"
    }
   ],
   "source": [
    "import torch \n",
    "precision = 'fp32'\n",
    "ssd_model = torch.hub.load('NVIDIA/DeepLearningExamples:torchhub', 'nvidia_ssd', model_math=precision)"
   ],
   "metadata": {
    "collapsed": false,
    "pycharm": {
     "name": "#%%\n",
     "is_executing": false
    }
   }
  },
  {
   "cell_type": "markdown",
   "source": [
    "<a id='base'> </a>\n",
    "\n",
    "## Custom base prec. - distiller resnet"
   ],
   "metadata": {
    "collapsed": false,
    "pycharm": {
     "name": "#%% md\n"
    }
   }
  },
  {
   "cell_type": "code",
   "execution_count": 9,
   "outputs": [
    {
     "name": "stdout",
     "text": [
      "Using seed = 4095\r\n",
      "loading annotations into memory...\r\n",
      "Done (t=0.63s)\r\n",
      "creating index...\r\n",
      "index created!\r\n",
      "loading model checkpoint ./nvidia_ssdpyt_fp32_20190225.pt\r\n",
      "Logging configured successfully\r\n",
      "Parsing batch: 247/248\r\n",
      "Predicting Ended, total time: 485.93 s\r\n",
      "Loading and preparing results...\r\n",
      "Converting ndarray to lists...\r\n",
      "(162609, 7)\r\n",
      "0/162609\r\n",
      "DONE (t=1.23s)\r\n",
      "creating index...\r\n",
      "index created!\r\n",
      "Running per image evaluation...\r\n",
      "Evaluate annotation type *bbox*\r\n",
      "DONE (t=26.47s).\r\n",
      "Accumulating evaluation results...\r\n",
      "DONE (t=3.23s).\r\n",
      " Average Precision  (AP) @[ IoU=0.50:0.95 | area=   all | maxDets=100 ] = 0.131\r\n",
      " Average Precision  (AP) @[ IoU=0.50      | area=   all | maxDets=100 ] = 0.218\r\n",
      " Average Precision  (AP) @[ IoU=0.75      | area=   all | maxDets=100 ] = 0.133\r\n",
      " Average Precision  (AP) @[ IoU=0.50:0.95 | area= small | maxDets=100 ] = 0.046\r\n",
      " Average Precision  (AP) @[ IoU=0.50:0.95 | area=medium | maxDets=100 ] = 0.140\r\n",
      " Average Precision  (AP) @[ IoU=0.50:0.95 | area= large | maxDets=100 ] = 0.212\r\n",
      " Average Recall     (AR) @[ IoU=0.50:0.95 | area=   all | maxDets=  1 ] = 0.119\r\n",
      " Average Recall     (AR) @[ IoU=0.50:0.95 | area=   all | maxDets= 10 ] = 0.175\r\n",
      " Average Recall     (AR) @[ IoU=0.50:0.95 | area=   all | maxDets=100 ] = 0.184\r\n",
      " Average Recall     (AR) @[ IoU=0.50:0.95 | area= small | maxDets=100 ] = 0.065\r\n",
      " Average Recall     (AR) @[ IoU=0.50:0.95 | area=medium | maxDets=100 ] = 0.198\r\n",
      " Average Recall     (AR) @[ IoU=0.50:0.95 | area= large | maxDets=100 ] = 0.283\r\n",
      "Current AP: 0.13067\r\n",
      "Model precision 0.13067179252040528 mAP\r\n"
     ],
     "output_type": "stream"
    }
   ],
   "source": [
    "! python ./main.py --backbone resnet50 --mode evaluation --checkpoint ./nvidia_ssdpyt_fp32_20190225.pt --data /home/bohumil/FIIT/BP/BP/Zdroje_kod/coco --eval-batch-size 10 --num-workers 1 --split 0.5"
   ],
   "metadata": {
    "collapsed": false,
    "pycharm": {
     "name": "#%%\n",
     "is_executing": false
    }
   }
  },
  {
   "cell_type": "markdown",
   "source": [
    "## Base prec - original resnet"
   ],
   "metadata": {
    "collapsed": false,
    "pycharm": {
     "name": "#%% md\n"
    }
   }
  },
  {
   "cell_type": "code",
   "execution_count": 2,
   "outputs": [
    {
     "name": "stdout",
     "text": [
      "Using seed = 4298\r\n",
      "loading annotations into memory...\r\n",
      "Done (t=0.57s)\r\n",
      "creating index...\r\n",
      "index created!\r\n",
      "/home/bohumil/FIIT/BP/BP/Zdroje_kod/dist_env/lib/python3.7/site-packages/torch/nn/_reduction.py:43: UserWarning: size_average and reduce args will be deprecated, please use reduction='none' instead.\r\n",
      "  warnings.warn(warning.format(ret))\r\n",
      "loading model checkpoint ./nvidia_ssdpyt_fp32_20190225.pt\r\n",
      "Parsing batch: 247/248\r\n",
      "Predicting Ended, total time: 546.14 s\r\n",
      "Loading and preparing results...\r\n",
      "Converting ndarray to lists...\r\n",
      "(162584, 7)\r\n",
      "0/162584\r\n",
      "DONE (t=1.47s)\r\n",
      "creating index...\r\n",
      "index created!\r\n",
      "Running per image evaluation...\r\n",
      "Evaluate annotation type *bbox*\r\n",
      "DONE (t=31.65s).\r\n",
      "Accumulating evaluation results...\r\n",
      "DONE (t=4.52s).\r\n",
      " Average Precision  (AP) @[ IoU=0.50:0.95 | area=   all | maxDets=100 ] = 0.127\r\n",
      " Average Precision  (AP) @[ IoU=0.50      | area=   all | maxDets=100 ] = 0.213\r\n",
      " Average Precision  (AP) @[ IoU=0.75      | area=   all | maxDets=100 ] = 0.130\r\n",
      " Average Precision  (AP) @[ IoU=0.50:0.95 | area= small | maxDets=100 ] = 0.039\r\n",
      " Average Precision  (AP) @[ IoU=0.50:0.95 | area=medium | maxDets=100 ] = 0.139\r\n",
      " Average Precision  (AP) @[ IoU=0.50:0.95 | area= large | maxDets=100 ] = 0.216\r\n",
      " Average Recall     (AR) @[ IoU=0.50:0.95 | area=   all | maxDets=  1 ] = 0.117\r\n",
      " Average Recall     (AR) @[ IoU=0.50:0.95 | area=   all | maxDets= 10 ] = 0.171\r\n",
      " Average Recall     (AR) @[ IoU=0.50:0.95 | area=   all | maxDets=100 ] = 0.180\r\n",
      " Average Recall     (AR) @[ IoU=0.50:0.95 | area= small | maxDets=100 ] = 0.059\r\n",
      " Average Recall     (AR) @[ IoU=0.50:0.95 | area=medium | maxDets=100 ] = 0.194\r\n",
      " Average Recall     (AR) @[ IoU=0.50:0.95 | area= large | maxDets=100 ] = 0.289\r\n",
      "Current AP: 0.12708\r\n",
      "Model precision 0.12708331381314636 mAP\r\n"
     ],
     "output_type": "stream"
    }
   ],
   "source": [
    "! python ./main.py --backbone resnet50 --mode evaluation --checkpoint ./nvidia_ssdpyt_fp32_20190225.pt --data /home/bohumil/FIIT/BP/BP/Zdroje_kod/coco --eval-batch-size 10 --num-workers 1 --split 0.5"
   ],
   "metadata": {
    "collapsed": false,
    "pycharm": {
     "name": "#%%\n",
     "is_executing": false
    }
   }
  },
  {
   "cell_type": "markdown",
   "source": [
    "output:\n",
    "\n",
    "```python\n",
    "Using seed = 4298\n",
    "loading annotations into memory...\n",
    "Done (t=0.57s)\n",
    "creating index...\n",
    "index created!\n",
    "/home/bohumil/FIIT/BP/BP/Zdroje_kod/dist_env/lib/python3.7/site-packages/torch/nn/_reduction.py:43: UserWarning: size_average and reduce args will be deprecated, please use reduction='none' instead.\n",
    "  warnings.warn(warning.format(ret))\n",
    "loading model checkpoint ./nvidia_ssdpyt_fp32_20190225.pt\n",
    "Parsing batch: 247/248\n",
    "Predicting Ended, total time: 546.14 s\n",
    "Loading and preparing results...\n",
    "Converting ndarray to lists...\n",
    "(162584, 7)\n",
    "0/162584\n",
    "DONE (t=1.47s)\n",
    "creating index...\n",
    "index created!\n",
    "Running per image evaluation...\n",
    "Evaluate annotation type *bbox*\n",
    "DONE (t=31.65s).\n",
    "Accumulating evaluation results...\n",
    "DONE (t=4.52s).\n",
    " Average Precision  (AP) @[ IoU=0.50:0.95 | area=   all | maxDets=100 ] = 0.127\n",
    " Average Precision  (AP) @[ IoU=0.50      | area=   all | maxDets=100 ] = 0.213\n",
    " Average Precision  (AP) @[ IoU=0.75      | area=   all | maxDets=100 ] = 0.130\n",
    " Average Precision  (AP) @[ IoU=0.50:0.95 | area= small | maxDets=100 ] = 0.039\n",
    " Average Precision  (AP) @[ IoU=0.50:0.95 | area=medium | maxDets=100 ] = 0.139\n",
    " Average Precision  (AP) @[ IoU=0.50:0.95 | area= large | maxDets=100 ] = 0.216\n",
    " Average Recall     (AR) @[ IoU=0.50:0.95 | area=   all | maxDets=  1 ] = 0.117\n",
    " Average Recall     (AR) @[ IoU=0.50:0.95 | area=   all | maxDets= 10 ] = 0.171\n",
    " Average Recall     (AR) @[ IoU=0.50:0.95 | area=   all | maxDets=100 ] = 0.180\n",
    " Average Recall     (AR) @[ IoU=0.50:0.95 | area= small | maxDets=100 ] = 0.059\n",
    " Average Recall     (AR) @[ IoU=0.50:0.95 | area=medium | maxDets=100 ] = 0.194\n",
    " Average Recall     (AR) @[ IoU=0.50:0.95 | area= large | maxDets=100 ] = 0.289\n",
    "Current AP: 0.12708\n",
    "Model precision 0.12708331381314636 mAP\n",
    "```"
   ],
   "metadata": {
    "collapsed": false,
    "pycharm": {
     "name": "#%% md\n",
     "is_executing": false
    }
   }
  },
  {
   "cell_type": "markdown",
   "source": [
    "<a id='stats'> </a>\n",
    "\n",
    "## get stats for model with distiller resnet50"
   ],
   "metadata": {
    "collapsed": false,
    "pycharm": {
     "name": "#%% md\n"
    }
   }
  },
  {
   "cell_type": "code",
   "execution_count": 10,
   "outputs": [
    {
     "name": "stdout",
     "text": [
      "Using seed = 5682\r\n",
      "loading annotations into memory...\r\n",
      "Done (t=0.50s)\r\n",
      "creating index...\r\n",
      "index created!\r\n",
      "loading model checkpoint ./nvidia_ssdpyt_fp32_20190225.pt\r\n",
      "Logging configured successfully\r\n",
      "Logging configured successfully\r\n",
      "Generating quantization calibration stats based on 0.1 users\r\n",
      "Parsing batch: 49/50\r\n",
      "Predicting Ended, total time: 926.50 s\r\n",
      "Loading and preparing results...\r\n",
      "Converting ndarray to lists...\r\n",
      "(31898, 7)\r\n",
      "0/31898\r\n",
      "DONE (t=0.09s)\r\n",
      "creating index...\r\n",
      "index created!\r\n",
      "Running per image evaluation...\r\n",
      "Evaluate annotation type *bbox*\r\n",
      "DONE (t=10.33s).\r\n",
      "Accumulating evaluation results...\r\n",
      "DONE (t=1.53s).\r\n",
      " Average Precision  (AP) @[ IoU=0.50:0.95 | area=   all | maxDets=100 ] = 0.029\r\n",
      " Average Precision  (AP) @[ IoU=0.50      | area=   all | maxDets=100 ] = 0.045\r\n",
      " Average Precision  (AP) @[ IoU=0.75      | area=   all | maxDets=100 ] = 0.031\r\n",
      " Average Precision  (AP) @[ IoU=0.50:0.95 | area= small | maxDets=100 ] = 0.007\r\n",
      " Average Precision  (AP) @[ IoU=0.50:0.95 | area=medium | maxDets=100 ] = 0.032\r\n",
      " Average Precision  (AP) @[ IoU=0.50:0.95 | area= large | maxDets=100 ] = 0.042\r\n",
      " Average Recall     (AR) @[ IoU=0.50:0.95 | area=   all | maxDets=  1 ] = 0.023\r\n",
      " Average Recall     (AR) @[ IoU=0.50:0.95 | area=   all | maxDets= 10 ] = 0.033\r\n",
      " Average Recall     (AR) @[ IoU=0.50:0.95 | area=   all | maxDets=100 ] = 0.034\r\n",
      " Average Recall     (AR) @[ IoU=0.50:0.95 | area= small | maxDets=100 ] = 0.010\r\n",
      " Average Recall     (AR) @[ IoU=0.50:0.95 | area=medium | maxDets=100 ] = 0.039\r\n",
      " Average Recall     (AR) @[ IoU=0.50:0.95 | area= large | maxDets=100 ] = 0.049\r\n",
      "Current AP: 0.02865\r\n"
     ],
     "output_type": "stream"
    }
   ],
   "source": [
    "! python ./main.py --backbone resnet50 --mode stats --checkpoint ./nvidia_ssdpyt_fp32_20190225.pt --data /home/bohumil/FIIT/BP/BP/Zdroje_kod/coco --eval-batch-size 10 --num-workers 1 --split 0.1"
   ],
   "metadata": {
    "collapsed": false,
    "pycharm": {
     "name": "#%%\n",
     "is_executing": false
    }
   }
  },
  {
   "cell_type": "markdown",
   "source": [
    "<a id='8bit'> </a>\n",
    "\n",
    "# Quantization\n",
    "\n",
    "## 8 bit quant"
   ],
   "metadata": {
    "collapsed": false,
    "pycharm": {
     "name": "#%% md\n"
    }
   }
  },
  {
   "cell_type": "code",
   "source": [
    "! python ./main.py --backbone resnet50 --mode evaluation --quantize --config ./ssd_coco_post_train.yaml  --checkpoint ./nvidia_ssdpyt_fp32_20190225.pt --data /home/bohumil/FIIT/BP/BP/Zdroje_kod/coco --eval-batch-size 5 --num-workers 1 --split 0.5 --no-cuda"
   ],
   "metadata": {
    "collapsed": false,
    "pycharm": {
     "name": "#%%\n"
    }
   },
   "execution_count": 4,
   "outputs": [
    {
     "name": "stdout",
     "output_type": "stream",
     "text": [
      "Using seed = 6827\r\n",
      "loading annotations into memory...\r\n",
      "Done (t=0.55s)\r\n",
      "creating index...\r\n",
      "index created!\r\n",
      "loading model checkpoint ./nvidia_ssdpyt_fp32_20190225.pt\r\n",
      "Logging configured successfully\r\n",
      "Reading configuration from: ./ssd_coco_post_train.yaml\r\n",
      "Found component of class PostTrainLinearQuantizer: Name: post_train_quantizer ; Section: quantizers\r\n",
      "Loading activation stats from: ./act_quantization_stats.yaml\r\n",
      "Preparing model for quantization using PostTrainLinearQuantizer\r\n",
      "^C\r\n",
      "Traceback (most recent call last):\r\n",
      "  File \"./main.py\", line 328, in <module>\r\n",
      "    train(logger, args)\r\n",
      "  File \"./main.py\", line 255, in train\r\n",
      "    quantizer.prepare_model(dummy)\r\n",
      "  File \"/home/bohumil/FIIT/BP/BP/Zdroje_kod/distiller/distiller/quantization/range_linear.py\", line 1969, in prepare_model\r\n",
      "    super(PostTrainLinearQuantizer, self).prepare_model(dummy_input)\r\n",
      "  File \"/home/bohumil/FIIT/BP/BP/Zdroje_kod/distiller/distiller/quantization/quantizer.py\", line 233, in prepare_model\r\n",
      "    summary_graph = distiller.SummaryGraph(self.model, dummy_input)\r\n",
      "  File \"/home/bohumil/FIIT/BP/BP/Zdroje_kod/distiller/distiller/summary_graph.py\", line 90, in __init__\r\n",
      "    trace, _ = jit.get_trace_graph(model_clone, dummy_input, _force_outplace=True)\r\n",
      "  File \"/home/bohumil/FIIT/BP/BP/Zdroje_kod/dist_env/lib/python3.7/site-packages/torch/jit/__init__.py\", line 275, in get_trace_graph\r\n",
      "    return LegacyTracedModule(f, _force_outplace, return_inputs, _return_inputs_states)(*args, **kwargs)\r\n",
      "  File \"/home/bohumil/FIIT/BP/BP/Zdroje_kod/dist_env/lib/python3.7/site-packages/torch/nn/modules/module.py\", line 541, in __call__\r\n",
      "    result = self.forward(*input, **kwargs)\r\n",
      "  File \"/home/bohumil/FIIT/BP/BP/Zdroje_kod/dist_env/lib/python3.7/site-packages/torch/jit/__init__.py\", line 352, in forward\r\n",
      "    out = self.inner(*trace_inputs)\r\n",
      "  File \"/home/bohumil/FIIT/BP/BP/Zdroje_kod/dist_env/lib/python3.7/site-packages/torch/nn/modules/module.py\", line 539, in __call__\r\n",
      "    result = self._slow_forward(*input, **kwargs)\r\n",
      "  File \"/home/bohumil/FIIT/BP/BP/Zdroje_kod/dist_env/lib/python3.7/site-packages/torch/nn/modules/module.py\", line 525, in _slow_forward\r\n",
      "    result = self.forward(*input, **kwargs)\r\n",
      "  File \"/home/bohumil/FIIT/BP/BP/Zdroje_kod/quantization_jupyters/DeepLearningExamples/PyTorch/Detection/SSD/src/model.py\", line 119, in forward\r\n",
      "    x = self.feature_extractor(x)\r\n",
      "  File \"/home/bohumil/FIIT/BP/BP/Zdroje_kod/dist_env/lib/python3.7/site-packages/torch/nn/modules/module.py\", line 539, in __call__\r\n",
      "    result = self._slow_forward(*input, **kwargs)\r\n",
      "  File \"/home/bohumil/FIIT/BP/BP/Zdroje_kod/dist_env/lib/python3.7/site-packages/torch/nn/modules/module.py\", line 525, in _slow_forward\r\n",
      "    result = self.forward(*input, **kwargs)\r\n",
      "  File \"/home/bohumil/FIIT/BP/BP/Zdroje_kod/quantization_jupyters/DeepLearningExamples/PyTorch/Detection/SSD/src/model.py\", line 52, in forward\r\n",
      "    x = self.feature_extractor(x)\r\n",
      "  File \"/home/bohumil/FIIT/BP/BP/Zdroje_kod/dist_env/lib/python3.7/site-packages/torch/nn/modules/module.py\", line 539, in __call__\r\n",
      "    result = self._slow_forward(*input, **kwargs)\r\n",
      "  File \"/home/bohumil/FIIT/BP/BP/Zdroje_kod/dist_env/lib/python3.7/site-packages/torch/nn/modules/module.py\", line 525, in _slow_forward\r\n",
      "    result = self.forward(*input, **kwargs)\r\n",
      "  File \"/home/bohumil/FIIT/BP/BP/Zdroje_kod/dist_env/lib/python3.7/site-packages/torch/nn/modules/container.py\", line 92, in forward\r\n",
      "    input = module(input)\r\n",
      "  File \"/home/bohumil/FIIT/BP/BP/Zdroje_kod/dist_env/lib/python3.7/site-packages/torch/nn/modules/module.py\", line 539, in __call__\r\n",
      "    result = self._slow_forward(*input, **kwargs)\r\n",
      "  File \"/home/bohumil/FIIT/BP/BP/Zdroje_kod/dist_env/lib/python3.7/site-packages/torch/nn/modules/module.py\", line 525, in _slow_forward\r\n",
      "    result = self.forward(*input, **kwargs)\r\n",
      "  File \"/home/bohumil/FIIT/BP/BP/Zdroje_kod/dist_env/lib/python3.7/site-packages/torch/nn/modules/container.py\", line 92, in forward\r\n",
      "    input = module(input)\r\n",
      "  File \"/home/bohumil/FIIT/BP/BP/Zdroje_kod/dist_env/lib/python3.7/site-packages/torch/nn/modules/module.py\", line 539, in __call__\r\n",
      "    result = self._slow_forward(*input, **kwargs)\r\n",
      "  File \"/home/bohumil/FIIT/BP/BP/Zdroje_kod/dist_env/lib/python3.7/site-packages/torch/nn/modules/module.py\", line 525, in _slow_forward\r\n",
      "    result = self.forward(*input, **kwargs)\r\n",
      "  File \"/home/bohumil/FIIT/BP/BP/Zdroje_kod/distiller/distiller/models/imagenet/resnet.py\", line 113, in forward\r\n",
      "    out = self.conv1(x)\r\n",
      "  File \"/home/bohumil/FIIT/BP/BP/Zdroje_kod/dist_env/lib/python3.7/site-packages/torch/nn/modules/module.py\", line 539, in __call__\r\n",
      "    result = self._slow_forward(*input, **kwargs)\r\n",
      "  File \"/home/bohumil/FIIT/BP/BP/Zdroje_kod/dist_env/lib/python3.7/site-packages/torch/nn/modules/module.py\", line 525, in _slow_forward\r\n",
      "    result = self.forward(*input, **kwargs)\r\n",
      "  File \"/home/bohumil/FIIT/BP/BP/Zdroje_kod/dist_env/lib/python3.7/site-packages/torch/nn/modules/conv.py\", line 345, in forward\r\n",
      "    return self.conv2d_forward(input, self.weight)\r\n",
      "  File \"/home/bohumil/FIIT/BP/BP/Zdroje_kod/dist_env/lib/python3.7/site-packages/torch/nn/modules/conv.py\", line 342, in conv2d_forward\r\n",
      "    self.padding, self.dilation, self.groups)\r\n",
      "KeyboardInterrupt\r\n"
     ]
    }
   ]
  },
  {
   "cell_type": "markdown",
   "source": [
    "```\n",
    "Using seed = 3474\n",
    "loading annotations into memory...\n",
    "Done (t=0.51s)\n",
    "creating index...\n",
    "index created!\n",
    "loading model checkpoint ./nvidia_ssdpyt_fp32_20190225.pt\n",
    "Logging configured successfully\n",
    "Reading configuration from: ./ssd_coco_post_train.yaml\n",
    "Found component of class PostTrainLinearQuantizer: Name: post_train_quantizer ; Section: quantizers\n",
    "Loading activation stats from: /home/bohumil/FIIT/BP/BP/Zdroje_kod/quantization_jupyters/DeepLearningExamples/PyTorch/Detection/SSD/act_quantization_stats.yaml\n",
    "Preparing model for quantization using PostTrainLinearQuantizer\n",
    "Applying batch-norm folding ahead of post-training quantization\n",
    "Propagating output statistics from BN modules to folded modules\n",
    "Optimizing output statistics for modules followed by ReLU/Tanh/Sigmoid\n",
    "Updated stats saved to ./quant_stats_after_prepare_model.yaml\n",
    "Per-layer quantization parameters saved to ./layer_quant_params.yaml\n",
    "Parsing batch: 495/496\n",
    "Predicting Ended, total time: 2779.94 s\n",
    "Loading and preparing results...\n",
    "Converting ndarray to lists...\n",
    "(174579, 7)\n",
    "0/174579\n",
    "DONE (t=1.24s)\n",
    "creating index...\n",
    "index created!\n",
    "Running per image evaluation...\n",
    "Evaluate annotation type *bbox*\n",
    "DONE (t=25.23s).\n",
    "Accumulating evaluation results...\n",
    "DONE (t=3.18s).\n",
    " Average Precision  (AP) @[ IoU=0.50:0.95 | area=   all | maxDets=100 ] = 0.123\n",
    " Average Precision  (AP) @[ IoU=0.50      | area=   all | maxDets=100 ] = 0.205\n",
    " Average Precision  (AP) @[ IoU=0.75      | area=   all | maxDets=100 ] = 0.127\n",
    " Average Precision  (AP) @[ IoU=0.50:0.95 | area= small | maxDets=100 ] = 0.033\n",
    " Average Precision  (AP) @[ IoU=0.50:0.95 | area=medium | maxDets=100 ] = 0.133\n",
    " Average Precision  (AP) @[ IoU=0.50:0.95 | area= large | maxDets=100 ] = 0.202\n",
    " Average Recall     (AR) @[ IoU=0.50:0.95 | area=   all | maxDets=  1 ] = 0.116\n",
    " Average Recall     (AR) @[ IoU=0.50:0.95 | area=   all | maxDets= 10 ] = 0.169\n",
    " Average Recall     (AR) @[ IoU=0.50:0.95 | area=   all | maxDets=100 ] = 0.179\n",
    " Average Recall     (AR) @[ IoU=0.50:0.95 | area= small | maxDets=100 ] = 0.057\n",
    " Average Recall     (AR) @[ IoU=0.50:0.95 | area=medium | maxDets=100 ] = 0.197\n",
    " Average Recall     (AR) @[ IoU=0.50:0.95 | area= large | maxDets=100 ] = 0.271\n",
    "Current AP: 0.12273\n",
    "Model precision 0.12273303465396057 mAP\n",
    "```"
   ],
   "metadata": {
    "collapsed": false,
    "pycharm": {
     "name": "#%% md\n"
    }
   }
  },
  {
   "cell_type": "markdown",
   "source": [
    "<a id='7bit'> </a>\n",
    "\n",
    "## 7 bit quant"
   ],
   "metadata": {
    "collapsed": false
   }
  },
  {
   "cell_type": "code",
   "execution_count": 2,
   "outputs": [
    {
     "name": "stdout",
     "output_type": "stream",
     "text": [
      "^C\r\n",
      "Traceback (most recent call last):\r\n",
      "  File \"/home/bohumil/FIIT/BP/BP/Zdroje_kod/dist_env/lib/python3.7/site-packages/pkg_resources/__init__.py\", line 3023, in _dep_map\r\n",
      "    return self.__dep_map\r\n",
      "  File \"/home/bohumil/FIIT/BP/BP/Zdroje_kod/dist_env/lib/python3.7/site-packages/pkg_resources/__init__.py\", line 2817, in __getattr__\r\n",
      "    raise AttributeError(attr)\r\n",
      "AttributeError: _DistInfoDistribution__dep_map\r\n",
      "\r\n",
      "During handling of the above exception, another exception occurred:\r\n",
      "\r\n",
      "Traceback (most recent call last):\r\n",
      "  File \"./main.py\", line 22, in <module>\r\n",
      "    from distiller.data_loggers import collector_context\r\n",
      "  File \"/home/bohumil/FIIT/BP/BP/Zdroje_kod/distiller/distiller/__init__.py\", line 39, in <module>\r\n",
      "    __version__ = pkg_resources.require(\"distiller\")[0].version\r\n",
      "  File \"/home/bohumil/FIIT/BP/BP/Zdroje_kod/dist_env/lib/python3.7/site-packages/pkg_resources/__init__.py\", line 901, in require\r\n",
      "    needed = self.resolve(parse_requirements(requirements))\r\n",
      "  File \"/home/bohumil/FIIT/BP/BP/Zdroje_kod/dist_env/lib/python3.7/site-packages/pkg_resources/__init__.py\", line 795, in resolve\r\n",
      "    new_requirements = dist.requires(req.extras)[::-1]\r\n",
      "  File \"/home/bohumil/FIIT/BP/BP/Zdroje_kod/dist_env/lib/python3.7/site-packages/pkg_resources/__init__.py\", line 2738, in requires\r\n",
      "    dm = self._dep_map\r\n",
      "  File \"/home/bohumil/FIIT/BP/BP/Zdroje_kod/dist_env/lib/python3.7/site-packages/pkg_resources/__init__.py\", line 3025, in _dep_map\r\n",
      "    self.__dep_map = self._compute_dependencies()\r\n",
      "  File \"/home/bohumil/FIIT/BP/BP/Zdroje_kod/dist_env/lib/python3.7/site-packages/pkg_resources/__init__.py\", line 3035, in _compute_dependencies\r\n",
      "    reqs.extend(parse_requirements(req))\r\n",
      "  File \"/home/bohumil/FIIT/BP/BP/Zdroje_kod/dist_env/lib/python3.7/site-packages/pkg_resources/__init__.py\", line 3096, in parse_requirements\r\n",
      "    yield Requirement(line)\r\n",
      "  File \"/home/bohumil/FIIT/BP/BP/Zdroje_kod/dist_env/lib/python3.7/site-packages/pkg_resources/__init__.py\", line 3103, in __init__\r\n",
      "    super(Requirement, self).__init__(requirement_string)\r\n",
      "  File \"/home/bohumil/FIIT/BP/BP/Zdroje_kod/dist_env/lib/python3.7/site-packages/pkg_resources/_vendor/packaging/requirements.py\", line 90, in __init__\r\n",
      "    req = REQUIREMENT.parseString(requirement_string)\r\n",
      "  File \"/home/bohumil/FIIT/BP/BP/Zdroje_kod/dist_env/lib/python3.7/site-packages/pkg_resources/_vendor/pyparsing.py\", line 1644, in parseString\r\n",
      "    loc, tokens = self._parse( instring, 0 )\r\n",
      "  File \"/home/bohumil/FIIT/BP/BP/Zdroje_kod/dist_env/lib/python3.7/site-packages/pkg_resources/_vendor/pyparsing.py\", line 1402, in _parseNoCache\r\n",
      "    loc,tokens = self.parseImpl( instring, preloc, doActions )\r\n",
      "  File \"/home/bohumil/FIIT/BP/BP/Zdroje_kod/dist_env/lib/python3.7/site-packages/pkg_resources/_vendor/pyparsing.py\", line 3417, in parseImpl\r\n",
      "    loc, exprtokens = e._parse( instring, loc, doActions )\r\n",
      "  File \"/home/bohumil/FIIT/BP/BP/Zdroje_kod/dist_env/lib/python3.7/site-packages/pkg_resources/_vendor/pyparsing.py\", line 1402, in _parseNoCache\r\n",
      "    loc,tokens = self.parseImpl( instring, preloc, doActions )\r\n",
      "  File \"/home/bohumil/FIIT/BP/BP/Zdroje_kod/dist_env/lib/python3.7/site-packages/pkg_resources/_vendor/pyparsing.py\", line 3552, in parseImpl\r\n",
      "    ret = e._parse( instring, loc, doActions )\r\n",
      "  File \"/home/bohumil/FIIT/BP/BP/Zdroje_kod/dist_env/lib/python3.7/site-packages/pkg_resources/_vendor/pyparsing.py\", line 1402, in _parseNoCache\r\n",
      "    loc,tokens = self.parseImpl( instring, preloc, doActions )\r\n",
      "  File \"/home/bohumil/FIIT/BP/BP/Zdroje_kod/dist_env/lib/python3.7/site-packages/pkg_resources/_vendor/pyparsing.py\", line 3400, in parseImpl\r\n",
      "    loc, resultlist = self.exprs[0]._parse( instring, loc, doActions, callPreParse=False )\r\n",
      "  File \"/home/bohumil/FIIT/BP/BP/Zdroje_kod/dist_env/lib/python3.7/site-packages/pkg_resources/_vendor/pyparsing.py\", line 1402, in _parseNoCache\r\n",
      "    loc,tokens = self.parseImpl( instring, preloc, doActions )\r\n",
      "  File \"/home/bohumil/FIIT/BP/BP/Zdroje_kod/dist_env/lib/python3.7/site-packages/pkg_resources/_vendor/pyparsing.py\", line 3417, in parseImpl\r\n",
      "    loc, exprtokens = e._parse( instring, loc, doActions )\r\n",
      "  File \"/home/bohumil/FIIT/BP/BP/Zdroje_kod/dist_env/lib/python3.7/site-packages/pkg_resources/_vendor/pyparsing.py\", line 1402, in _parseNoCache\r\n",
      "    loc,tokens = self.parseImpl( instring, preloc, doActions )\r\n",
      "  File \"/home/bohumil/FIIT/BP/BP/Zdroje_kod/dist_env/lib/python3.7/site-packages/pkg_resources/_vendor/pyparsing.py\", line 4005, in parseImpl\r\n",
      "    loc, tokens = self.expr._parse( instring, loc, doActions, callPreParse=False )\r\n",
      "  File \"/home/bohumil/FIIT/BP/BP/Zdroje_kod/dist_env/lib/python3.7/site-packages/pkg_resources/_vendor/pyparsing.py\", line 1402, in _parseNoCache\r\n",
      "    loc,tokens = self.parseImpl( instring, preloc, doActions )\r\n",
      "  File \"/home/bohumil/FIIT/BP/BP/Zdroje_kod/dist_env/lib/python3.7/site-packages/pkg_resources/_vendor/pyparsing.py\", line 3552, in parseImpl\r\n",
      "    ret = e._parse( instring, loc, doActions )\r\n",
      "  File \"/home/bohumil/FIIT/BP/BP/Zdroje_kod/dist_env/lib/python3.7/site-packages/pkg_resources/_vendor/pyparsing.py\", line 1402, in _parseNoCache\r\n",
      "    loc,tokens = self.parseImpl( instring, preloc, doActions )\r\n",
      "  File \"/home/bohumil/FIIT/BP/BP/Zdroje_kod/dist_env/lib/python3.7/site-packages/pkg_resources/_vendor/pyparsing.py\", line 3417, in parseImpl\r\n",
      "    loc, exprtokens = e._parse( instring, loc, doActions )\r\n",
      "  File \"/home/bohumil/FIIT/BP/BP/Zdroje_kod/dist_env/lib/python3.7/site-packages/pkg_resources/_vendor/pyparsing.py\", line 1402, in _parseNoCache\r\n",
      "    loc,tokens = self.parseImpl( instring, preloc, doActions )\r\n",
      "  File \"/home/bohumil/FIIT/BP/BP/Zdroje_kod/dist_env/lib/python3.7/site-packages/pkg_resources/_vendor/pyparsing.py\", line 3739, in parseImpl\r\n",
      "    return self.expr._parse( instring, loc, doActions, callPreParse=False )\r\n",
      "  File \"/home/bohumil/FIIT/BP/BP/Zdroje_kod/dist_env/lib/python3.7/site-packages/pkg_resources/_vendor/pyparsing.py\", line 1402, in _parseNoCache\r\n",
      "    loc,tokens = self.parseImpl( instring, preloc, doActions )\r\n",
      "  File \"/home/bohumil/FIIT/BP/BP/Zdroje_kod/dist_env/lib/python3.7/site-packages/pkg_resources/_vendor/pyparsing.py\", line 3419, in parseImpl\r\n",
      "    resultlist += exprtokens\r\n",
      "  File \"/home/bohumil/FIIT/BP/BP/Zdroje_kod/dist_env/lib/python3.7/site-packages/pkg_resources/_vendor/pyparsing.py\", line 671, in __iadd__\r\n",
      "    self[k] = v\r\n",
      "  File \"/home/bohumil/FIIT/BP/BP/Zdroje_kod/dist_env/lib/python3.7/site-packages/pkg_resources/_vendor/pyparsing.py\", line 430, in __setitem__\r\n",
      "    if isinstance(sub,ParseResults):\r\n",
      "KeyboardInterrupt\r\n"
     ]
    }
   ],
   "source": [
    "! python ./main.py --backbone resnet50 --mode evaluation --quantize --config ./ssd_coco_post_train7bit.yaml  --checkpoint ./nvidia_ssdpyt_fp32_20190225.pt --data /home/bohumil/FIIT/BP/BP/Zdroje_kod/coco --eval-batch-size 5 --num-workers 1 --split 0.5 --no-cuda --seed 4298"
   ],
   "metadata": {
    "collapsed": false,
    "pycharm": {
     "name": "#%%\n"
    }
   }
  },
  {
   "cell_type": "markdown",
   "source": [
    "<a id='6bit'> </a>\n",
    "\n",
    "## 6 bit quant"
   ],
   "metadata": {
    "collapsed": false,
    "pycharm": {
     "name": "#%% md\n"
    }
   }
  },
  {
   "cell_type": "code",
   "execution_count": 2,
   "outputs": [
    {
     "name": "stdout",
     "output_type": "stream",
     "text": [
      "Using seed = 4298\r\n",
      "loading annotations into memory...\r\n",
      "Done (t=0.52s)\r\n",
      "creating index...\r\n",
      "index created!\r\n",
      "loading model checkpoint ./nvidia_ssdpyt_fp32_20190225.pt\r\n",
      "Logging configured successfully\r\n",
      "Reading configuration from: ./ssd_coco_post_train6bit.yaml\r\n",
      "Found component of class PostTrainLinearQuantizer: Name: post_train_quantizer ; Section: quantizers\r\n",
      "Loading activation stats from: /home/bohumil/FIIT/BP/BP/Zdroje_kod/quantization_jupyters/DeepLearningExamples/PyTorch/Detection/SSD/act_quantization_stats.yaml\r\n",
      "Preparing model for quantization using PostTrainLinearQuantizer\r\n",
      "Applying batch-norm folding ahead of post-training quantization\r\n",
      "Propagating output statistics from BN modules to folded modules\r\n",
      "Optimizing output statistics for modules followed by ReLU/Tanh/Sigmoid\r\n",
      "Updated stats saved to ./quant_stats_after_prepare_model.yaml\r\n",
      "Per-layer quantization parameters saved to ./layer_quant_params.yaml\r\n",
      "Parsing batch: 495/496\r\n",
      "Predicting Ended, total time: 2381.93 s\r\n",
      "Loading and preparing results...\r\n",
      "Converting ndarray to lists...\r\n",
      "(182814, 7)\r\n",
      "0/182814\r\n",
      "DONE (t=1.18s)\r\n",
      "creating index...\r\n",
      "index created!\r\n",
      "Running per image evaluation...\r\n",
      "Evaluate annotation type *bbox*\r\n",
      "DONE (t=24.93s).\r\n",
      "Accumulating evaluation results...\r\n",
      "DONE (t=3.22s).\r\n",
      " Average Precision  (AP) @[ IoU=0.50:0.95 | area=   all | maxDets=100 ] = 0.119\r\n",
      " Average Precision  (AP) @[ IoU=0.50      | area=   all | maxDets=100 ] = 0.201\r\n",
      " Average Precision  (AP) @[ IoU=0.75      | area=   all | maxDets=100 ] = 0.122\r\n",
      " Average Precision  (AP) @[ IoU=0.50:0.95 | area= small | maxDets=100 ] = 0.032\r\n",
      " Average Precision  (AP) @[ IoU=0.50:0.95 | area=medium | maxDets=100 ] = 0.126\r\n",
      " Average Precision  (AP) @[ IoU=0.50:0.95 | area= large | maxDets=100 ] = 0.205\r\n",
      " Average Recall     (AR) @[ IoU=0.50:0.95 | area=   all | maxDets=  1 ] = 0.113\r\n",
      " Average Recall     (AR) @[ IoU=0.50:0.95 | area=   all | maxDets= 10 ] = 0.165\r\n",
      " Average Recall     (AR) @[ IoU=0.50:0.95 | area=   all | maxDets=100 ] = 0.174\r\n",
      " Average Recall     (AR) @[ IoU=0.50:0.95 | area= small | maxDets=100 ] = 0.057\r\n",
      " Average Recall     (AR) @[ IoU=0.50:0.95 | area=medium | maxDets=100 ] = 0.189\r\n",
      " Average Recall     (AR) @[ IoU=0.50:0.95 | area= large | maxDets=100 ] = 0.280\r\n",
      "Current AP: 0.11860\r\n",
      "Model precision 0.11860012778616373 mAP\r\n"
     ]
    }
   ],
   "source": [
    "! python ./main.py --backbone resnet50 --mode evaluation --quantize --config ./ssd_coco_post_train6bit.yaml  --checkpoint ./nvidia_ssdpyt_fp32_20190225.pt --data /home/bohumil/FIIT/BP/BP/Zdroje_kod/coco --eval-batch-size 5 --num-workers 1 --split 0.5 --no-cuda --seed 4298"
   ],
   "metadata": {
    "collapsed": false,
    "pycharm": {
     "name": "#%%\n"
    }
   }
  },
  {
   "cell_type": "markdown",
   "source": [
    "<a id='5bit'> </a>\n",
    "\n",
    "## 5 bit quant"
   ],
   "metadata": {
    "collapsed": false
   }
  },
  {
   "cell_type": "code",
   "execution_count": 3,
   "outputs": [
    {
     "name": "stdout",
     "output_type": "stream",
     "text": [
      "Using seed = 4298\r\n",
      "loading annotations into memory...\r\n",
      "Done (t=0.58s)\r\n",
      "creating index...\r\n",
      "index created!\r\n",
      "loading model checkpoint ./nvidia_ssdpyt_fp32_20190225.pt\r\n",
      "Logging configured successfully\r\n",
      "Reading configuration from: ./ssd_coco_post_train5bit.yaml\r\n",
      "Found component of class PostTrainLinearQuantizer: Name: post_train_quantizer ; Section: quantizers\r\n",
      "Loading activation stats from: /home/bohumil/FIIT/BP/BP/Zdroje_kod/quantization_jupyters/DeepLearningExamples/PyTorch/Detection/SSD/act_quantization_stats.yaml\r\n",
      "Preparing model for quantization using PostTrainLinearQuantizer\r\n",
      "Applying batch-norm folding ahead of post-training quantization\r\n",
      "Propagating output statistics from BN modules to folded modules\r\n",
      "Optimizing output statistics for modules followed by ReLU/Tanh/Sigmoid\r\n",
      "Updated stats saved to ./quant_stats_after_prepare_model.yaml\r\n",
      "Per-layer quantization parameters saved to ./layer_quant_params.yaml\r\n",
      "Parsing batch: 495/496\r\n",
      "Predicting Ended, total time: 2388.87 s\r\n",
      "Loading and preparing results...\r\n",
      "Converting ndarray to lists...\r\n",
      "(221781, 7)\r\n",
      "0/221781\r\n",
      "DONE (t=1.55s)\r\n",
      "creating index...\r\n",
      "index created!\r\n",
      "Running per image evaluation...\r\n",
      "Evaluate annotation type *bbox*\r\n",
      "DONE (t=27.75s).\r\n",
      "Accumulating evaluation results...\r\n",
      "DONE (t=3.68s).\r\n",
      " Average Precision  (AP) @[ IoU=0.50:0.95 | area=   all | maxDets=100 ] = 0.103\r\n",
      " Average Precision  (AP) @[ IoU=0.50      | area=   all | maxDets=100 ] = 0.183\r\n",
      " Average Precision  (AP) @[ IoU=0.75      | area=   all | maxDets=100 ] = 0.103\r\n",
      " Average Precision  (AP) @[ IoU=0.50:0.95 | area= small | maxDets=100 ] = 0.026\r\n",
      " Average Precision  (AP) @[ IoU=0.50:0.95 | area=medium | maxDets=100 ] = 0.108\r\n",
      " Average Precision  (AP) @[ IoU=0.50:0.95 | area= large | maxDets=100 ] = 0.179\r\n",
      " Average Recall     (AR) @[ IoU=0.50:0.95 | area=   all | maxDets=  1 ] = 0.102\r\n",
      " Average Recall     (AR) @[ IoU=0.50:0.95 | area=   all | maxDets= 10 ] = 0.148\r\n",
      " Average Recall     (AR) @[ IoU=0.50:0.95 | area=   all | maxDets=100 ] = 0.158\r\n",
      " Average Recall     (AR) @[ IoU=0.50:0.95 | area= small | maxDets=100 ] = 0.049\r\n",
      " Average Recall     (AR) @[ IoU=0.50:0.95 | area=medium | maxDets=100 ] = 0.169\r\n",
      " Average Recall     (AR) @[ IoU=0.50:0.95 | area= large | maxDets=100 ] = 0.254\r\n",
      "Current AP: 0.10304\r\n",
      "Model precision 0.10304214660699475 mAP\r\n"
     ]
    }
   ],
   "source": [
    "! python ./main.py --backbone resnet50 --mode evaluation --quantize --config ./ssd_coco_post_train5bit.yaml  --checkpoint ./nvidia_ssdpyt_fp32_20190225.pt --data /home/bohumil/FIIT/BP/BP/Zdroje_kod/coco --eval-batch-size 5 --num-workers 1 --split 0.5 --no-cuda --seed 4298"
   ],
   "metadata": {
    "collapsed": false,
    "pycharm": {
     "name": "#%%\n"
    }
   }
  },
  {
   "cell_type": "markdown",
   "source": [
    "<a id='4bit'> </a>\n",
    "\n",
    "## 4 bit quant\n",
    "*   len 0.1 z datasetu"
   ],
   "metadata": {
    "collapsed": false,
    "pycharm": {
     "name": "#%% md\n"
    }
   }
  },
  {
   "cell_type": "code",
   "execution_count": 2,
   "outputs": [
    {
     "name": "stdout",
     "text": [
      "Using seed = 6671\r\n",
      "loading annotations into memory...\r\n",
      "Done (t=0.67s)\r\n",
      "creating index...\r\n",
      "index created!\r\n",
      "loading model checkpoint ./nvidia_ssdpyt_fp32_20190225.pt\r\n",
      "Logging configured successfully\r\n",
      "Reading configuration from: ./ssd_coco_post_train_4bit.yaml\r\n",
      "Found component of class PostTrainLinearQuantizer: Name: post_train_quantizer ; Section: quantizers\r\n",
      "Loading activation stats from: /home/bohumil/FIIT/BP/BP/Zdroje_kod/quantization_jupyters/DeepLearningExamples/PyTorch/Detection/SSD/act_quantization_stats.yaml\r\n",
      "Preparing model for quantization using PostTrainLinearQuantizer\r\n",
      "Applying batch-norm folding ahead of post-training quantization\r\n",
      "Propagating output statistics from BN modules to folded modules\r\n",
      "Optimizing output statistics for modules followed by ReLU/Tanh/Sigmoid\r\n",
      "Updated stats saved to ./quant_stats_after_prepare_model.yaml\r\n",
      "Per-layer quantization parameters saved to ./layer_quant_params.yaml\r\n",
      "Parsing batch: 98/99\r\n",
      "Predicting Ended, total time: 555.69 s\r\n",
      "Loading and preparing results...\r\n",
      "Converting ndarray to lists...\r\n",
      "(97581, 7)\r\n",
      "0/97581\r\n",
      "DONE (t=0.79s)\r\n",
      "creating index...\r\n",
      "index created!\r\n",
      "Running per image evaluation...\r\n",
      "Evaluate annotation type *bbox*\r\n",
      "DONE (t=13.04s).\r\n",
      "Accumulating evaluation results...\r\n",
      "DONE (t=2.23s).\r\n",
      " Average Precision  (AP) @[ IoU=0.50:0.95 | area=   all | maxDets=100 ] = 0.011\r\n",
      " Average Precision  (AP) @[ IoU=0.50      | area=   all | maxDets=100 ] = 0.020\r\n",
      " Average Precision  (AP) @[ IoU=0.75      | area=   all | maxDets=100 ] = 0.011\r\n",
      " Average Precision  (AP) @[ IoU=0.50:0.95 | area= small | maxDets=100 ] = 0.003\r\n",
      " Average Precision  (AP) @[ IoU=0.50:0.95 | area=medium | maxDets=100 ] = 0.011\r\n",
      " Average Precision  (AP) @[ IoU=0.50:0.95 | area= large | maxDets=100 ] = 0.019\r\n",
      " Average Recall     (AR) @[ IoU=0.50:0.95 | area=   all | maxDets=  1 ] = 0.010\r\n",
      " Average Recall     (AR) @[ IoU=0.50:0.95 | area=   all | maxDets= 10 ] = 0.016\r\n",
      " Average Recall     (AR) @[ IoU=0.50:0.95 | area=   all | maxDets=100 ] = 0.017\r\n",
      " Average Recall     (AR) @[ IoU=0.50:0.95 | area= small | maxDets=100 ] = 0.005\r\n",
      " Average Recall     (AR) @[ IoU=0.50:0.95 | area=medium | maxDets=100 ] = 0.020\r\n",
      " Average Recall     (AR) @[ IoU=0.50:0.95 | area= large | maxDets=100 ] = 0.027\r\n",
      "Current AP: 0.01091\r\n",
      "Model precision 0.01090666816351124 mAP\r\n"
     ],
     "output_type": "stream"
    }
   ],
   "source": [
    "! python ./main.py --backbone resnet50 --mode evaluation --quantize --config ./ssd_coco_post_train_4bit.yaml  --checkpoint ./nvidia_ssdpyt_fp32_20190225.pt --data /home/bohumil/FIIT/BP/BP/Zdroje_kod/coco --eval-batch-size 5 --num-workers 1 --split 0.1 --no-cuda"
   ],
   "metadata": {
    "collapsed": false,
    "pycharm": {
     "name": "#%%\n",
     "is_executing": false
    }
   }
  },
  {
   "cell_type": "markdown",
   "source": [
    "## 4 bit vacsi dataset\n",
    "*   skúsme 0.5 z datasetu\n",
    "*   base prec máme na 0.5\n",
    "*   taktiez nastavime rovnaky seed - 4298"
   ],
   "metadata": {
    "collapsed": false,
    "pycharm": {
     "name": "#%% md\n"
    }
   }
  },
  {
   "cell_type": "code",
   "execution_count": 2,
   "outputs": [
    {
     "name": "stdout",
     "text": [
      "Using seed = 4298\r\n",
      "loading annotations into memory...\r\n",
      "Done (t=0.71s)\r\n",
      "creating index...\r\n",
      "index created!\r\n",
      "loading model checkpoint ./nvidia_ssdpyt_fp32_20190225.pt\r\n",
      "Logging configured successfully\r\n",
      "Reading configuration from: ./ssd_coco_post_train_4bit.yaml\r\n",
      "Found component of class PostTrainLinearQuantizer: Name: post_train_quantizer ; Section: quantizers\r\n",
      "Loading activation stats from: /home/bohumil/FIIT/BP/BP/Zdroje_kod/quantization_jupyters/DeepLearningExamples/PyTorch/Detection/SSD/act_quantization_stats.yaml\r\n",
      "Preparing model for quantization using PostTrainLinearQuantizer\r\n",
      "Applying batch-norm folding ahead of post-training quantization\r\n",
      "Propagating output statistics from BN modules to folded modules\r\n",
      "Optimizing output statistics for modules followed by ReLU/Tanh/Sigmoid\r\n",
      "Updated stats saved to ./quant_stats_after_prepare_model.yaml\r\n",
      "Per-layer quantization parameters saved to ./layer_quant_params.yaml\r\n",
      "Parsing batch: 495/496\r\n",
      "Predicting Ended, total time: 2804.28 s\r\n",
      "Loading and preparing results...\r\n",
      "Converting ndarray to lists...\r\n",
      "(488226, 7)\r\n",
      "0/488226\r\n",
      "DONE (t=2.84s)\r\n",
      "creating index...\r\n",
      "index created!\r\n",
      "Running per image evaluation...\r\n",
      "Evaluate annotation type *bbox*\r\n",
      "DONE (t=38.88s).\r\n",
      "Accumulating evaluation results...\r\n",
      "DONE (t=6.82s).\r\n",
      " Average Precision  (AP) @[ IoU=0.50:0.95 | area=   all | maxDets=100 ] = 0.039\r\n",
      " Average Precision  (AP) @[ IoU=0.50      | area=   all | maxDets=100 ] = 0.077\r\n",
      " Average Precision  (AP) @[ IoU=0.75      | area=   all | maxDets=100 ] = 0.036\r\n",
      " Average Precision  (AP) @[ IoU=0.50:0.95 | area= small | maxDets=100 ] = 0.010\r\n",
      " Average Precision  (AP) @[ IoU=0.50:0.95 | area=medium | maxDets=100 ] = 0.041\r\n",
      " Average Precision  (AP) @[ IoU=0.50:0.95 | area= large | maxDets=100 ] = 0.078\r\n",
      " Average Recall     (AR) @[ IoU=0.50:0.95 | area=   all | maxDets=  1 ] = 0.049\r\n",
      " Average Recall     (AR) @[ IoU=0.50:0.95 | area=   all | maxDets= 10 ] = 0.074\r\n",
      " Average Recall     (AR) @[ IoU=0.50:0.95 | area=   all | maxDets=100 ] = 0.081\r\n",
      " Average Recall     (AR) @[ IoU=0.50:0.95 | area= small | maxDets=100 ] = 0.025\r\n",
      " Average Recall     (AR) @[ IoU=0.50:0.95 | area=medium | maxDets=100 ] = 0.092\r\n",
      " Average Recall     (AR) @[ IoU=0.50:0.95 | area= large | maxDets=100 ] = 0.129\r\n",
      "Current AP: 0.03861\r\n",
      "Model precision 0.038613544191259466 mAP\r\n"
     ],
     "output_type": "stream"
    }
   ],
   "source": [
    "! python ./main.py --backbone resnet50 --mode evaluation --quantize --config ./ssd_coco_post_train_4bit.yaml  --checkpoint ./nvidia_ssdpyt_fp32_20190225.pt --data /home/bohumil/FIIT/BP/BP/Zdroje_kod/coco --eval-batch-size 5 --num-workers 1 --split 0.5 --no-cuda --seed 4298"
   ],
   "metadata": {
    "collapsed": false,
    "pycharm": {
     "name": "#%%\n",
     "is_executing": false
    }
   }
  },
  {
   "cell_type": "markdown",
   "source": [
    "## 4 bit summary\n",
    "\n",
    "čiže máme AP = 4%\n",
    "\n",
    "pre porovnanie, pri full prec. AP = 13%\n",
    "\n",
    "Teda máme pokles presnosti o cca 66%\n",
    " "
   ],
   "metadata": {
    "collapsed": false,
    "pycharm": {
     "name": "#%% md\n"
    }
   }
  }
 ],
 "metadata": {
  "kernelspec": {
   "display_name": "Python 3",
   "language": "python",
   "name": "python3"
  },
  "language_info": {
   "codemirror_mode": {
    "name": "ipython",
    "version": 2
   },
   "file_extension": ".py",
   "mimetype": "text/x-python",
   "name": "python",
   "nbconvert_exporter": "python",
   "pygments_lexer": "ipython2",
   "version": "2.7.6"
  }
 },
 "nbformat": 4,
 "nbformat_minor": 0
}