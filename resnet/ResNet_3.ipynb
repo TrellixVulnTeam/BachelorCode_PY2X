{
 "cells": [
  {
   "cell_type": "code",
   "execution_count": 1,
   "metadata": {
    "collapsed": true,
    "pycharm": {
     "is_executing": false
    }
   },
   "outputs": [],
   "source": [
    "import torch\n",
    "import torchvision"
   ]
  },
  {
   "cell_type": "code",
   "execution_count": 2,
   "metadata": {
    "pycharm": {
     "is_executing": false,
     "name": "#%%\n"
    }
   },
   "outputs": [
    {
     "name": "stdout",
     "text": [
      "1.4.0\n",
      "0.5.0\n"
     ],
     "output_type": "stream"
    }
   ],
   "source": [
    "print(torch.__version__)\n",
    "print(torchvision.__version__)"
   ]
  },
  {
   "cell_type": "code",
   "execution_count": 3,
   "metadata": {
    "pycharm": {
     "is_executing": false,
     "name": "#%%\n"
    }
   },
   "outputs": [
    {
     "name": "stderr",
     "text": [
      "Using cache found in /home/bohumil/.cache/torch/hub/pytorch_vision_v0.5.0\n"
     ],
     "output_type": "stream"
    }
   ],
   "source": [
    "model = torch.hub.load('pytorch/vision:v0.5.0', 'resnet18', pretrained=True)"
   ]
  },
  {
   "cell_type": "code",
   "execution_count": 4,
   "metadata": {
    "pycharm": {
     "is_executing": false,
     "name": "#%%\n"
    }
   },
   "outputs": [
    {
     "data": {
      "text/plain": "ResNet(\n  (conv1): Conv2d(3, 64, kernel_size=(7, 7), stride=(2, 2), padding=(3, 3), bias=False)\n  (bn1): BatchNorm2d(64, eps=1e-05, momentum=0.1, affine=True, track_running_stats=True)\n  (relu): ReLU(inplace=True)\n  (maxpool): MaxPool2d(kernel_size=3, stride=2, padding=1, dilation=1, ceil_mode=False)\n  (layer1): Sequential(\n    (0): BasicBlock(\n      (conv1): Conv2d(64, 64, kernel_size=(3, 3), stride=(1, 1), padding=(1, 1), bias=False)\n      (bn1): BatchNorm2d(64, eps=1e-05, momentum=0.1, affine=True, track_running_stats=True)\n      (relu): ReLU(inplace=True)\n      (conv2): Conv2d(64, 64, kernel_size=(3, 3), stride=(1, 1), padding=(1, 1), bias=False)\n      (bn2): BatchNorm2d(64, eps=1e-05, momentum=0.1, affine=True, track_running_stats=True)\n    )\n    (1): BasicBlock(\n      (conv1): Conv2d(64, 64, kernel_size=(3, 3), stride=(1, 1), padding=(1, 1), bias=False)\n      (bn1): BatchNorm2d(64, eps=1e-05, momentum=0.1, affine=True, track_running_stats=True)\n      (relu): ReLU(inplace=True)\n      (conv2): Conv2d(64, 64, kernel_size=(3, 3), stride=(1, 1), padding=(1, 1), bias=False)\n      (bn2): BatchNorm2d(64, eps=1e-05, momentum=0.1, affine=True, track_running_stats=True)\n    )\n  )\n  (layer2): Sequential(\n    (0): BasicBlock(\n      (conv1): Conv2d(64, 128, kernel_size=(3, 3), stride=(2, 2), padding=(1, 1), bias=False)\n      (bn1): BatchNorm2d(128, eps=1e-05, momentum=0.1, affine=True, track_running_stats=True)\n      (relu): ReLU(inplace=True)\n      (conv2): Conv2d(128, 128, kernel_size=(3, 3), stride=(1, 1), padding=(1, 1), bias=False)\n      (bn2): BatchNorm2d(128, eps=1e-05, momentum=0.1, affine=True, track_running_stats=True)\n      (downsample): Sequential(\n        (0): Conv2d(64, 128, kernel_size=(1, 1), stride=(2, 2), bias=False)\n        (1): BatchNorm2d(128, eps=1e-05, momentum=0.1, affine=True, track_running_stats=True)\n      )\n    )\n    (1): BasicBlock(\n      (conv1): Conv2d(128, 128, kernel_size=(3, 3), stride=(1, 1), padding=(1, 1), bias=False)\n      (bn1): BatchNorm2d(128, eps=1e-05, momentum=0.1, affine=True, track_running_stats=True)\n      (relu): ReLU(inplace=True)\n      (conv2): Conv2d(128, 128, kernel_size=(3, 3), stride=(1, 1), padding=(1, 1), bias=False)\n      (bn2): BatchNorm2d(128, eps=1e-05, momentum=0.1, affine=True, track_running_stats=True)\n    )\n  )\n  (layer3): Sequential(\n    (0): BasicBlock(\n      (conv1): Conv2d(128, 256, kernel_size=(3, 3), stride=(2, 2), padding=(1, 1), bias=False)\n      (bn1): BatchNorm2d(256, eps=1e-05, momentum=0.1, affine=True, track_running_stats=True)\n      (relu): ReLU(inplace=True)\n      (conv2): Conv2d(256, 256, kernel_size=(3, 3), stride=(1, 1), padding=(1, 1), bias=False)\n      (bn2): BatchNorm2d(256, eps=1e-05, momentum=0.1, affine=True, track_running_stats=True)\n      (downsample): Sequential(\n        (0): Conv2d(128, 256, kernel_size=(1, 1), stride=(2, 2), bias=False)\n        (1): BatchNorm2d(256, eps=1e-05, momentum=0.1, affine=True, track_running_stats=True)\n      )\n    )\n    (1): BasicBlock(\n      (conv1): Conv2d(256, 256, kernel_size=(3, 3), stride=(1, 1), padding=(1, 1), bias=False)\n      (bn1): BatchNorm2d(256, eps=1e-05, momentum=0.1, affine=True, track_running_stats=True)\n      (relu): ReLU(inplace=True)\n      (conv2): Conv2d(256, 256, kernel_size=(3, 3), stride=(1, 1), padding=(1, 1), bias=False)\n      (bn2): BatchNorm2d(256, eps=1e-05, momentum=0.1, affine=True, track_running_stats=True)\n    )\n  )\n  (layer4): Sequential(\n    (0): BasicBlock(\n      (conv1): Conv2d(256, 512, kernel_size=(3, 3), stride=(2, 2), padding=(1, 1), bias=False)\n      (bn1): BatchNorm2d(512, eps=1e-05, momentum=0.1, affine=True, track_running_stats=True)\n      (relu): ReLU(inplace=True)\n      (conv2): Conv2d(512, 512, kernel_size=(3, 3), stride=(1, 1), padding=(1, 1), bias=False)\n      (bn2): BatchNorm2d(512, eps=1e-05, momentum=0.1, affine=True, track_running_stats=True)\n      (downsample): Sequential(\n        (0): Conv2d(256, 512, kernel_size=(1, 1), stride=(2, 2), bias=False)\n        (1): BatchNorm2d(512, eps=1e-05, momentum=0.1, affine=True, track_running_stats=True)\n      )\n    )\n    (1): BasicBlock(\n      (conv1): Conv2d(512, 512, kernel_size=(3, 3), stride=(1, 1), padding=(1, 1), bias=False)\n      (bn1): BatchNorm2d(512, eps=1e-05, momentum=0.1, affine=True, track_running_stats=True)\n      (relu): ReLU(inplace=True)\n      (conv2): Conv2d(512, 512, kernel_size=(3, 3), stride=(1, 1), padding=(1, 1), bias=False)\n      (bn2): BatchNorm2d(512, eps=1e-05, momentum=0.1, affine=True, track_running_stats=True)\n    )\n  )\n  (avgpool): AdaptiveAvgPool2d(output_size=(1, 1))\n  (fc): Linear(in_features=512, out_features=1000, bias=True)\n)"
     },
     "metadata": {},
     "output_type": "execute_result",
     "execution_count": 4
    }
   ],
   "source": [
    "model"
   ]
  },
  {
   "cell_type": "code",
   "execution_count": 5,
   "metadata": {
    "pycharm": {
     "is_executing": false,
     "name": "#%%\n"
    }
   },
   "outputs": [],
   "source": [
    "# from torchvision import transforms\n",
    "# preprocess = transforms.Compose([\n",
    "#     transforms.Resize(256),\n",
    "#     transforms.CenterCrop(224),\n",
    "#     transforms.ToTensor(),\n",
    "#     transforms.Normalize(mean=[0.485, 0.456, 0.406], std=[0.229, 0.224, 0.225]),\n",
    "# ])\n",
    "# # dataset = torchvision.datasets.ImageNet('/home/bohumil/FIIT/BP/BP/Zdroje_kod/imagenet/train/', split='train', transform=preprocess)\n",
    "# dataset = torchvision.datasets.ImageNet('/home/bohumil/FIIT/BP/BP/Zdroje_kod/tiny-imagenet-200', split='train', transform=preprocess)\n",
    "# \n",
    "# dataset, _ = torch.utils.data.random_split(dataset, [500, dataset.samples-500])\n",
    "# \n",
    "# batch_size = 30\n",
    "# num_workers = 1\n",
    "# \n",
    "# dataloader = torch.utils.data.DataLoader(dataset, batch_size=batch_size, num_workers= num_workers)\n",
    "# "
   ]
  },
  {
   "cell_type": "code",
   "execution_count": 6,
   "metadata": {
    "pycharm": {
     "is_executing": false,
     "name": "#%%\n"
    }
   },
   "outputs": [],
   "source": [
    "# import distiller.apputils.data_loaders as data\n",
    "# \n",
    "# batch_size = 30\n",
    "# num_workers = 1\n",
    "# train_loader, val_loader, test_loader, _ = data.load_data('imagenet','/home/bohumil/FIIT/BP/BP/Zdroje_kod/tiny-imagenet-200',\n",
    "#                                                           batch_size=batch_size, \n",
    "#                                                           workers=num_workers,validation_split=0.05)"
   ]
  },
  {
   "cell_type": "code",
   "execution_count": 20,
   "metadata": {
    "pycharm": {
     "is_executing": false,
     "name": "#%%\n"
    }
   },
   "outputs": [],
   "source": [
    "from torchvision import transforms\n",
    "# from torch.utils.data import DataLoader\n",
    "\n",
    "normalize = transforms.Normalize(mean=[0.485, 0.456, 0.406],\n",
    "                                 std=[0.229, 0.224, 0.225])\n",
    "preprocessing = transforms.Compose([\n",
    "    transforms.Resize(256),\n",
    "    transforms.CenterCrop(224),\n",
    "    transforms.ToTensor(),\n",
    "    normalize,\n",
    "])\n",
    "\n",
    "batch_size = 40\n",
    "num_workers = 1\n",
    "dataset = torchvision.datasets.ImageFolder('/home/bohumil/FIIT/BP/BP/Zdroje_kod/imagenet/train'\n",
    "                                           ,preprocessing)\n",
    "\n",
    "small, big = torch.utils.data.random_split(dataset,[7000, len(dataset)-7000])\n",
    " \n",
    "dataloader = torch.utils.data.DataLoader(dataset,batch_size=batch_size,\n",
    "                                         num_workers=num_workers,shuffle=True)\n",
    "\n"
   ]
  },
  {
   "cell_type": "code",
   "execution_count": 21,
   "metadata": {
    "pycharm": {
     "is_executing": false,
     "name": "#%%\n"
    }
   },
   "outputs": [],
   "source": [
    "# data1,data2 = torch.utils.data.random_split(dataset,[500, len(dataset)-500])"
   ]
  },
  {
   "cell_type": "code",
   "execution_count": 24,
   "outputs": [],
   "source": [
    "from resnet_output import resnet_output\n",
    "\n",
    "def target_labels(dataset,target):\n",
    "    list = target.tolist()\n",
    "    for i in range(len(list)):\n",
    "        list[i] = dataset.classes[list[i]]\n",
    "        list[i] = resnet_output[list[i]]\n",
    "    return torch.LongTensor(list)"
   ],
   "metadata": {
    "collapsed": false,
    "pycharm": {
     "name": "#%%\n",
     "is_executing": false
    }
   }
  },
  {
   "cell_type": "code",
   "execution_count": 22,
   "metadata": {
    "pycharm": {
     "is_executing": false,
     "name": "#%%\n"
    }
   },
   "outputs": [
    {
     "name": "stdout",
     "text": [
      "19439 samples (40 per mini-batch)\n",
      "[ 30/486] Top1: 79.333  Top5: 94.667  Loss: 0.773\n",
      "[ 60/486] Top1: 79.667  Top5: 94.667  Loss: 0.753\n",
      "[ 90/486] Top1: 79.417  Top5: 94.389  Loss: 0.779\n",
      "[120/486] Top1: 79.083  Top5: 94.375  Loss: 0.786\n",
      "[150/486] Top1: 78.917  Top5: 94.333  Loss: 0.796\n",
      "[180/486] Top1: 79.111  Top5: 94.458  Loss: 0.789\n",
      "[210/486] Top1: 79.250  Top5: 94.417  Loss: 0.789\n",
      "[240/486] Top1: 79.385  Top5: 94.521  Loss: 0.788\n",
      "[270/486] Top1: 79.139  Top5: 94.352  Loss: 0.799\n",
      "[300/486] Top1: 79.158  Top5: 94.367  Loss: 0.797\n",
      "[330/486] Top1: 79.008  Top5: 94.295  Loss: 0.801\n",
      "[360/486] Top1: 79.160  Top5: 94.319  Loss: 0.796\n",
      "[390/486] Top1: 78.994  Top5: 94.263  Loss: 0.802\n",
      "[420/486] Top1: 78.720  Top5: 94.226  Loss: 0.808\n",
      "[450/486] Top1: 78.828  Top5: 94.261  Loss: 0.803\n",
      "[480/486] Top1: 78.719  Top5: 94.193  Loss: 0.806\n",
      "----------\n",
      "Overall ==> Top1: 78.723  Top5: 94.197  Loss: 0.806 PPL: 2.239\n"
     ],
     "output_type": "stream"
    }
   ],
   "source": [
    "import torchnet as tnt\n",
    "import math\n",
    "import numpy as np\n",
    "from resnet_output import resnet_output\n",
    "\n",
    "\n",
    "def eval_model(data_loader, model, device='cpu', print_freq=10 , max_steps=20):\n",
    "    # print('Evaluation model ', model.arch)\n",
    "    \n",
    "    criterion = torch.nn.CrossEntropyLoss().to(device)\n",
    "    \n",
    "    loss = tnt.meter.AverageValueMeter()\n",
    "    classerr = tnt.meter.ClassErrorMeter(accuracy=True, topk=(1, 5))\n",
    "\n",
    "    total_samples = len(data_loader.sampler)\n",
    "    batch_size = data_loader.batch_size\n",
    "    total_steps = math.ceil(total_samples / batch_size)\n",
    "    print('{0} samples ({1} per mini-batch)'.format(total_samples, batch_size))\n",
    "\n",
    "    # Switch to evaluation mode\n",
    "    model.eval()\n",
    "\n",
    "    for step, (inputs, target) in enumerate(data_loader):\n",
    "        with torch.no_grad():\n",
    "            inputs, target = inputs.to(device), target.to(device)\n",
    "            # compute output from model\n",
    "            output = model(inputs)\n",
    "           \n",
    "            target = target_labels(dataset,target).to(device)\n",
    "            # compute loss and measure accuracy\n",
    "            loss.add(criterion(output, target).item())\n",
    "            classerr.add(output, target)\n",
    "            \n",
    "            if (step + 1) % print_freq == 0:\n",
    "                print('[{:3d}/{:3d}] Top1: {:.3f}  Top5: {:.3f}  Loss: {:.3f}'.format(\n",
    "                      step + 1, total_steps, classerr.value(1), classerr.value(5), loss.mean), flush=True)\n",
    "            if max_steps<= step:\n",
    "                break\n",
    "    print('----------')\n",
    "    print('Overall ==> Top1: {:.3f}  Top5: {:.3f}  Loss: {:.3f} PPL: {:.3f}'.format(\n",
    "        classerr.value(1), classerr.value(5), loss.mean, np.exp(loss.mean)), flush=True)\n",
    "eval_model(dataloader,model.to('cuda'),'cuda',print_freq=30, max_steps=1000)    "
   ]
  },
  {
   "cell_type": "code",
   "execution_count": 32,
   "outputs": [
    {
     "name": "stdout",
     "text": [
      "19439 samples (1 per mini-batch)\n",
      "[ 30/19439] Top1: 93.333  Top5: 96.667  Loss: 0.199\n",
      "[ 60/19439] Top1: 85.000  Top5: 96.667  Loss: 0.664\n",
      "[ 90/19439] Top1: 58.889  Top5: 95.556  Loss: 1.555\n",
      "[120/19439] Top1: 44.167  Top5: 85.000  Loss: 2.546\n",
      "[150/19439] Top1: 35.333  Top5: 69.333  Loss: 4.900\n",
      "[180/19439] Top1: 29.444  Top5: 57.778  Loss: 7.015\n",
      "[210/19439] Top1: 25.238  Top5: 49.524  Loss: 8.358\n",
      "[240/19439] Top1: 22.083  Top5: 43.333  Loss: 9.473\n",
      "[270/19439] Top1: 19.630  Top5: 42.963  Loss: 9.571\n",
      "[300/19439] Top1: 17.667  Top5: 40.000  Loss: 9.912\n",
      "----------\n",
      "Overall ==> Top1: 17.608  Top5: 39.867  Loss: 9.929 PPL: 20516.588\n"
     ],
     "output_type": "stream"
    },
    {
     "name": "stderr",
     "text": [
      "Exception ignored in: <function _MultiProcessingDataLoaderIter.__del__ at 0x7fb2d67cce60>\n",
      "Traceback (most recent call last):\n",
      "  File \"/home/bohumil/FIIT/BP/BP/Zdroje_kod/dist_env/lib/python3.7/site-packages/torch/utils/data/dataloader.py\", line 961, in __del__\n",
      "    self._shutdown_workers()\n",
      "  File \"/home/bohumil/FIIT/BP/BP/Zdroje_kod/dist_env/lib/python3.7/site-packages/torch/utils/data/dataloader.py\", line 941, in _shutdown_workers\n",
      "    w.join()\n",
      "  File \"/usr/lib/python3.7/multiprocessing/process.py\", line 138, in join\n",
      "    assert self._parent_pid == os.getpid(), 'can only join a child process'\n",
      "AssertionError: can only join a child process\n"
     ],
     "output_type": "stream"
    }
   ],
   "source": [
    "resnet_output"
   ],
   "metadata": {
    "collapsed": false,
    "pycharm": {
     "name": "#%%\n",
     "is_executing": false
    }
   }
  },
  {
   "cell_type": "code",
   "execution_count": null,
   "outputs": [],
   "source": [
    "eval_model(dataloader,model.to('cuda'),'cuda',print_freq=30, max_steps=300)"
   ],
   "metadata": {
    "collapsed": false,
    "pycharm": {
     "name": "#%%\n"
    }
   }
  },
  {
   "cell_type": "code",
   "execution_count": 27,
   "metadata": {
    "pycharm": {
     "is_executing": false,
     "name": "#%%\n"
    }
   },
   "outputs": [
    {
     "name": "stdout",
     "text": [
      "Top1-Acc 0.0 Top5-Acc 0.0\n"
     ],
     "output_type": "stream"
    },
    {
     "data": {
      "text/plain": "tensor([[-4.5842e+00, -2.3985e+00, -3.3450e+00, -5.6480e+00, -2.5133e+00,\n         -4.2481e+00, -3.3082e+00,  4.0641e-01,  1.2471e-01, -3.6378e+00,\n         -1.3684e+00,  1.7891e-01, -1.3314e+00, -1.7268e+00, -2.8343e+00,\n         -1.3018e+00,  1.6668e+00, -1.9638e+00, -5.0561e-01,  7.2624e-02,\n         -2.9143e+00, -1.4867e+00, -6.0885e-01, -1.1673e+00, -3.4213e+00,\n          1.0523e+00, -1.0522e+00, -4.5244e-01,  6.0226e-01, -3.4903e+00,\n         -9.2159e-01, -5.2509e-01, -1.6108e+00, -2.7350e+00, -4.3273e+00,\n         -1.7142e+00,  5.8224e-01,  5.0186e-01, -1.1463e+00,  1.4119e+00,\n         -7.4603e-03, -1.6302e+00, -9.6837e-01, -9.4190e-01, -7.2328e-02,\n          9.1536e-01,  1.2071e-01, -4.1582e-02, -2.4519e+00, -3.3043e-01,\n         -1.1315e+00, -7.9246e-01, -9.9173e-01,  1.5823e+00, -2.1295e-01,\n         -4.8392e-01,  8.6798e-01, -7.3140e-01, -2.4332e+00, -1.9822e-01,\n          5.1447e-01,  1.6185e+00, -3.8470e-01, -1.3381e+00, -5.0998e-01,\n         -6.8487e-01, -2.4183e-01,  5.4129e-01, -7.3659e-01, -6.2950e-02,\n         -2.0361e+00,  1.7193e+00, -8.3506e-01, -2.5524e+00, -1.8816e+00,\n         -2.1081e+00,  1.6227e+00, -2.2193e-01, -7.7977e-01,  2.1943e+00,\n         -2.7093e+00, -2.4531e+00, -1.7741e+00, -2.3530e+00, -1.1076e+00,\n         -1.2552e+00, -1.3821e+00, -8.4149e-01, -7.0921e-01, -1.3678e+00,\n         -3.0815e-01, -8.7060e-01, -1.6205e+00,  4.4369e-01, -8.2655e-01,\n         -2.7722e+00,  2.2374e+00, -2.7039e+00, -4.8924e+00, -3.2293e+00,\n         -4.6311e+00, -3.6089e+00, -3.4564e+00, -2.2008e+00, -3.4498e+00,\n         -3.8628e+00, -5.1542e+00, -2.3076e+00, -3.3809e-01, -1.0780e+00,\n         -3.2232e-01, -6.6988e-01,  3.6962e+00,  1.9090e+00,  2.7932e-01,\n         -7.3638e-01, -3.9666e-01, -1.9569e+00,  5.9260e-01,  1.7895e-01,\n         -4.4392e-01, -9.0731e-01,  1.1732e+00, -1.1095e+00,  2.6479e-01,\n         -9.3657e-01,  9.2023e-01, -3.3458e+00, -4.3607e+00, -3.0172e+00,\n         -4.8092e+00, -4.8442e+00, -2.9063e+00, -3.3549e+00, -3.6365e+00,\n         -3.6286e+00, -4.4085e+00, -5.6975e+00, -3.7822e+00, -2.1067e+00,\n         -2.7450e+00, -3.1044e+00, -3.0325e+00, -1.6128e+00, -3.5080e+00,\n         -2.1559e+00, -4.7597e+00, -7.2000e+00, -5.7097e+00, -6.2525e+00,\n         -2.8514e+00, -5.0126e-01, -3.6713e+00, -3.8372e+00, -2.4382e+00,\n         -2.4507e+00, -2.5248e+00, -1.7929e+00, -2.4790e+00, -2.5199e+00,\n         -4.1990e+00, -1.4883e+00, -1.8079e+00, -1.3211e+00, -2.6315e+00,\n         -2.6265e+00, -2.7124e+00, -2.4434e+00, -2.8892e+00, -3.7759e+00,\n         -3.0130e+00, -1.1519e+00, -2.9152e+00, -2.1551e+00, -2.4242e+00,\n         -3.0374e+00, -3.6764e+00, -3.6769e+00, -1.6532e+00, -4.0436e+00,\n         -3.8241e+00, -1.7182e+00, -6.6958e-01, -1.8369e+00, -1.9129e+00,\n         -1.6031e-01,  2.4356e-01, -2.2301e+00, -3.0227e+00, -1.6478e+00,\n         -3.4049e+00, -7.9544e-01, -3.1630e+00, -3.2408e+00, -4.2570e+00,\n         -2.0952e-02, -3.3497e+00, -3.2307e+00, -3.7628e+00, -2.4752e+00,\n         -3.9241e+00, -1.6034e-01, -1.3387e+00, -3.3653e+00, -2.2620e+00,\n         -3.5516e+00, -2.4178e+00, -2.3745e+00, -3.1025e+00, -2.6071e+00,\n         -2.7389e+00, -9.1088e-01, -2.7595e+00, -1.0617e+00, -4.8692e-01,\n         -1.6705e+00, -1.7897e+00, -5.7829e-02, -1.3334e+00, -1.5828e+00,\n         -7.8373e-01, -2.0564e+00, -3.2435e+00, -6.7396e-01, -2.6731e+00,\n         -3.3623e+00, -3.9525e+00, -3.1036e+00, -4.2412e+00, -3.8576e+00,\n         -2.8053e+00, -3.3277e+00, -2.3408e+00, -2.9083e+00, -1.9609e+00,\n         -2.2776e+00, -1.0090e+00, -2.0377e+00, -8.5271e-01, -2.2022e+00,\n          4.7463e-01, -1.2769e+00, -1.6454e+00, -2.3567e+00, -3.8127e+00,\n         -3.4583e+00, -3.2919e+00, -1.9754e+00, -3.3209e+00, -6.2141e+00,\n         -4.8337e+00, -4.0394e+00, -1.9695e+00, -6.9962e-01, -1.3995e+00,\n         -2.5190e+00, -3.3407e+00, -3.6456e+00, -4.6078e+00, -2.5055e+00,\n         -5.4067e+00, -3.7536e+00, -2.0990e+00, -3.3005e+00, -2.5275e+00,\n         -8.7154e-01, -2.4754e+00, -2.1910e+00, -1.6473e+00, -4.3169e+00,\n         -4.8334e+00, -4.3484e+00, -3.8962e+00, -2.9047e+00, -6.1849e+00,\n         -3.8014e+00, -6.5527e+00, -3.4552e+00, -4.3691e+00, -3.4678e+00,\n         -4.5158e+00, -2.5884e+00, -3.5786e+00, -2.7883e+00, -7.9168e-01,\n         -1.8674e+00, -3.5467e+00, -5.0256e+00, -2.8095e+00, -4.8789e+00,\n         -3.4639e+00, -3.6495e+00, -3.2490e+00, -5.7771e+00, -4.0032e+00,\n         -3.9460e+00, -4.1134e+00, -3.3713e+00, -3.2323e+00, -1.0900e+00,\n         -2.3414e+00, -1.8815e-01, -1.5660e+00,  4.7739e-01, -2.4526e+00,\n         -9.0779e-01, -7.2993e-01, -9.1117e-01, -1.5843e+00,  1.5670e+00,\n          1.2531e+00,  1.1181e+00, -8.5272e-01,  6.9226e-01,  1.8082e+00,\n          9.0191e-01, -1.7409e+00, -1.9003e+00, -2.8473e+00, -1.4205e-01,\n         -1.7606e+00,  7.1642e-01, -2.8326e+00, -1.3346e+00, -1.6028e-01,\n          8.4525e-01, -1.2422e+00, -6.0186e-01,  8.3040e-01, -2.4709e+00,\n         -3.8392e+00, -3.9657e+00, -3.2927e+00, -2.3792e+00, -1.5319e+00,\n         -3.3590e+00, -1.1995e+00, -3.2706e+00, -1.6675e+00, -5.2254e+00,\n         -5.9348e+00, -3.8449e+00, -4.3176e+00, -3.9134e+00, -5.9134e+00,\n         -1.0441e+00, -4.7699e+00, -4.0966e+00, -2.8904e+00, -2.4314e+00,\n         -3.3581e+00, -4.8145e+00, -4.2262e+00, -4.3819e+00, -2.3681e+00,\n         -1.7402e+00, -9.5039e-01, -3.7439e+00, -1.0503e+00, -1.5727e+00,\n         -3.8878e+00, -3.7316e-01, -2.0602e+00, -2.0398e+00, -3.2510e+00,\n          3.5347e-02, -3.2076e+00, -2.2124e-01, -1.6167e+00, -1.1045e+00,\n         -8.8254e-01, -4.1250e+00, -3.5290e+00, -1.7962e+00, -1.1790e+00,\n         -9.3351e-01, -2.6626e+00,  3.4406e-01, -1.0701e+00, -1.6290e+00,\n         -1.1841e+00, -1.6390e+00, -1.0573e-01, -2.0014e+00, -1.3814e+00,\n         -2.7590e+00, -4.0715e+00, -3.7694e+00, -3.0054e+00, -5.3593e+00,\n         -1.8791e+00, -1.8302e+00, -2.3656e+00,  2.6267e+00, -4.7298e+00,\n         -4.0196e+00, -1.3585e+00, -2.2878e+00,  9.2714e+00,  1.1814e+00,\n          3.0544e+00,  6.1216e+00,  5.3954e+00, -2.4210e+00, -3.6275e+00,\n         -2.9843e+00,  6.7015e-01, -4.2987e+00, -3.6370e+00,  2.6504e+00,\n          5.1829e+00, -5.8734e-01,  7.8790e-01,  3.2634e+00,  8.3567e-02,\n          4.8729e+00,  4.1808e-01,  5.5577e-03,  5.0442e+00,  3.5714e+00,\n          3.5643e+00,  3.2367e+00,  2.1618e+00,  8.0312e-01,  4.8132e+00,\n         -2.4970e+00,  4.3872e+00,  3.8578e+00, -8.9676e-01,  4.0703e+00,\n          8.4438e-01, -3.6720e+00,  5.7341e+00, -7.1746e-01,  1.1167e+00,\n         -3.5003e-01, -2.5011e+00, -2.1176e+00,  2.6247e+00,  2.6870e-01,\n          1.0480e+01,  6.4667e+00, -6.5753e-01, -1.4512e-01, -3.2585e+00,\n         -1.3010e+00,  3.1313e+00,  6.4623e+00,  8.0037e-01, -1.3002e+00,\n         -9.9760e-01,  1.0203e+00, -1.4993e+00,  3.7107e-01,  4.7237e+00,\n          8.2843e+00,  1.2001e+00,  3.3353e+00,  1.2822e+00,  7.1705e-01,\n         -1.9025e+00,  2.6750e-01,  1.2751e+00,  1.9453e+00,  5.1985e+00,\n         -1.6071e+00, -3.4957e+00,  2.6030e+00,  3.3528e+00,  1.0529e+00,\n          5.1546e+00,  2.2263e+00, -1.8832e+00,  3.1375e+00,  1.2283e-01,\n         -6.2256e-01, -2.8288e+00,  3.8689e+00,  2.6991e+00, -1.7322e+00,\n         -6.5791e-01,  3.5085e+00,  1.7232e+00, -8.6843e-01, -5.4076e+00,\n          5.3611e-01,  2.7886e+00,  4.3186e+00,  8.0131e+00,  5.1389e+00,\n          6.9002e+00,  1.6038e+00,  4.4210e+00, -1.9004e+00,  6.3923e+00,\n         -1.6394e+00,  1.1229e+00, -6.6296e-01,  3.7157e+00,  4.1717e+00,\n         -5.3160e-01,  9.1212e-01,  2.5634e+00,  4.3201e+00,  4.0762e+00,\n          1.8958e+00,  5.3853e+00,  7.4737e+00,  4.5934e+00,  6.1294e+00,\n         -1.6515e+00, -3.0418e+00,  8.5814e+00,  6.2989e+00,  9.4340e-01,\n          2.7999e+00, -1.1356e-01, -3.7534e-02, -2.1684e+00,  2.9805e+00,\n         -5.0828e-01,  2.2521e-01,  1.9550e+00,  2.9274e+00,  4.5455e-01,\n         -1.6039e+00,  4.1388e-01, -1.0195e+00,  4.9313e+00, -1.3647e+00,\n          3.3798e+00,  4.8048e+00, -1.1090e-01,  1.2363e+00,  5.1354e-01,\n         -6.4076e-01, -9.2857e-01, -3.7593e+00, -7.9858e-01,  8.3231e-01,\n         -1.5822e+00,  5.8800e+00,  7.1013e+00,  5.7784e+00, -4.7166e-01,\n         -3.9449e-01,  4.9326e+00, -5.0934e+00, -3.3707e+00,  3.9804e+00,\n          1.8462e+00,  2.5158e+00, -4.6059e-01,  9.0263e-01, -4.9115e+00,\n         -2.1163e+00, -2.9825e-01,  8.6849e-02,  9.5776e+00,  1.0226e+00,\n          1.3909e-01,  5.2357e-01, -2.3722e-01,  7.8080e+00, -3.1709e-01,\n         -1.0630e+00,  4.7695e+00,  8.5992e-02, -2.5612e-01, -3.7014e-01,\n          3.5084e+00,  1.2818e+00,  4.0426e+00, -4.7763e-01,  9.0344e-01,\n         -3.5063e+00, -1.4366e+00,  3.2109e+00,  5.7614e-01,  4.7107e+00,\n          4.2683e-01, -1.3250e+00,  5.9298e+00,  2.4075e+00,  2.4213e+00,\n          7.0281e+00, -3.4694e-02,  6.0967e+00,  2.5074e+00,  2.2541e+00,\n          2.2415e+00,  2.2929e+00,  3.6097e+00,  5.5310e+00,  4.8237e+00,\n         -1.7488e+00,  3.3596e+00,  1.2236e+00,  1.3359e-01,  5.7863e+00,\n          2.9215e+00, -2.3099e+00,  6.2050e-01, -4.2016e+00,  4.0717e+00,\n          3.7287e+00,  4.7317e+00, -1.2413e+00,  2.5159e+00, -3.2932e+00,\n          1.9342e+00,  4.9168e+00, -1.4060e+00,  2.9964e+00,  5.8247e-01,\n         -2.4872e+00,  3.7489e+00,  1.5526e+00,  3.3244e+00,  3.5137e+00,\n          1.9227e+00,  5.6873e-02,  4.2163e+00,  4.6924e+00,  3.5122e+00,\n         -6.0528e+00,  6.8652e+00, -2.7044e+00, -8.8136e-01,  7.8549e+00,\n          8.8592e-01,  6.0691e+00, -3.9275e-01,  5.8456e+00,  3.6001e+00,\n          2.7265e+00,  1.7825e+00,  2.5037e+00, -1.1979e+00, -2.2030e+00,\n         -2.8881e+00,  3.1365e+00,  5.4919e+00,  2.3009e+00,  7.1467e+00,\n         -2.2699e+00,  3.2241e+00,  1.0317e+00,  3.9633e+00, -2.7214e+00,\n          6.4633e+00, -1.7344e+00,  1.5284e+00,  1.8036e+00, -3.5931e+00,\n         -1.8183e-01, -4.0511e+00,  6.2493e-01, -6.9225e-01, -4.4872e-02,\n         -2.4043e+00, -2.6538e+00,  1.2255e+00, -1.0413e+00, -1.4263e-01,\n         -1.4860e+00,  4.6041e+00,  4.3384e+00, -1.1737e+00, -2.5552e+00,\n         -2.1300e-01, -9.5334e-01, -2.1741e+00,  2.4484e+00,  3.5823e+00,\n         -3.3129e+00, -1.6254e+00,  6.3641e+00, -2.3356e+00,  5.7936e+00,\n          1.3315e+00,  2.2783e+00,  3.9793e-01,  9.5678e+00,  1.3226e+00,\n         -1.3192e+00,  3.5829e+00,  6.2425e+00,  1.8134e+00, -3.1623e+00,\n         -3.4654e+00,  4.2699e-01,  4.8544e+00,  4.1645e-01, -1.7447e+00,\n          8.8831e+00,  6.3874e+00, -1.8168e+00, -1.2946e-01,  7.0060e+00,\n          2.8271e+00, -2.3698e+00,  8.7784e-03,  1.3515e-01,  2.7562e+00,\n         -3.7883e+00, -1.3403e+00,  1.9088e+00, -1.6083e-01,  2.0647e+00,\n          5.8616e+00,  8.3454e+00,  2.0200e+00, -2.4539e-01,  6.3779e+00,\n         -1.1517e+00,  5.6498e-01, -3.4726e+00, -1.1864e+00,  2.7938e+00,\n          1.0959e+01,  5.5845e-01,  2.7619e+00,  4.3191e-01, -1.8993e+00,\n          2.0047e-01,  3.5723e+00, -9.1700e-01, -2.7313e-01,  1.8753e-02,\n         -2.3282e+00,  2.8458e+00,  8.7820e-01,  3.5551e+00, -4.4411e+00,\n         -3.0670e-01,  2.3734e+00,  6.7474e+00,  3.0518e-01,  1.7886e+00,\n          4.5975e+00,  3.9213e+00,  1.5704e+00,  1.7247e+00,  1.8194e+00,\n          1.1148e+00,  1.0353e+00,  2.2919e+00,  2.1786e+00,  6.7973e+00,\n          1.3674e+00, -1.5608e+00, -1.1735e-01,  3.2105e+00,  2.9795e+00,\n         -2.8997e+00, -4.9623e-01, -4.0072e+00,  5.2567e+00,  2.2209e+00,\n          4.1866e+00,  4.2976e+00,  3.4812e+00,  7.3100e+00,  5.6762e+00,\n          1.8244e-01,  9.1441e-01,  7.4120e+00, -1.4682e-01,  3.9807e+00,\n          2.0946e+00,  2.9805e+00,  4.4526e+00,  3.3842e+00,  2.4981e+00,\n         -1.0792e+00,  5.3699e+00,  4.2135e+00,  4.2862e+00, -1.1196e+00,\n         -3.3500e+00, -1.8040e+00, -3.6890e-01,  6.1995e+00,  6.7614e+00,\n          4.0480e-02,  3.2697e+00,  1.3399e+00,  5.3083e+00,  7.7236e-01,\n          6.3395e-01,  1.8952e+00,  1.0268e-02, -1.1014e+00,  7.8936e-01,\n         -1.5497e+00, -9.1399e-01, -9.3576e-01,  4.5636e+00, -1.2384e+00,\n          1.4304e+00, -2.8071e+00, -3.5655e+00, -2.8050e+00,  4.7517e-01,\n         -1.9022e+00,  4.2396e-01, -2.2836e+00,  3.2518e+00,  9.6509e-01,\n          4.1477e+00,  6.9754e-01, -1.8125e+00,  2.6463e+00, -4.8547e+00,\n          1.7330e-01,  4.2996e+00, -2.9910e+00,  3.9116e+00,  4.3052e+00,\n         -2.8470e+00, -4.5511e+00,  2.2466e+00,  3.6514e+00,  1.9156e+00,\n         -1.6445e+00,  6.0504e+00,  1.3850e+00,  2.8859e+00, -2.6181e+00,\n         -4.1380e-01,  6.3899e-01,  1.0934e-01, -4.2465e+00, -6.4371e-01,\n          3.4147e+00,  1.8431e+00,  1.9290e+00,  4.6230e+00, -1.9227e+00,\n          3.3453e+00,  3.0747e-01, -3.2439e+00,  8.7936e-01,  5.6181e+00,\n          8.0798e+00,  1.8980e+00,  2.2278e+00,  1.9022e+00,  2.2828e+00,\n          1.7749e-01, -1.1628e+00,  2.0137e+00,  2.4640e+00,  2.5438e+00,\n          6.5273e+00, -2.3884e+00,  6.8604e-01,  6.2508e+00,  1.9828e+00,\n          6.5719e+00, -5.7167e-02,  4.3982e+00, -9.5233e-01, -9.4453e-01,\n          7.8506e-01, -1.7332e+00, -1.9994e+00,  1.6335e+00, -1.6869e+00,\n         -2.9268e-01, -5.2921e+00,  5.7505e+00, -3.8572e-01, -6.0583e+00,\n          3.1634e+00,  2.6010e-02, -1.5175e+00,  8.0862e+00,  8.2682e-01,\n         -1.6509e+00,  6.7077e+00,  2.7597e+00,  3.2450e-01,  1.2431e+00,\n          5.1896e-01,  6.7792e-01,  1.8523e+00, -3.6171e+00,  4.5822e+00,\n          1.9626e+00,  1.9332e+00,  1.8297e+00,  2.6847e+00, -1.2281e+00,\n         -2.0823e+00,  3.6606e-01, -2.4921e+00,  5.9793e+00,  1.5398e+00,\n         -3.0220e+00,  1.4087e+00,  6.7021e+00,  1.7570e+00, -1.0673e+00,\n          7.2678e-02,  1.6631e-01,  1.4371e+01, -1.8530e+00,  2.6128e+00,\n          3.2571e+00,  2.6460e+00,  3.6745e-01, -9.1616e-01, -5.1753e+00,\n         -2.0204e+00,  1.2166e+00,  3.8678e+00,  6.7924e+00, -7.3289e-01,\n          2.2946e+00,  2.7571e+00,  4.2780e+00,  1.2017e+00,  1.5204e+00,\n         -5.8607e-01,  1.5078e+00,  1.5258e+00,  1.8763e+00,  2.4781e+00,\n          1.9593e+00,  2.9065e+00,  5.4569e+00,  6.0779e-01,  2.8193e+00,\n          1.0457e+00,  7.8627e-01,  1.8176e+00,  5.1892e-01, -8.6755e-01,\n          7.2617e-01,  1.1050e+00,  8.6246e-01,  4.8754e-01,  7.4630e-01,\n         -5.6890e-01, -2.9637e+00,  2.7933e+00,  1.6279e+00, -1.3437e+00,\n          8.8512e-01,  1.8893e+00,  8.4718e-01, -3.4153e-01,  2.6848e+00,\n          2.1882e-01, -1.1590e+00,  6.3057e-02,  3.5829e-01,  3.6795e-01,\n          4.4954e+00,  2.8379e+00,  6.0758e-01, -1.0936e+00,  3.9416e-01,\n          2.3078e+00,  1.0445e+01,  5.9752e+00,  4.8373e+00,  6.3401e+00,\n         -3.1232e+00,  4.7866e+00, -2.2004e+00, -6.9696e-01, -4.4425e+00,\n         -1.8081e+00, -5.5725e+00, -2.2597e+00, -1.1883e+00, -2.7962e+00,\n         -2.1143e+00,  1.1710e+00,  2.9076e+00, -1.8183e+00,  9.8380e-01,\n          9.2739e-02, -2.3757e+00,  3.4455e+00,  3.0759e+00, -2.9594e-01,\n          4.0566e+00,  5.2613e-01,  1.4878e-01, -1.7829e+00,  9.4156e-01,\n         -1.1427e+00,  1.2254e+00,  1.3940e+00,  2.9204e+00,  3.5693e+00]],\n       device='cuda:0')"
     },
     "metadata": {},
     "output_type": "execute_result",
     "execution_count": 27
    }
   ],
   "source": [
    "from copy import deepcopy\n",
    "from resnet_output import resnet_output\n",
    "\n",
    "model.eval()\n",
    "it = iter(dataloader)\n",
    "inputs, target = next(it)\n",
    "target_copy = deepcopy(target)\n",
    "model.to('cuda')\n",
    "classerr = tnt.meter.ClassErrorMeter(accuracy=True, topk=(1, 5))\n",
    "\n",
    "# for i in range(5):\n",
    "inputs, target = next(it)\n",
    "with torch.no_grad():\n",
    "        inputs, target = inputs.to('cuda'), target.to('cuda')\n",
    "        # compute output from model\n",
    "        output = model(inputs)\n",
    "        classerr.add(output, target)\n",
    "        print('Top1-Acc {} Top5-Acc {}'.format(classerr.value(1), classerr.value(5)))\n",
    "        \n",
    "output"
   ]
  },
  {
   "cell_type": "code",
   "execution_count": 28,
   "metadata": {
    "pycharm": {
     "is_executing": false,
     "name": "#%%\n"
    }
   },
   "outputs": [
    {
     "data": {
      "text/plain": "torch.Size([1, 1000])"
     },
     "metadata": {},
     "output_type": "execute_result",
     "execution_count": 28
    }
   ],
   "source": [
    "output.shape"
   ]
  },
  {
   "cell_type": "code",
   "execution_count": 29,
   "metadata": {
    "pycharm": {
     "is_executing": false,
     "name": "#%%\n"
    }
   },
   "outputs": [],
   "source": [
    "soft = torch.nn.functional.softmax(output[0], dim= 0)\n",
    "\n",
    "top = torch.topk(soft, 5)"
   ]
  },
  {
   "cell_type": "code",
   "execution_count": 30,
   "metadata": {
    "pycharm": {
     "is_executing": false,
     "name": "#%%\n"
    }
   },
   "outputs": [
    {
     "data": {
      "text/plain": "torch.return_types.topk(\nvalues=tensor([0.8773, 0.0289, 0.0179, 0.0173, 0.0073], device='cuda:0'),\nindices=tensor([907, 720, 440, 966, 558], device='cuda:0'))"
     },
     "metadata": {},
     "output_type": "execute_result",
     "execution_count": 30
    }
   ],
   "source": [
    "top"
   ]
  },
  {
   "cell_type": "code",
   "execution_count": 31,
   "outputs": [
    {
     "name": "stdout",
     "text": [
      "0.0 0.0\n"
     ],
     "output_type": "stream"
    }
   ],
   "source": [
    "classer = tnt.meter.ClassErrorMeter(accuracy=True, topk=(1, 5))\n",
    "classer.add(output[0],target[0])\n",
    "print(classer.value(1),classer.value(5))"
   ],
   "metadata": {
    "collapsed": false,
    "pycharm": {
     "name": "#%%\n",
     "is_executing": false
    }
   }
  },
  {
   "cell_type": "code",
   "execution_count": 32,
   "metadata": {
    "pycharm": {
     "name": "#%%\n",
     "is_executing": false
    }
   },
   "outputs": [
    {
     "name": "stdout",
     "text": [
      "87.726086 for 907 is wine bottle\n",
      "2.894725 for 720 is pill bottle\n",
      "1.792141 for 440 is beer bottle\n",
      "1.730794 for 966 is red wine\n",
      "0.727025 for 558 is flute, transverse flute\n",
      "Where truth is 691 named: oxygen mask\n",
      "in dataset n04591713\n",
      "in class_to_idx 691\n",
      "in targets 27\n",
      "691\n"
     ],
     "output_type": "stream"
    }
   ],
   "source": [
    "from imagenet_classes import imagenet_classes\n",
    "\n",
    "vals = top.values.tolist()\n",
    "ind = top.indices.tolist()\n",
    "targ = target.tolist()[0]\n",
    "for i in range(len(vals)):\n",
    "    print(\"{:3f} for {} is {}\".format(vals[i]*100, ind[i], imagenet_classes[ind[i]]))\n",
    "    \n",
    "print(\"Where truth is {} named: {}\".format(targ, imagenet_classes[targ]))    \n",
    "print(\"in dataset {}\".format(dataset.classes[targ]))\n",
    "\n",
    "\n",
    "print(\"in class_to_idx {}\".format(dataset.class_to_idx[dataset.classes[targ]]))\n",
    "print(\"in targets {}\".format(dataset.targets[targ]))\n",
    "print(list(dataset.class_to_idx.keys()).index(dataset.classes[targ]))"
   ]
  },
  {
   "cell_type": "code",
   "execution_count": 33,
   "metadata": {
    "pycharm": {
     "is_executing": false
    }
   },
   "outputs": [
    {
     "data": {
      "text/plain": "<Figure size 432x288 with 1 Axes>",
      "image/png": "[encoded data removed]"
     },
     "metadata": {
      "needs_background": "light"
     },
     "output_type": "display_data"
    }
   ],
   "source": [
    "import matplotlib.pyplot as plt\n",
    "import kornia\n",
    "\n",
    "norm = kornia.denormalize(inputs[0].cpu(), mean=torch.FloatTensor([0.485, 0.456, 0.406]),\n",
    "                                 std=torch.FloatTensor([0.229, 0.224, 0.225]))\n",
    "conv = torchvision.transforms.ToPILImage(mode='RGB')\n",
    "plt.imshow(conv(norm.squeeze()))\n",
    "plt.savefig('out.png')\n",
    "plt.show()"
   ]
  },
  {
   "cell_type": "code",
   "execution_count": null,
   "outputs": [],
   "source": [
    "print(dataset.classes[4])"
   ],
   "metadata": {
    "collapsed": false,
    "pycharm": {
     "name": "#%%\n"
    }
   }
  },
  {
   "cell_type": "code",
   "execution_count": null,
   "outputs": [],
   "source": [
    "# print(dataset.imgs.index('/home/bohumil/FIIT/BP/BP/Zdroje_kod/imagenet/train/n01440764/n01494475_6702.JPEG'))\n",
    "\n",
    "[item for item in dataset.imgs if '/home/bohumil/FIIT/BP/BP/Zdroje_kod/imagenet/train/n02666196/n02666196_17054.JPEG' in item]"
   ],
   "metadata": {
    "collapsed": false,
    "pycharm": {
     "name": "#%%\n"
    }
   }
  },
  {
   "cell_type": "code",
   "execution_count": 13,
   "outputs": [],
   "source": [
    "old = dict(enumerate(dataset.classes)) \n",
    "  \n",
    "new_class_to_idx = dict([(value, key) for key, value in old.items()]) "
   ],
   "metadata": {
    "collapsed": false,
    "pycharm": {
     "name": "#%%\n",
     "is_executing": false
    }
   }
  },
  {
   "cell_type": "code",
   "execution_count": 15,
   "outputs": [],
   "source": [
    "new_class_to_idx\n",
    "\n",
    "dataset.class_to_idx = new_class_to_idx"
   ],
   "metadata": {
    "collapsed": false,
    "pycharm": {
     "name": "#%%\n",
     "is_executing": false
    }
   }
  },
  {
   "cell_type": "code",
   "execution_count": null,
   "metadata": {
    "pycharm": {
     "name": "#%%\n"
    }
   },
   "outputs": [],
   "source": [
    "torch.save(model.state_dict(), '.chckpt/resnet18_hub.st')"
   ]
  },
  {
   "cell_type": "code",
   "execution_count": 34,
   "outputs": [],
   "source": [
    "from torchvision import transforms\n",
    "# from torch.utils.data import DataLoader\n",
    "\n",
    "normalize = transforms.Normalize(mean=[0.485, 0.456, 0.406],\n",
    "                                 std=[0.229, 0.224, 0.225])\n",
    "preprocessing = transforms.Compose([\n",
    "    transforms.Resize(256),\n",
    "    transforms.CenterCrop(224),\n",
    "    transforms.ToTensor(),\n",
    "    normalize,\n",
    "])\n",
    "\n",
    "batch_size = 1\n",
    "num_workers = 1\n",
    "dataset2 = torchvision.datasets.ImageFolder('/home/bohumil/FIIT/BP/BP/Zdroje_kod/imagenet_deb/train'\n",
    "                                           ,preprocessing)\n",
    " \n",
    "dataloader2 = torch.utils.data.DataLoader(dataset2,batch_size=batch_size,\n",
    "                                         num_workers=num_workers,shuffle=True)"
   ],
   "metadata": {
    "collapsed": false,
    "pycharm": {
     "name": "#%%\n",
     "is_executing": false
    }
   }
  },
  {
   "cell_type": "code",
   "execution_count": 35,
   "outputs": [
    {
     "name": "stdout",
     "text": [
      "Top1-Acc 0.0 Top5-Acc 0.0\n"
     ],
     "output_type": "stream"
    },
    {
     "data": {
      "text/plain": "tensor([[-4.5842e+00, -2.3985e+00, -3.3450e+00, -5.6480e+00, -2.5133e+00,\n         -4.2481e+00, -3.3082e+00,  4.0641e-01,  1.2471e-01, -3.6378e+00,\n         -1.3684e+00,  1.7891e-01, -1.3314e+00, -1.7268e+00, -2.8343e+00,\n         -1.3018e+00,  1.6668e+00, -1.9638e+00, -5.0561e-01,  7.2624e-02,\n         -2.9143e+00, -1.4867e+00, -6.0885e-01, -1.1673e+00, -3.4213e+00,\n          1.0523e+00, -1.0522e+00, -4.5244e-01,  6.0226e-01, -3.4903e+00,\n         -9.2159e-01, -5.2509e-01, -1.6108e+00, -2.7350e+00, -4.3273e+00,\n         -1.7142e+00,  5.8224e-01,  5.0186e-01, -1.1463e+00,  1.4119e+00,\n         -7.4603e-03, -1.6302e+00, -9.6837e-01, -9.4190e-01, -7.2328e-02,\n          9.1536e-01,  1.2071e-01, -4.1582e-02, -2.4519e+00, -3.3043e-01,\n         -1.1315e+00, -7.9246e-01, -9.9173e-01,  1.5823e+00, -2.1295e-01,\n         -4.8392e-01,  8.6798e-01, -7.3140e-01, -2.4332e+00, -1.9822e-01,\n          5.1447e-01,  1.6185e+00, -3.8470e-01, -1.3381e+00, -5.0998e-01,\n         -6.8487e-01, -2.4183e-01,  5.4129e-01, -7.3659e-01, -6.2950e-02,\n         -2.0361e+00,  1.7193e+00, -8.3506e-01, -2.5524e+00, -1.8816e+00,\n         -2.1081e+00,  1.6227e+00, -2.2193e-01, -7.7977e-01,  2.1943e+00,\n         -2.7093e+00, -2.4531e+00, -1.7741e+00, -2.3530e+00, -1.1076e+00,\n         -1.2552e+00, -1.3821e+00, -8.4149e-01, -7.0921e-01, -1.3678e+00,\n         -3.0815e-01, -8.7060e-01, -1.6205e+00,  4.4369e-01, -8.2655e-01,\n         -2.7722e+00,  2.2374e+00, -2.7039e+00, -4.8924e+00, -3.2293e+00,\n         -4.6311e+00, -3.6089e+00, -3.4564e+00, -2.2008e+00, -3.4498e+00,\n         -3.8628e+00, -5.1542e+00, -2.3076e+00, -3.3809e-01, -1.0780e+00,\n         -3.2232e-01, -6.6988e-01,  3.6962e+00,  1.9090e+00,  2.7932e-01,\n         -7.3638e-01, -3.9666e-01, -1.9569e+00,  5.9260e-01,  1.7895e-01,\n         -4.4392e-01, -9.0731e-01,  1.1732e+00, -1.1095e+00,  2.6479e-01,\n         -9.3657e-01,  9.2023e-01, -3.3458e+00, -4.3607e+00, -3.0172e+00,\n         -4.8092e+00, -4.8442e+00, -2.9063e+00, -3.3549e+00, -3.6365e+00,\n         -3.6286e+00, -4.4085e+00, -5.6975e+00, -3.7822e+00, -2.1067e+00,\n         -2.7450e+00, -3.1044e+00, -3.0325e+00, -1.6128e+00, -3.5080e+00,\n         -2.1559e+00, -4.7597e+00, -7.2000e+00, -5.7097e+00, -6.2525e+00,\n         -2.8514e+00, -5.0126e-01, -3.6713e+00, -3.8372e+00, -2.4382e+00,\n         -2.4507e+00, -2.5248e+00, -1.7929e+00, -2.4790e+00, -2.5199e+00,\n         -4.1990e+00, -1.4883e+00, -1.8079e+00, -1.3211e+00, -2.6315e+00,\n         -2.6265e+00, -2.7124e+00, -2.4434e+00, -2.8892e+00, -3.7759e+00,\n         -3.0130e+00, -1.1519e+00, -2.9152e+00, -2.1551e+00, -2.4242e+00,\n         -3.0374e+00, -3.6764e+00, -3.6769e+00, -1.6532e+00, -4.0436e+00,\n         -3.8241e+00, -1.7182e+00, -6.6958e-01, -1.8369e+00, -1.9129e+00,\n         -1.6031e-01,  2.4356e-01, -2.2301e+00, -3.0227e+00, -1.6478e+00,\n         -3.4049e+00, -7.9544e-01, -3.1630e+00, -3.2408e+00, -4.2570e+00,\n         -2.0952e-02, -3.3497e+00, -3.2307e+00, -3.7628e+00, -2.4752e+00,\n         -3.9241e+00, -1.6034e-01, -1.3387e+00, -3.3653e+00, -2.2620e+00,\n         -3.5516e+00, -2.4178e+00, -2.3745e+00, -3.1025e+00, -2.6071e+00,\n         -2.7389e+00, -9.1088e-01, -2.7595e+00, -1.0617e+00, -4.8692e-01,\n         -1.6705e+00, -1.7897e+00, -5.7829e-02, -1.3334e+00, -1.5828e+00,\n         -7.8373e-01, -2.0564e+00, -3.2435e+00, -6.7396e-01, -2.6731e+00,\n         -3.3623e+00, -3.9525e+00, -3.1036e+00, -4.2412e+00, -3.8576e+00,\n         -2.8053e+00, -3.3277e+00, -2.3408e+00, -2.9083e+00, -1.9609e+00,\n         -2.2776e+00, -1.0090e+00, -2.0377e+00, -8.5271e-01, -2.2022e+00,\n          4.7463e-01, -1.2769e+00, -1.6454e+00, -2.3567e+00, -3.8127e+00,\n         -3.4583e+00, -3.2919e+00, -1.9754e+00, -3.3209e+00, -6.2141e+00,\n         -4.8337e+00, -4.0394e+00, -1.9695e+00, -6.9962e-01, -1.3995e+00,\n         -2.5190e+00, -3.3407e+00, -3.6456e+00, -4.6078e+00, -2.5055e+00,\n         -5.4067e+00, -3.7536e+00, -2.0990e+00, -3.3005e+00, -2.5275e+00,\n         -8.7154e-01, -2.4754e+00, -2.1910e+00, -1.6473e+00, -4.3169e+00,\n         -4.8334e+00, -4.3484e+00, -3.8962e+00, -2.9047e+00, -6.1849e+00,\n         -3.8014e+00, -6.5527e+00, -3.4552e+00, -4.3691e+00, -3.4678e+00,\n         -4.5158e+00, -2.5884e+00, -3.5786e+00, -2.7883e+00, -7.9168e-01,\n         -1.8674e+00, -3.5467e+00, -5.0256e+00, -2.8095e+00, -4.8789e+00,\n         -3.4639e+00, -3.6495e+00, -3.2490e+00, -5.7771e+00, -4.0032e+00,\n         -3.9460e+00, -4.1134e+00, -3.3713e+00, -3.2323e+00, -1.0900e+00,\n         -2.3414e+00, -1.8815e-01, -1.5660e+00,  4.7739e-01, -2.4526e+00,\n         -9.0779e-01, -7.2993e-01, -9.1117e-01, -1.5843e+00,  1.5670e+00,\n          1.2531e+00,  1.1181e+00, -8.5272e-01,  6.9226e-01,  1.8082e+00,\n          9.0191e-01, -1.7409e+00, -1.9003e+00, -2.8473e+00, -1.4205e-01,\n         -1.7606e+00,  7.1642e-01, -2.8326e+00, -1.3346e+00, -1.6028e-01,\n          8.4525e-01, -1.2422e+00, -6.0186e-01,  8.3040e-01, -2.4709e+00,\n         -3.8392e+00, -3.9657e+00, -3.2927e+00, -2.3792e+00, -1.5319e+00,\n         -3.3590e+00, -1.1995e+00, -3.2706e+00, -1.6675e+00, -5.2254e+00,\n         -5.9348e+00, -3.8449e+00, -4.3176e+00, -3.9134e+00, -5.9134e+00,\n         -1.0441e+00, -4.7699e+00, -4.0966e+00, -2.8904e+00, -2.4314e+00,\n         -3.3581e+00, -4.8145e+00, -4.2262e+00, -4.3819e+00, -2.3681e+00,\n         -1.7402e+00, -9.5039e-01, -3.7439e+00, -1.0503e+00, -1.5727e+00,\n         -3.8878e+00, -3.7316e-01, -2.0602e+00, -2.0398e+00, -3.2510e+00,\n          3.5347e-02, -3.2076e+00, -2.2124e-01, -1.6167e+00, -1.1045e+00,\n         -8.8254e-01, -4.1250e+00, -3.5290e+00, -1.7962e+00, -1.1790e+00,\n         -9.3351e-01, -2.6626e+00,  3.4406e-01, -1.0701e+00, -1.6290e+00,\n         -1.1841e+00, -1.6390e+00, -1.0573e-01, -2.0014e+00, -1.3814e+00,\n         -2.7590e+00, -4.0715e+00, -3.7694e+00, -3.0054e+00, -5.3593e+00,\n         -1.8791e+00, -1.8302e+00, -2.3656e+00,  2.6267e+00, -4.7298e+00,\n         -4.0196e+00, -1.3585e+00, -2.2878e+00,  9.2714e+00,  1.1814e+00,\n          3.0544e+00,  6.1216e+00,  5.3954e+00, -2.4210e+00, -3.6275e+00,\n         -2.9843e+00,  6.7015e-01, -4.2987e+00, -3.6370e+00,  2.6504e+00,\n          5.1829e+00, -5.8734e-01,  7.8790e-01,  3.2634e+00,  8.3567e-02,\n          4.8729e+00,  4.1808e-01,  5.5577e-03,  5.0442e+00,  3.5714e+00,\n          3.5643e+00,  3.2367e+00,  2.1618e+00,  8.0312e-01,  4.8132e+00,\n         -2.4970e+00,  4.3872e+00,  3.8578e+00, -8.9676e-01,  4.0703e+00,\n          8.4438e-01, -3.6720e+00,  5.7341e+00, -7.1746e-01,  1.1167e+00,\n         -3.5003e-01, -2.5011e+00, -2.1176e+00,  2.6247e+00,  2.6870e-01,\n          1.0480e+01,  6.4667e+00, -6.5753e-01, -1.4512e-01, -3.2585e+00,\n         -1.3010e+00,  3.1313e+00,  6.4623e+00,  8.0037e-01, -1.3002e+00,\n         -9.9760e-01,  1.0203e+00, -1.4993e+00,  3.7107e-01,  4.7237e+00,\n          8.2843e+00,  1.2001e+00,  3.3353e+00,  1.2822e+00,  7.1705e-01,\n         -1.9025e+00,  2.6750e-01,  1.2751e+00,  1.9453e+00,  5.1985e+00,\n         -1.6071e+00, -3.4957e+00,  2.6030e+00,  3.3528e+00,  1.0529e+00,\n          5.1546e+00,  2.2263e+00, -1.8832e+00,  3.1375e+00,  1.2283e-01,\n         -6.2256e-01, -2.8288e+00,  3.8689e+00,  2.6991e+00, -1.7322e+00,\n         -6.5791e-01,  3.5085e+00,  1.7232e+00, -8.6843e-01, -5.4076e+00,\n          5.3611e-01,  2.7886e+00,  4.3186e+00,  8.0131e+00,  5.1389e+00,\n          6.9002e+00,  1.6038e+00,  4.4210e+00, -1.9004e+00,  6.3923e+00,\n         -1.6394e+00,  1.1229e+00, -6.6296e-01,  3.7157e+00,  4.1717e+00,\n         -5.3160e-01,  9.1212e-01,  2.5634e+00,  4.3201e+00,  4.0762e+00,\n          1.8958e+00,  5.3853e+00,  7.4737e+00,  4.5934e+00,  6.1294e+00,\n         -1.6515e+00, -3.0418e+00,  8.5814e+00,  6.2989e+00,  9.4340e-01,\n          2.7999e+00, -1.1356e-01, -3.7534e-02, -2.1684e+00,  2.9805e+00,\n         -5.0828e-01,  2.2521e-01,  1.9550e+00,  2.9274e+00,  4.5455e-01,\n         -1.6039e+00,  4.1388e-01, -1.0195e+00,  4.9313e+00, -1.3647e+00,\n          3.3798e+00,  4.8048e+00, -1.1090e-01,  1.2363e+00,  5.1354e-01,\n         -6.4076e-01, -9.2857e-01, -3.7593e+00, -7.9858e-01,  8.3231e-01,\n         -1.5822e+00,  5.8800e+00,  7.1013e+00,  5.7784e+00, -4.7166e-01,\n         -3.9449e-01,  4.9326e+00, -5.0934e+00, -3.3707e+00,  3.9804e+00,\n          1.8462e+00,  2.5158e+00, -4.6059e-01,  9.0263e-01, -4.9115e+00,\n         -2.1163e+00, -2.9825e-01,  8.6849e-02,  9.5776e+00,  1.0226e+00,\n          1.3909e-01,  5.2357e-01, -2.3722e-01,  7.8080e+00, -3.1709e-01,\n         -1.0630e+00,  4.7695e+00,  8.5992e-02, -2.5612e-01, -3.7014e-01,\n          3.5084e+00,  1.2818e+00,  4.0426e+00, -4.7763e-01,  9.0344e-01,\n         -3.5063e+00, -1.4366e+00,  3.2109e+00,  5.7614e-01,  4.7107e+00,\n          4.2683e-01, -1.3250e+00,  5.9298e+00,  2.4075e+00,  2.4213e+00,\n          7.0281e+00, -3.4694e-02,  6.0967e+00,  2.5074e+00,  2.2541e+00,\n          2.2415e+00,  2.2929e+00,  3.6097e+00,  5.5310e+00,  4.8237e+00,\n         -1.7488e+00,  3.3596e+00,  1.2236e+00,  1.3359e-01,  5.7863e+00,\n          2.9215e+00, -2.3099e+00,  6.2050e-01, -4.2016e+00,  4.0717e+00,\n          3.7287e+00,  4.7317e+00, -1.2413e+00,  2.5159e+00, -3.2932e+00,\n          1.9342e+00,  4.9168e+00, -1.4060e+00,  2.9964e+00,  5.8247e-01,\n         -2.4872e+00,  3.7489e+00,  1.5526e+00,  3.3244e+00,  3.5137e+00,\n          1.9227e+00,  5.6873e-02,  4.2163e+00,  4.6924e+00,  3.5122e+00,\n         -6.0528e+00,  6.8652e+00, -2.7044e+00, -8.8136e-01,  7.8549e+00,\n          8.8592e-01,  6.0691e+00, -3.9275e-01,  5.8456e+00,  3.6001e+00,\n          2.7265e+00,  1.7825e+00,  2.5037e+00, -1.1979e+00, -2.2030e+00,\n         -2.8881e+00,  3.1365e+00,  5.4919e+00,  2.3009e+00,  7.1467e+00,\n         -2.2699e+00,  3.2241e+00,  1.0317e+00,  3.9633e+00, -2.7214e+00,\n          6.4633e+00, -1.7344e+00,  1.5284e+00,  1.8036e+00, -3.5931e+00,\n         -1.8183e-01, -4.0511e+00,  6.2493e-01, -6.9225e-01, -4.4872e-02,\n         -2.4043e+00, -2.6538e+00,  1.2255e+00, -1.0413e+00, -1.4263e-01,\n         -1.4860e+00,  4.6041e+00,  4.3384e+00, -1.1737e+00, -2.5552e+00,\n         -2.1300e-01, -9.5334e-01, -2.1741e+00,  2.4484e+00,  3.5823e+00,\n         -3.3129e+00, -1.6254e+00,  6.3641e+00, -2.3356e+00,  5.7936e+00,\n          1.3315e+00,  2.2783e+00,  3.9793e-01,  9.5678e+00,  1.3226e+00,\n         -1.3192e+00,  3.5829e+00,  6.2425e+00,  1.8134e+00, -3.1623e+00,\n         -3.4654e+00,  4.2699e-01,  4.8544e+00,  4.1645e-01, -1.7447e+00,\n          8.8831e+00,  6.3874e+00, -1.8168e+00, -1.2946e-01,  7.0060e+00,\n          2.8271e+00, -2.3698e+00,  8.7784e-03,  1.3515e-01,  2.7562e+00,\n         -3.7883e+00, -1.3403e+00,  1.9088e+00, -1.6083e-01,  2.0647e+00,\n          5.8616e+00,  8.3454e+00,  2.0200e+00, -2.4539e-01,  6.3779e+00,\n         -1.1517e+00,  5.6498e-01, -3.4726e+00, -1.1864e+00,  2.7938e+00,\n          1.0959e+01,  5.5845e-01,  2.7619e+00,  4.3191e-01, -1.8993e+00,\n          2.0047e-01,  3.5723e+00, -9.1700e-01, -2.7313e-01,  1.8753e-02,\n         -2.3282e+00,  2.8458e+00,  8.7820e-01,  3.5551e+00, -4.4411e+00,\n         -3.0670e-01,  2.3734e+00,  6.7474e+00,  3.0518e-01,  1.7886e+00,\n          4.5975e+00,  3.9213e+00,  1.5704e+00,  1.7247e+00,  1.8194e+00,\n          1.1148e+00,  1.0353e+00,  2.2919e+00,  2.1786e+00,  6.7973e+00,\n          1.3674e+00, -1.5608e+00, -1.1735e-01,  3.2105e+00,  2.9795e+00,\n         -2.8997e+00, -4.9623e-01, -4.0072e+00,  5.2567e+00,  2.2209e+00,\n          4.1866e+00,  4.2976e+00,  3.4812e+00,  7.3100e+00,  5.6762e+00,\n          1.8244e-01,  9.1441e-01,  7.4120e+00, -1.4682e-01,  3.9807e+00,\n          2.0946e+00,  2.9805e+00,  4.4526e+00,  3.3842e+00,  2.4981e+00,\n         -1.0792e+00,  5.3699e+00,  4.2135e+00,  4.2862e+00, -1.1196e+00,\n         -3.3500e+00, -1.8040e+00, -3.6890e-01,  6.1995e+00,  6.7614e+00,\n          4.0480e-02,  3.2697e+00,  1.3399e+00,  5.3083e+00,  7.7236e-01,\n          6.3395e-01,  1.8952e+00,  1.0268e-02, -1.1014e+00,  7.8936e-01,\n         -1.5497e+00, -9.1399e-01, -9.3576e-01,  4.5636e+00, -1.2384e+00,\n          1.4304e+00, -2.8071e+00, -3.5655e+00, -2.8050e+00,  4.7517e-01,\n         -1.9022e+00,  4.2396e-01, -2.2836e+00,  3.2518e+00,  9.6509e-01,\n          4.1477e+00,  6.9754e-01, -1.8125e+00,  2.6463e+00, -4.8547e+00,\n          1.7330e-01,  4.2996e+00, -2.9910e+00,  3.9116e+00,  4.3052e+00,\n         -2.8470e+00, -4.5511e+00,  2.2466e+00,  3.6514e+00,  1.9156e+00,\n         -1.6445e+00,  6.0504e+00,  1.3850e+00,  2.8859e+00, -2.6181e+00,\n         -4.1380e-01,  6.3899e-01,  1.0934e-01, -4.2465e+00, -6.4371e-01,\n          3.4147e+00,  1.8431e+00,  1.9290e+00,  4.6230e+00, -1.9227e+00,\n          3.3453e+00,  3.0747e-01, -3.2439e+00,  8.7936e-01,  5.6181e+00,\n          8.0798e+00,  1.8980e+00,  2.2278e+00,  1.9022e+00,  2.2828e+00,\n          1.7749e-01, -1.1628e+00,  2.0137e+00,  2.4640e+00,  2.5438e+00,\n          6.5273e+00, -2.3884e+00,  6.8604e-01,  6.2508e+00,  1.9828e+00,\n          6.5719e+00, -5.7167e-02,  4.3982e+00, -9.5233e-01, -9.4453e-01,\n          7.8506e-01, -1.7332e+00, -1.9994e+00,  1.6335e+00, -1.6869e+00,\n         -2.9268e-01, -5.2921e+00,  5.7505e+00, -3.8572e-01, -6.0583e+00,\n          3.1634e+00,  2.6010e-02, -1.5175e+00,  8.0862e+00,  8.2682e-01,\n         -1.6509e+00,  6.7077e+00,  2.7597e+00,  3.2450e-01,  1.2431e+00,\n          5.1896e-01,  6.7792e-01,  1.8523e+00, -3.6171e+00,  4.5822e+00,\n          1.9626e+00,  1.9332e+00,  1.8297e+00,  2.6847e+00, -1.2281e+00,\n         -2.0823e+00,  3.6606e-01, -2.4921e+00,  5.9793e+00,  1.5398e+00,\n         -3.0220e+00,  1.4087e+00,  6.7021e+00,  1.7570e+00, -1.0673e+00,\n          7.2678e-02,  1.6631e-01,  1.4371e+01, -1.8530e+00,  2.6128e+00,\n          3.2571e+00,  2.6460e+00,  3.6745e-01, -9.1616e-01, -5.1753e+00,\n         -2.0204e+00,  1.2166e+00,  3.8678e+00,  6.7924e+00, -7.3289e-01,\n          2.2946e+00,  2.7571e+00,  4.2780e+00,  1.2017e+00,  1.5204e+00,\n         -5.8607e-01,  1.5078e+00,  1.5258e+00,  1.8763e+00,  2.4781e+00,\n          1.9593e+00,  2.9065e+00,  5.4569e+00,  6.0779e-01,  2.8193e+00,\n          1.0457e+00,  7.8627e-01,  1.8176e+00,  5.1892e-01, -8.6755e-01,\n          7.2617e-01,  1.1050e+00,  8.6246e-01,  4.8754e-01,  7.4630e-01,\n         -5.6890e-01, -2.9637e+00,  2.7933e+00,  1.6279e+00, -1.3437e+00,\n          8.8512e-01,  1.8893e+00,  8.4718e-01, -3.4153e-01,  2.6848e+00,\n          2.1882e-01, -1.1590e+00,  6.3057e-02,  3.5829e-01,  3.6795e-01,\n          4.4954e+00,  2.8379e+00,  6.0758e-01, -1.0936e+00,  3.9416e-01,\n          2.3078e+00,  1.0445e+01,  5.9752e+00,  4.8373e+00,  6.3401e+00,\n         -3.1232e+00,  4.7866e+00, -2.2004e+00, -6.9696e-01, -4.4425e+00,\n         -1.8081e+00, -5.5725e+00, -2.2597e+00, -1.1883e+00, -2.7962e+00,\n         -2.1143e+00,  1.1710e+00,  2.9076e+00, -1.8183e+00,  9.8380e-01,\n          9.2739e-02, -2.3757e+00,  3.4455e+00,  3.0759e+00, -2.9594e-01,\n          4.0566e+00,  5.2613e-01,  1.4878e-01, -1.7829e+00,  9.4156e-01,\n         -1.1427e+00,  1.2254e+00,  1.3940e+00,  2.9204e+00,  3.5693e+00]],\n       device='cuda:0')"
     },
     "metadata": {},
     "output_type": "execute_result",
     "execution_count": 35
    }
   ],
   "source": [
    "from copy import deepcopy\n",
    "model.eval()\n",
    "it2 = iter(dataloader2)\n",
    "inputs2, target2 = next(it)\n",
    "target_copy2 = deepcopy(target2)\n",
    "model.to('cuda')\n",
    "classerr = tnt.meter.ClassErrorMeter(accuracy=True, topk=(1, 5))\n",
    "\n",
    "# for i in range(5):\n",
    "inputs2, target2 = next(it2)\n",
    "with torch.no_grad():\n",
    "        inputs2, target2 = inputs2.to('cuda'), target2.to('cuda')\n",
    "        # compute output from model\n",
    "        output2 = model(inputs2)\n",
    "        classerr.add(output2, target2)\n",
    "        print('Top1-Acc {} Top5-Acc {}'.format(classerr.value(1), classerr.value(5)))\n",
    "        \n",
    "output2"
   ],
   "metadata": {
    "collapsed": false,
    "pycharm": {
     "name": "#%%\n",
     "is_executing": false
    }
   }
  },
  {
   "cell_type": "code",
   "execution_count": 36,
   "outputs": [
    {
     "data": {
      "text/plain": "torch.Size([1, 1000])"
     },
     "metadata": {},
     "output_type": "execute_result",
     "execution_count": 36
    }
   ],
   "source": [
    "output2.shape"
   ],
   "metadata": {
    "collapsed": false,
    "pycharm": {
     "name": "#%%\n",
     "is_executing": false
    }
   }
  },
  {
   "cell_type": "code",
   "execution_count": 37,
   "outputs": [],
   "source": [
    "soft2 = torch.nn.functional.softmax(output2[0], dim= 0)\n",
    "\n",
    "top2 = torch.topk(soft2, 5)"
   ],
   "metadata": {
    "collapsed": false,
    "pycharm": {
     "name": "#%%\n",
     "is_executing": false
    }
   }
  },
  {
   "cell_type": "code",
   "execution_count": 38,
   "outputs": [
    {
     "data": {
      "text/plain": "torch.return_types.topk(\nvalues=tensor([0.8773, 0.0289, 0.0179, 0.0173, 0.0073], device='cuda:0'),\nindices=tensor([907, 720, 440, 966, 558], device='cuda:0'))"
     },
     "metadata": {},
     "output_type": "execute_result",
     "execution_count": 38
    }
   ],
   "source": [
    "top2"
   ],
   "metadata": {
    "collapsed": false,
    "pycharm": {
     "name": "#%%\n",
     "is_executing": false
    }
   }
  },
  {
   "cell_type": "code",
   "execution_count": 39,
   "outputs": [
    {
     "name": "stdout",
     "text": [
      "0.0 0.0\n"
     ],
     "output_type": "stream"
    }
   ],
   "source": [
    "classer2 = tnt.meter.ClassErrorMeter(accuracy=True, topk=(1, 5))\n",
    "classer2.add(output2[0],target2[0])\n",
    "print(classer2.value(1),classer2.value(5))"
   ],
   "metadata": {
    "collapsed": false,
    "pycharm": {
     "name": "#%%\n",
     "is_executing": false
    }
   }
  },
  {
   "cell_type": "code",
   "execution_count": 40,
   "outputs": [
    {
     "name": "stdout",
     "text": [
      "87.726086 for 907 is wine bottle\n",
      "2.894725 for 720 is pill bottle\n",
      "1.792141 for 440 is beer bottle\n",
      "1.730794 for 966 is red wine\n",
      "0.727025 for 558 is flute, transverse flute\n",
      "Where truth is 0 named: tench, Tinca tinca\n",
      "in dataset n04591713\n",
      "in class_to_idx 0\n",
      "in targets 0\n"
     ],
     "output_type": "stream"
    },
    {
     "traceback": [
      "\u001b[0;31m---------------------------------------------------------------------------\u001b[0m",
      "\u001b[0;31mIndexError\u001b[0m                                Traceback (most recent call last)",
      "\u001b[0;32m<ipython-input-40-697ccb3e1a70>\u001b[0m in \u001b[0;36m<module>\u001b[0;34m\u001b[0m\n\u001b[1;32m     13\u001b[0m \u001b[0mprint\u001b[0m\u001b[0;34m(\u001b[0m\u001b[0;34m\"in class_to_idx {}\"\u001b[0m\u001b[0;34m.\u001b[0m\u001b[0mformat\u001b[0m\u001b[0;34m(\u001b[0m\u001b[0mdataset2\u001b[0m\u001b[0;34m.\u001b[0m\u001b[0mclass_to_idx\u001b[0m\u001b[0;34m[\u001b[0m\u001b[0mdataset2\u001b[0m\u001b[0;34m.\u001b[0m\u001b[0mclasses\u001b[0m\u001b[0;34m[\u001b[0m\u001b[0mtarg2\u001b[0m\u001b[0;34m]\u001b[0m\u001b[0;34m]\u001b[0m\u001b[0;34m)\u001b[0m\u001b[0;34m)\u001b[0m\u001b[0;34m\u001b[0m\u001b[0;34m\u001b[0m\u001b[0m\n\u001b[1;32m     14\u001b[0m \u001b[0mprint\u001b[0m\u001b[0;34m(\u001b[0m\u001b[0;34m\"in targets {}\"\u001b[0m\u001b[0;34m.\u001b[0m\u001b[0mformat\u001b[0m\u001b[0;34m(\u001b[0m\u001b[0mdataset2\u001b[0m\u001b[0;34m.\u001b[0m\u001b[0mtargets\u001b[0m\u001b[0;34m[\u001b[0m\u001b[0mtarg2\u001b[0m\u001b[0;34m]\u001b[0m\u001b[0;34m)\u001b[0m\u001b[0;34m)\u001b[0m\u001b[0;34m\u001b[0m\u001b[0;34m\u001b[0m\u001b[0m\n\u001b[0;32m---> 15\u001b[0;31m \u001b[0mprint\u001b[0m\u001b[0;34m(\u001b[0m\u001b[0mlist\u001b[0m\u001b[0;34m(\u001b[0m\u001b[0mdataset2\u001b[0m\u001b[0;34m.\u001b[0m\u001b[0mclass_to_idx\u001b[0m\u001b[0;34m.\u001b[0m\u001b[0mkeys\u001b[0m\u001b[0;34m(\u001b[0m\u001b[0;34m)\u001b[0m\u001b[0;34m)\u001b[0m\u001b[0;34m.\u001b[0m\u001b[0mindex\u001b[0m\u001b[0;34m(\u001b[0m\u001b[0mdataset2\u001b[0m\u001b[0;34m.\u001b[0m\u001b[0mclasses\u001b[0m\u001b[0;34m[\u001b[0m\u001b[0mtarg\u001b[0m\u001b[0;34m]\u001b[0m\u001b[0;34m)\u001b[0m\u001b[0;34m)\u001b[0m\u001b[0;34m\u001b[0m\u001b[0;34m\u001b[0m\u001b[0m\n\u001b[0m\u001b[1;32m     16\u001b[0m \u001b[0;34m\u001b[0m\u001b[0m\n",
      "\u001b[0;31mIndexError\u001b[0m: list index out of range"
     ],
     "ename": "IndexError",
     "evalue": "list index out of range",
     "output_type": "error"
    }
   ],
   "source": [
    "from imagenet_classes import imagenet_classes\n",
    "\n",
    "vals2 = top2.values.tolist()\n",
    "ind2 = top2.indices.tolist()\n",
    "targ2 = target2.tolist()[0]\n",
    "for i in range(len(vals2)):\n",
    "    print(\"{:3f} for {} is {}\".format(vals2[i]*100, ind2[i], imagenet_classes[ind2[i]]))\n",
    "    \n",
    "print(\"Where truth is {} named: {}\".format(targ2, imagenet_classes[targ2]))    \n",
    "print(\"in dataset {}\".format(dataset2.classes[targ2]))\n",
    "\n",
    "\n",
    "print(\"in class_to_idx {}\".format(dataset2.class_to_idx[dataset2.classes[targ2]]))\n",
    "print(\"in targets {}\".format(dataset2.targets[targ2]))\n",
    "print(list(dataset2.class_to_idx.keys()).index(dataset2.classes[targ]))"
   ],
   "metadata": {
    "collapsed": false,
    "pycharm": {
     "name": "#%%\n",
     "is_executing": false
    }
   }
  },
  {
   "cell_type": "code",
   "execution_count": null,
   "outputs": [],
   "source": [
    "import matplotlib.pyplot as plt\n",
    "import kornia\n",
    "\n",
    "norm2 = kornia.denormalize(inputs2[0].cpu(), mean=torch.FloatTensor([0.485, 0.456, 0.406]),\n",
    "                                 std=torch.FloatTensor([0.229, 0.224, 0.225]))\n",
    "conv2 = torchvision.transforms.ToPILImage(mode='RGB')\n",
    "plt.imshow(conv2(norm2.squeeze()))\n",
    "plt.savefig('out2.png')\n",
    "plt.show()\n",
    "\n",
    "\n",
    "\n"
   ],
   "metadata": {
    "collapsed": false,
    "pycharm": {
     "name": "#%%\n"
    }
   }
  }
 ],
 "metadata": {
  "kernelspec": {
   "display_name": "Python 3",
   "language": "python",
   "name": "python3"
  },
  "language_info": {
   "codemirror_mode": {
    "name": "ipython",
    "version": 3
   },
   "file_extension": ".py",
   "mimetype": "text/x-python",
   "name": "python",
   "nbconvert_exporter": "python",
   "pygments_lexer": "ipython3",
   "version": "3.7.5"
  },
  "pycharm": {
   "stem_cell": {
    "cell_type": "raw",
    "source": [],
    "metadata": {
     "collapsed": false
    }
   }
  }
 },
 "nbformat": 4,
 "nbformat_minor": 1
}